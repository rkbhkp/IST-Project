{
 "cells": [
  {
   "cell_type": "code",
   "execution_count": 2,
   "id": "6f73e2a6",
   "metadata": {},
   "outputs": [],
   "source": [
    "import pandas as pd\n",
    "import numpy as np\n",
    "from sklearn.decomposition import PCA\n",
    "import matplotlib.pyplot as plt\n",
    "from sklearn.preprocessing import scale\n",
    "# to use this you will have to install pandasql to your environment\n",
    "# use: pip install pandasql\n",
    "from pandasql import sqldf as sq\n",
    "# call the lambda function pysqdf to run a querry on one of the tables using SQL, there are examples in the code further down\n",
    "pysqdf = lambda q: sq(q, globals())"
   ]
  },
  {
   "cell_type": "code",
   "execution_count": 3,
   "id": "5e03e0d6",
   "metadata": {},
   "outputs": [],
   "source": [
    "pkl_names = [    \"genomeScores\",\n",
    "        \"genomeTags\",\n",
    "        \"links\",\n",
    "        \"movies\",\n",
    "        \"tags\",\n",
    "        \"ratings\"]\n",
    "\n",
    "\n",
    "genomeScores = pd.read_pickle('pickle/genomeScores.pkl')\n",
    "genomeTags = pd.read_pickle('pickle/genomeTags.pkl')\n",
    "links = pd.read_pickle('pickle/links.pkl')\n",
    "movies = pd.read_pickle('pickle/movies.pkl')\n",
    "tags = pd.read_pickle('pickle/tags.pkl')\n",
    "#you will need to make the ratings.pkl file, watch the tutorial that Ryan Put in the discord on how to make that. \n",
    "# try - except statement, if the part in the try errors out it will run the code in except, if the try code succeeds it will not run the except code. Google search for more information\n",
    "try:\n",
    "    ratings = pd.read_pickle('pickle/ratings.pkl')\n",
    "    # creates a list of all the pkl files\n",
    "    all_pkls = [    genomeScores,\n",
    "        genomeTags,\n",
    "        links,\n",
    "        movies,\n",
    "        tags,\n",
    "        ratings]\n",
    "except: \n",
    "    print(\"there is no ratings.pkl file in the pickle folder\")\n",
    "    try:\n",
    "        ratings_csv = pd.read_csv('ml-25m/ratings.csv')\n",
    "        # if there is no pkl file for raings add it as a csv file\n",
    "        all_pkls = [    genomeScores,\n",
    "            genomeTags,\n",
    "            links,\n",
    "            movies,\n",
    "            tags,\n",
    "            ratings_csv]\n",
    "    except:\n",
    "        print(\"raings.csv not found in the folder ml-25\")\n",
    "        # if there is no csv or pkl file for ratings do not include it in the list\n",
    "        all_pkls = [    genomeScores,\n",
    "            genomeTags,\n",
    "            links,\n",
    "            movies,\n",
    "            tags]\n"
   ]
  },
  {
   "cell_type": "code",
   "execution_count": 4,
   "id": "59e07751",
   "metadata": {},
   "outputs": [],
   "source": [
    "# As it is the genres column of the movies table is delimited with |, ex: 1 \"Movie title\" action|horror\n",
    "# this changes it to be multiple rows instead it would be : 1 \"Movie Title\" action, 1 \"Movite Title\" horror\n",
    "\n",
    "movies_split = movies.loc[movies.index.repeat(movies.genres.str.count('\\|') + 1)].assign(genres=np.concatenate(movies.genres.str.split('|')))\n",
    "#movies_split.to_csv(\"movie_genres.csv\")"
   ]
  },
  {
   "cell_type": "code",
   "execution_count": 5,
   "id": "15490f47",
   "metadata": {},
   "outputs": [],
   "source": [
    "movies_split.to_csv(\"test.csv\")"
   ]
  },
  {
   "cell_type": "code",
   "execution_count": 6,
   "id": "915b4bb0",
   "metadata": {},
   "outputs": [
    {
     "data": {
      "text/html": [
       "<div>\n",
       "<style scoped>\n",
       "    .dataframe tbody tr th:only-of-type {\n",
       "        vertical-align: middle;\n",
       "    }\n",
       "\n",
       "    .dataframe tbody tr th {\n",
       "        vertical-align: top;\n",
       "    }\n",
       "\n",
       "    .dataframe thead th {\n",
       "        text-align: right;\n",
       "    }\n",
       "</style>\n",
       "<table border=\"1\" class=\"dataframe\">\n",
       "  <thead>\n",
       "    <tr style=\"text-align: right;\">\n",
       "      <th></th>\n",
       "      <th>movieId</th>\n",
       "      <th>tagId</th>\n",
       "      <th>relevance</th>\n",
       "    </tr>\n",
       "  </thead>\n",
       "  <tbody>\n",
       "    <tr>\n",
       "      <th>0</th>\n",
       "      <td>1</td>\n",
       "      <td>1</td>\n",
       "      <td>0.02875</td>\n",
       "    </tr>\n",
       "    <tr>\n",
       "      <th>1</th>\n",
       "      <td>1</td>\n",
       "      <td>2</td>\n",
       "      <td>0.02375</td>\n",
       "    </tr>\n",
       "    <tr>\n",
       "      <th>2</th>\n",
       "      <td>1</td>\n",
       "      <td>3</td>\n",
       "      <td>0.06250</td>\n",
       "    </tr>\n",
       "    <tr>\n",
       "      <th>3</th>\n",
       "      <td>1</td>\n",
       "      <td>4</td>\n",
       "      <td>0.07575</td>\n",
       "    </tr>\n",
       "    <tr>\n",
       "      <th>4</th>\n",
       "      <td>1</td>\n",
       "      <td>5</td>\n",
       "      <td>0.14075</td>\n",
       "    </tr>\n",
       "    <tr>\n",
       "      <th>...</th>\n",
       "      <td>...</td>\n",
       "      <td>...</td>\n",
       "      <td>...</td>\n",
       "    </tr>\n",
       "    <tr>\n",
       "      <th>15584443</th>\n",
       "      <td>206499</td>\n",
       "      <td>1124</td>\n",
       "      <td>0.11000</td>\n",
       "    </tr>\n",
       "    <tr>\n",
       "      <th>15584444</th>\n",
       "      <td>206499</td>\n",
       "      <td>1125</td>\n",
       "      <td>0.04850</td>\n",
       "    </tr>\n",
       "    <tr>\n",
       "      <th>15584445</th>\n",
       "      <td>206499</td>\n",
       "      <td>1126</td>\n",
       "      <td>0.01325</td>\n",
       "    </tr>\n",
       "    <tr>\n",
       "      <th>15584446</th>\n",
       "      <td>206499</td>\n",
       "      <td>1127</td>\n",
       "      <td>0.14025</td>\n",
       "    </tr>\n",
       "    <tr>\n",
       "      <th>15584447</th>\n",
       "      <td>206499</td>\n",
       "      <td>1128</td>\n",
       "      <td>0.03350</td>\n",
       "    </tr>\n",
       "  </tbody>\n",
       "</table>\n",
       "<p>15584448 rows × 3 columns</p>\n",
       "</div>"
      ],
      "text/plain": [
       "          movieId  tagId  relevance\n",
       "0               1      1    0.02875\n",
       "1               1      2    0.02375\n",
       "2               1      3    0.06250\n",
       "3               1      4    0.07575\n",
       "4               1      5    0.14075\n",
       "...           ...    ...        ...\n",
       "15584443   206499   1124    0.11000\n",
       "15584444   206499   1125    0.04850\n",
       "15584445   206499   1126    0.01325\n",
       "15584446   206499   1127    0.14025\n",
       "15584447   206499   1128    0.03350\n",
       "\n",
       "[15584448 rows x 3 columns]"
      ]
     },
     "execution_count": 6,
     "metadata": {},
     "output_type": "execute_result"
    }
   ],
   "source": [
    "genomeScores"
   ]
  },
  {
   "cell_type": "code",
   "execution_count": 7,
   "id": "9d926dc1",
   "metadata": {},
   "outputs": [
    {
     "name": "stdout",
     "output_type": "stream",
     "text": [
      "      tagId           tag\n",
      "0         1           007\n",
      "1         2  007 (series)\n",
      "2         3  18th century\n",
      "3         4         1920s\n",
      "4         5         1930s\n",
      "...     ...           ...\n",
      "1123   1124       writing\n",
      "1124   1125         wuxia\n",
      "1125   1126          wwii\n",
      "1126   1127        zombie\n",
      "1127   1128       zombies\n",
      "\n",
      "[1128 rows x 2 columns]\n"
     ]
    }
   ],
   "source": [
    "print(genomeTags)"
   ]
  },
  {
   "cell_type": "code",
   "execution_count": 8,
   "id": "510cc672",
   "metadata": {},
   "outputs": [
    {
     "name": "stdout",
     "output_type": "stream",
     "text": [
      "       movieId   imdbId    tmdbId\n",
      "0            1   114709     862.0\n",
      "1            2   113497    8844.0\n",
      "2            3   113228   15602.0\n",
      "3            4   114885   31357.0\n",
      "4            5   113041   11862.0\n",
      "...        ...      ...       ...\n",
      "62418   209157  6671244  499546.0\n",
      "62419   209159   297986   63407.0\n",
      "62420   209163  6755366  553036.0\n",
      "62421   209169   249603  162892.0\n",
      "62422   209171    55323   79513.0\n",
      "\n",
      "[62423 rows x 3 columns]\n"
     ]
    }
   ],
   "source": [
    "print( links)"
   ]
  },
  {
   "cell_type": "code",
   "execution_count": 9,
   "id": "303eacb7",
   "metadata": {},
   "outputs": [
    {
     "name": "stdout",
     "output_type": "stream",
     "text": [
      "       movieId                               title  \\\n",
      "0            1                    Toy Story (1995)   \n",
      "1            2                      Jumanji (1995)   \n",
      "2            3             Grumpier Old Men (1995)   \n",
      "3            4            Waiting to Exhale (1995)   \n",
      "4            5  Father of the Bride Part II (1995)   \n",
      "...        ...                                 ...   \n",
      "62418   209157                           We (2018)   \n",
      "62419   209159           Window of the Soul (2001)   \n",
      "62420   209163                    Bad Poems (2018)   \n",
      "62421   209169                 A Girl Thing (2001)   \n",
      "62422   209171      Women of Devil's Island (1962)   \n",
      "\n",
      "                                            genres  \n",
      "0      Adventure|Animation|Children|Comedy|Fantasy  \n",
      "1                       Adventure|Children|Fantasy  \n",
      "2                                   Comedy|Romance  \n",
      "3                             Comedy|Drama|Romance  \n",
      "4                                           Comedy  \n",
      "...                                            ...  \n",
      "62418                                        Drama  \n",
      "62419                                  Documentary  \n",
      "62420                                 Comedy|Drama  \n",
      "62421                           (no genres listed)  \n",
      "62422                       Action|Adventure|Drama  \n",
      "\n",
      "[62423 rows x 3 columns]\n"
     ]
    }
   ],
   "source": [
    "print(movies)"
   ]
  },
  {
   "cell_type": "code",
   "execution_count": 10,
   "id": "df31f3c8",
   "metadata": {},
   "outputs": [
    {
     "name": "stdout",
     "output_type": "stream",
     "text": [
      "ratings as a pkl:                  count          mean           std          min           25%  \\\n",
      "userId     25000095.0  8.118928e+04  4.679172e+04          1.0  4.051000e+04   \n",
      "movieId    25000095.0  2.138798e+04  3.919886e+04          1.0  1.196000e+03   \n",
      "rating     25000095.0  3.533854e+00  1.060744e+00          0.5  3.000000e+00   \n",
      "timestamp  25000095.0  1.215601e+09  2.268758e+08  789652009.0  1.011747e+09   \n",
      "\n",
      "                    50%           75%           max  \n",
      "userId     8.091400e+04  1.215570e+05  1.625410e+05  \n",
      "movieId    2.947000e+03  8.623000e+03  2.091710e+05  \n",
      "rating     3.500000e+00  4.000000e+00  5.000000e+00  \n",
      "timestamp  1.198868e+09  1.447205e+09  1.574328e+09  \n"
     ]
    }
   ],
   "source": [
    "try: \n",
    "    print(\"ratings as a pkl: \", ratings.describe().transpose())\n",
    "except: \n",
    "    try:\n",
    "        print(\"ratings as a csv: \", ratings_csv)\n",
    "    except: \n",
    "        print(\"ratings does not excist as a csv or a pkl, please add it\")\n"
   ]
  },
  {
   "cell_type": "code",
   "execution_count": 11,
   "id": "5ec42e09",
   "metadata": {},
   "outputs": [
    {
     "name": "stdout",
     "output_type": "stream",
     "text": [
      "         userId  movieId                  tag   timestamp\n",
      "0             3      260              classic  1439472355\n",
      "1             3      260               sci-fi  1439472256\n",
      "2             4     1732          dark comedy  1573943598\n",
      "3             4     1732       great dialogue  1573943604\n",
      "4             4     7569     so bad it's good  1573943455\n",
      "...         ...      ...                  ...         ...\n",
      "1093355  162521    66934  Neil Patrick Harris  1427311611\n",
      "1093356  162521   103341     cornetto trilogy  1427311259\n",
      "1093357  162534   189169               comedy  1527518175\n",
      "1093358  162534   189169             disabled  1527518181\n",
      "1093359  162534   189169              robbery  1527518193\n",
      "\n",
      "[1093360 rows x 4 columns]\n"
     ]
    }
   ],
   "source": [
    "print(tags)"
   ]
  },
  {
   "cell_type": "markdown",
   "id": "0123ce41",
   "metadata": {},
   "source": [
    "## Print the number of null values in every pkl file"
   ]
  },
  {
   "cell_type": "markdown",
   "id": "9f32ae59",
   "metadata": {},
   "source": []
  },
  {
   "cell_type": "code",
   "execution_count": 12,
   "id": "b1237a7e",
   "metadata": {},
   "outputs": [
    {
     "name": "stdout",
     "output_type": "stream",
     "text": [
      "The table genomeScores has 0 null values\n",
      "The table genomeTags has 0 null values\n",
      "The table links has 107 null values\n",
      "The table movies has 0 null values\n",
      "The table tags has 16 null values\n",
      "The table ratings has 0 null values\n"
     ]
    }
   ],
   "source": [
    "for iter in range(len(all_pkls)):\n",
    "        print(f\"The table {pkl_names[iter]} has {len(all_pkls[iter][all_pkls[iter].isnull().any(axis=1)])} null values\")\n"
   ]
  },
  {
   "cell_type": "markdown",
   "id": "5ea4e8cd",
   "metadata": {},
   "source": [
    "## Check for outliers in dataset"
   ]
  },
  {
   "cell_type": "code",
   "execution_count": 13,
   "id": "0ba733b5",
   "metadata": {},
   "outputs": [
    {
     "name": "stdout",
     "output_type": "stream",
     "text": [
      "   movieId  tagId  relevance\n",
      "0       44   1075    0.99975\n",
      "1      150    944    0.99975\n",
      "2      356    752    0.99975\n",
      "3      903    511    0.99975\n",
      "4      904    511    0.99975\n",
      "5      965    511    0.99975\n",
      "6     1213    741    0.99975\n",
      "7     1231    944    0.99975\n",
      "8     1241    956    0.99975\n",
      "9     1245    224    0.99975\n",
      "   movieId  tagId  relevance\n",
      "0     5789   1080    0.00025\n",
      "1     6923   1080    0.00025\n",
      "2   137062   1002    0.00025\n",
      "3   147940    219    0.00025\n",
      "4      763    119    0.00050\n",
      "5      787    106    0.00050\n",
      "6      795    680    0.00050\n",
      "7      887    119    0.00050\n",
      "8      895    104    0.00050\n",
      "9      985    119    0.00050\n"
     ]
    }
   ],
   "source": [
    "# q is a SQL query, format it like below and then you call pysqdf(q) and pass in your query \"q\" to run your query on the dataframes you specify\n",
    "# in general for SQL, words that are all capitalized are build into the SQL language, things that have lowercase letters are parts of you database/dataframe\n",
    "\n",
    "# Checking genomeScore for outliers on min and max\n",
    "# Check the top \n",
    "q = \"\"\"SELECT *\n",
    "    FROM genomeScores\n",
    "    WHERE relevance <> 1\n",
    "    ORDER BY relevance DESC\n",
    "    LIMIT 10;\"\"\"\n",
    "q2 = \"\"\"SELECT *\n",
    "    FROM genomeScores\n",
    "    WHERE relevance <> 1\n",
    "    ORDER BY relevance\n",
    "    LIMIT 10;\"\"\"\n",
    "print(pysqdf(q))\n",
    "print(pysqdf(q2))\n"
   ]
  },
  {
   "cell_type": "code",
   "execution_count": 14,
   "id": "963f43a0",
   "metadata": {},
   "outputs": [
    {
     "name": "stdout",
     "output_type": "stream",
     "text": [
      "   tagId             tag\n",
      "0   1128         zombies\n",
      "1   1127          zombie\n",
      "2   1126            wwii\n",
      "3   1125           wuxia\n",
      "4   1124         writing\n",
      "5   1123         writers\n",
      "6   1122   writer's life\n",
      "7   1121    world war ii\n",
      "8   1120     world war i\n",
      "9   1119  world politics\n",
      "   tagId           tag\n",
      "0      1           007\n",
      "1      2  007 (series)\n",
      "2      3  18th century\n",
      "3      4         1920s\n",
      "4      5         1930s\n",
      "5      6         1950s\n",
      "6      7         1960s\n",
      "7      8         1970s\n",
      "8      9         1980s\n",
      "9     10  19th century\n"
     ]
    }
   ],
   "source": [
    "# Checking genomeTags for outliers on min and max\n",
    "# Check the top \n",
    "q = \"\"\"SELECT *\n",
    "    FROM genomeTags\n",
    "    ORDER BY tag DESC\n",
    "    LIMIT 10;\"\"\"\n",
    "# Check the bottom 10\n",
    "q2 = \"\"\"SELECT *\n",
    "    FROM genomeTags\n",
    "    ORDER BY tag\n",
    "    LIMIT 10;\"\"\"\n",
    "print(pysqdf(q))\n",
    "print(pysqdf(q2))"
   ]
  },
  {
   "cell_type": "code",
   "execution_count": 15,
   "id": "17f55d98",
   "metadata": {},
   "outputs": [
    {
     "name": "stdout",
     "output_type": "stream",
     "text": [
      "   userId  movieId           tag   timestamp\n",
      "0  123527   201594       villain  1574316696\n",
      "1  123527   201594  country life  1574316682\n",
      "2  123527   201594     farmhouse  1574316680\n",
      "3  123527   201594          farm  1574316678\n",
      "4  123527   201594        kansas  1574316676\n",
      "5  123527   201594      thriller  1574316667\n",
      "6  123527   201594        sci-fi  1574316666\n",
      "7  123527   201594        horror  1574316664\n",
      "8  123527   201594          gore  1574316613\n",
      "9  123527   201594  supernatural  1574316603\n",
      "   userId  movieId              tag   timestamp\n",
      "0  129396     2788     monty python  1135429210\n",
      "1  129396     1732    coen brothers  1135429236\n",
      "2  129396     1206  stanley kubrick  1135429248\n",
      "3  129396     1193   jack nicholson  1135429371\n",
      "4  129396     5004    peter sellers  1135429399\n",
      "5  129396       47        brad pitt  1135429412\n",
      "6  129396       47   morgan freeman  1135429412\n",
      "7  129396     4011        brad pitt  1135429431\n",
      "8  129396     4011      guy ritchie  1135429431\n",
      "9  129396       32     bruce willis  1135429442\n"
     ]
    }
   ],
   "source": [
    "# Checking tags for outliers on min and max\n",
    "# Check the top 10 timestamps\n",
    "q = \"\"\"SELECT *\n",
    "    FROM tags\n",
    "    ORDER BY timestamp DESC\n",
    "    LIMIT 10;\"\"\"\n",
    "# Check the bottom 10 timestamps\n",
    "q2 = \"\"\"SELECT *\n",
    "    FROM tags\n",
    "    ORDER BY timestamp\n",
    "    LIMIT 10;\"\"\"\n",
    "print(pysqdf(q))\n",
    "print(pysqdf(q2))"
   ]
  },
  {
   "cell_type": "code",
   "execution_count": 16,
   "id": "95c90b59",
   "metadata": {},
   "outputs": [],
   "source": [
    "# Checking ratings for outliers on min and max\n",
    "# Shows a users average ratings for all their reviews and the number of reviews they have made\n",
    "q = \"\"\"SELECT userId, avg(rating) as avg_rating, count(movieId) as review_count\n",
    "    FROM ratings\n",
    "    group by userId;\"\"\"\n",
    "ratings_summary = pysqdf(q)\n"
   ]
  },
  {
   "cell_type": "code",
   "execution_count": 17,
   "id": "9fc7d51b",
   "metadata": {},
   "outputs": [],
   "source": [
    "ratings_summary.to_csv(\"ratings_summary.csv\")"
   ]
  },
  {
   "cell_type": "code",
   "execution_count": 18,
   "id": "ad3c3bcd",
   "metadata": {},
   "outputs": [
    {
     "name": "stdout",
     "output_type": "stream",
     "text": [
      "       movieId                               title  \\\n",
      "0            1                    Toy Story (1995)   \n",
      "1            2                      Jumanji (1995)   \n",
      "2            3             Grumpier Old Men (1995)   \n",
      "3            4            Waiting to Exhale (1995)   \n",
      "4            5  Father of the Bride Part II (1995)   \n",
      "...        ...                                 ...   \n",
      "62418   209157                           We (2018)   \n",
      "62419   209159           Window of the Soul (2001)   \n",
      "62420   209163                    Bad Poems (2018)   \n",
      "62421   209169                 A Girl Thing (2001)   \n",
      "62422   209171      Women of Devil's Island (1962)   \n",
      "\n",
      "                                            genres  \n",
      "0      Adventure|Animation|Children|Comedy|Fantasy  \n",
      "1                       Adventure|Children|Fantasy  \n",
      "2                                   Comedy|Romance  \n",
      "3                             Comedy|Drama|Romance  \n",
      "4                                           Comedy  \n",
      "...                                            ...  \n",
      "62418                                        Drama  \n",
      "62419                                  Documentary  \n",
      "62420                                 Comedy|Drama  \n",
      "62421                           (no genres listed)  \n",
      "62422                       Action|Adventure|Drama  \n",
      "\n",
      "[62423 rows x 3 columns]\n"
     ]
    }
   ],
   "source": [
    "# Checking movies for outliers\n",
    "# Check the top 10 timestamps\n",
    "q = \"\"\"SELECT *\n",
    "    FROM movies\n",
    "    order by movieId;\"\"\"\n",
    "print(pysqdf(q))\n"
   ]
  },
  {
   "cell_type": "code",
   "execution_count": 19,
   "id": "dcbb7437",
   "metadata": {},
   "outputs": [
    {
     "name": "stdout",
     "output_type": "stream",
     "text": [
      "       movieId   imdbId    tmdbId\n",
      "0            1   114709     862.0\n",
      "1            2   113497    8844.0\n",
      "2            3   113228   15602.0\n",
      "3            4   114885   31357.0\n",
      "4            5   113041   11862.0\n",
      "...        ...      ...       ...\n",
      "62418   209157  6671244  499546.0\n",
      "62419   209159   297986   63407.0\n",
      "62420   209163  6755366  553036.0\n",
      "62421   209169   249603  162892.0\n",
      "62422   209171    55323   79513.0\n",
      "\n",
      "[62423 rows x 3 columns]\n"
     ]
    }
   ],
   "source": [
    "# Checking links for outliers\n",
    "# Check the top 10 timestamps\n",
    "q = \"\"\"SELECT *\n",
    "    FROM links\n",
    "    order by movieId;\"\"\"\n",
    "\n",
    "print(pysqdf(q))\n"
   ]
  },
  {
   "cell_type": "markdown",
   "id": "80496709",
   "metadata": {},
   "source": [
    "#### Checking the min and max of all tables to see if there are any outliers\n",
    "\n",
    "- No noticable outliers in genomeTags for tag\n",
    "- No noticable outliers in genomeTags for relevace\n",
    "- No noticable outliers in tags for timestamps\n",
    "- No noticable outliers in the movies table\n",
    "- No noticable outliers in the links table\n",
    "- Ratings table: User 72314 has 32202 ratings for different movies, the next highest is user 80973 who has 9178 reviews and many of the higher users are closer to that number. There are also User 75308 has 5525 reviews that are all 5 stars, every other user that has all 5 star reviews are around 100 and the majority are in the 20s of reviews. There are some users that have several thousand reviews and have an average rating of less than 1 star, it could be that they are just picky so these users might not be outliers since there are more than just a few that follow this trend. \n",
    "\n",
    "\n",
    "\n"
   ]
  },
  {
   "cell_type": "markdown",
   "id": "cb849c2f",
   "metadata": {},
   "source": [
    "Make a graph that shows which tags are the most common, or if certain users review certain tags more than others\n",
    "\n",
    "## Graph showing a users average rating and the number of movies they have rated in the dataset"
   ]
  },
  {
   "cell_type": "code",
   "execution_count": 20,
   "id": "183a2ebe",
   "metadata": {},
   "outputs": [
    {
     "data": {
      "text/plain": [
       "Text(0.5, 1.0, \"User's Average Rating Over All Movies Watched\")"
      ]
     },
     "execution_count": 20,
     "metadata": {},
     "output_type": "execute_result"
    },
    {
     "data": {
      "image/png": "[encoded data removed]",
      "text/plain": [
       "<Figure size 640x480 with 1 Axes>"
      ]
     },
     "metadata": {},
     "output_type": "display_data"
    }
   ],
   "source": [
    "plt.scatter(ratings_summary['avg_rating'], ratings_summary['review_count'])\n",
    "plt.xlabel(\"Average Rating\")\n",
    "plt.ylabel(\"Number of Reviews\")\n",
    "plt.title(\"User's Average Rating Over All Movies Watched\")\n"
   ]
  },
  {
   "cell_type": "markdown",
   "id": "48cdbdd9",
   "metadata": {},
   "source": [
    "As seen in the graph above the userId: 72314 has rated 32202 different movies, which is way higher than any other user (with the next highest being userId 80973 who has 9178 reviews)."
   ]
  },
  {
   "cell_type": "markdown",
   "id": "a6a42098",
   "metadata": {},
   "source": []
  },
  {
   "cell_type": "code",
   "execution_count": 21,
   "id": "0ebb5b77",
   "metadata": {},
   "outputs": [
    {
     "data": {
      "text/plain": [
       "Text(0.5, 1.0, \"User's Average Rating Over All Movies Watched\")"
      ]
     },
     "execution_count": 21,
     "metadata": {},
     "output_type": "execute_result"
    },
    {
     "data": {
      "image/png": "[encoded data removed]",
      "text/plain": [
       "<Figure size 640x480 with 1 Axes>"
      ]
     },
     "metadata": {},
     "output_type": "display_data"
    }
   ],
   "source": [
    "fiveavg = ratings_summary.loc[(ratings_summary['avg_rating'] == 5) | (ratings_summary['avg_rating'] <= 1)]\n",
    "plt.scatter(fiveavg['avg_rating'], fiveavg['review_count'] )\n",
    "plt.xlabel(\"Average Rating <= 1 or 5.0\")\n",
    "plt.ylabel(\"Number of Reviews\")\n",
    "plt.title(\"User's Average Rating Over All Movies Watched\")"
   ]
  },
  {
   "cell_type": "markdown",
   "id": "764ed6a5",
   "metadata": {},
   "source": [
    "After looking at the above chart it seems like userId 75308 has 5525 reviews that are all 5 stars so they might be an outlier. Their data would not be very useful since they have over 5000 reviews that are all 5 stars so any analysis we do with them might skew our data. "
   ]
  },
  {
   "cell_type": "markdown",
   "id": "a64fdab5",
   "metadata": {},
   "source": [
    "## Histogram of Tags used"
   ]
  },
  {
   "cell_type": "code",
   "execution_count": 22,
   "id": "8a4072a5",
   "metadata": {},
   "outputs": [],
   "source": [
    "# Checking links for outliers\n",
    "# Check the top 10 timestamps\n",
    "\n",
    "q = \"\"\"SELECT gt.tag as gtTag, gt.tagid, t.tag\n",
    "    FROM genomeTags as gt\n",
    "    join tags as t\n",
    "    on gt.tag = t.tag;\"\"\"\n",
    "# q2 = \"\"\"SELECT *\n",
    "# FROM tags\n",
    "# where tag=\"sci-fi\";\"\"\"\n",
    "tag_count = pysqdf(q)\n",
    "# print(pysqdf(q2))"
   ]
  },
  {
   "cell_type": "code",
   "execution_count": 23,
   "id": "1336b33e",
   "metadata": {},
   "outputs": [],
   "source": [
    "tag_count_size = tag_count.groupby(tag_count.columns.tolist(),as_index=False).size()\n"
   ]
  },
  {
   "cell_type": "code",
   "execution_count": 24,
   "id": "c9fad307",
   "metadata": {},
   "outputs": [],
   "source": [
    "tag_count_size = tag_count_size.sort_values(['size'])"
   ]
  },
  {
   "cell_type": "code",
   "execution_count": 25,
   "id": "9680502e",
   "metadata": {},
   "outputs": [],
   "source": [
    "tag_count_size.to_csv(\"tag_count_sorted.csv\")\n",
    "#creates a csv of all the tages used. This is the df that is used to create the histogram bellow."
   ]
  },
  {
   "cell_type": "code",
   "execution_count": 26,
   "id": "3c74b1aa",
   "metadata": {},
   "outputs": [
    {
     "data": {
      "text/html": [
       "<div>\n",
       "<style scoped>\n",
       "    .dataframe tbody tr th:only-of-type {\n",
       "        vertical-align: middle;\n",
       "    }\n",
       "\n",
       "    .dataframe tbody tr th {\n",
       "        vertical-align: top;\n",
       "    }\n",
       "\n",
       "    .dataframe thead th {\n",
       "        text-align: right;\n",
       "    }\n",
       "</style>\n",
       "<table border=\"1\" class=\"dataframe\">\n",
       "  <thead>\n",
       "    <tr style=\"text-align: right;\">\n",
       "      <th></th>\n",
       "      <th>gtTag</th>\n",
       "      <th>tagId</th>\n",
       "      <th>tag</th>\n",
       "      <th>size</th>\n",
       "    </tr>\n",
       "  </thead>\n",
       "  <tbody>\n",
       "    <tr>\n",
       "      <th>395</th>\n",
       "      <td>francis ford copolla</td>\n",
       "      <td>407</td>\n",
       "      <td>francis ford copolla</td>\n",
       "      <td>1</td>\n",
       "    </tr>\n",
       "    <tr>\n",
       "      <th>148</th>\n",
       "      <td>boring!</td>\n",
       "      <td>156</td>\n",
       "      <td>boring!</td>\n",
       "      <td>1</td>\n",
       "    </tr>\n",
       "    <tr>\n",
       "      <th>299</th>\n",
       "      <td>disney animated feature</td>\n",
       "      <td>310</td>\n",
       "      <td>disney animated feature</td>\n",
       "      <td>1</td>\n",
       "    </tr>\n",
       "    <tr>\n",
       "      <th>284</th>\n",
       "      <td>depp &amp; burton</td>\n",
       "      <td>295</td>\n",
       "      <td>depp &amp; burton</td>\n",
       "      <td>1</td>\n",
       "    </tr>\n",
       "    <tr>\n",
       "      <th>1091</th>\n",
       "      <td>writer's life</td>\n",
       "      <td>1122</td>\n",
       "      <td>writer's life</td>\n",
       "      <td>1</td>\n",
       "    </tr>\n",
       "    <tr>\n",
       "      <th>...</th>\n",
       "      <td>...</td>\n",
       "      <td>...</td>\n",
       "      <td>...</td>\n",
       "      <td>...</td>\n",
       "    </tr>\n",
       "    <tr>\n",
       "      <th>578</th>\n",
       "      <td>lame</td>\n",
       "      <td>594</td>\n",
       "      <td>lame</td>\n",
       "      <td>48</td>\n",
       "    </tr>\n",
       "    <tr>\n",
       "      <th>115</th>\n",
       "      <td>beauty pageant</td>\n",
       "      <td>123</td>\n",
       "      <td>beauty pageant</td>\n",
       "      <td>48</td>\n",
       "    </tr>\n",
       "    <tr>\n",
       "      <th>805</th>\n",
       "      <td>rabbits</td>\n",
       "      <td>831</td>\n",
       "      <td>rabbits</td>\n",
       "      <td>48</td>\n",
       "    </tr>\n",
       "    <tr>\n",
       "      <th>791</th>\n",
       "      <td>prohibition</td>\n",
       "      <td>817</td>\n",
       "      <td>prohibition</td>\n",
       "      <td>49</td>\n",
       "    </tr>\n",
       "    <tr>\n",
       "      <th>426</th>\n",
       "      <td>glbt</td>\n",
       "      <td>440</td>\n",
       "      <td>glbt</td>\n",
       "      <td>49</td>\n",
       "    </tr>\n",
       "  </tbody>\n",
       "</table>\n",
       "<p>166 rows × 4 columns</p>\n",
       "</div>"
      ],
      "text/plain": [
       "                        gtTag  tagId                      tag  size\n",
       "395      francis ford copolla    407     francis ford copolla     1\n",
       "148                   boring!    156                  boring!     1\n",
       "299   disney animated feature    310  disney animated feature     1\n",
       "284             depp & burton    295            depp & burton     1\n",
       "1091            writer's life   1122            writer's life     1\n",
       "...                       ...    ...                      ...   ...\n",
       "578                      lame    594                     lame    48\n",
       "115            beauty pageant    123           beauty pageant    48\n",
       "805                   rabbits    831                  rabbits    48\n",
       "791               prohibition    817              prohibition    49\n",
       "426                      glbt    440                     glbt    49\n",
       "\n",
       "[166 rows x 4 columns]"
      ]
     },
     "execution_count": 26,
     "metadata": {},
     "output_type": "execute_result"
    }
   ],
   "source": [
    "tag_count_size.loc[tag_count_size['size'] < 50, ]"
   ]
  },
  {
   "cell_type": "markdown",
   "id": "fbf2f178",
   "metadata": {},
   "source": [
    "The table above is just showing that there are 166 different tags that have under 50 uses in the entire dataset. Some of these tags may not be very useful in our later analysis."
   ]
  },
  {
   "cell_type": "code",
   "execution_count": 27,
   "id": "548dff08",
   "metadata": {},
   "outputs": [
    {
     "data": {
      "text/plain": [
       "[Text(0, 0, '950'),\n",
       " Text(0, 0, '81'),\n",
       " Text(0, 0, '29'),\n",
       " Text(0, 0, '20'),\n",
       " Text(0, 0, '8'),\n",
       " Text(0, 0, '4'),\n",
       " Text(0, 0, '3'),\n",
       " Text(0, 0, '2'),\n",
       " Text(0, 0, '0'),\n",
       " Text(0, 0, '1')]"
      ]
     },
     "execution_count": 27,
     "metadata": {},
     "output_type": "execute_result"
    },
    {
     "data": {
      "image/png": "[encoded data removed]",
      "text/plain": [
       "<Figure size 640x480 with 1 Axes>"
      ]
     },
     "metadata": {},
     "output_type": "display_data"
    }
   ],
   "source": [
    "counts, edges, bars = plt.hist(tag_count_size['size'])\n",
    "plt.xlabel(\"# of times Tag Used on all Movies\")\n",
    "plt.ylabel(\"# of tags\")\n",
    "\n",
    "plt.title(\"Histogram of the numer of tags used for all movies by all users\")\n",
    "plt.bar_label(bars)\n",
    "\n"
   ]
  },
  {
   "cell_type": "markdown",
   "id": "ecfdeee2",
   "metadata": {},
   "source": [
    "The table above is a histogram that shows the number of times each tag was used. So as you can see there were 950 tags that were used less than 1000 times and only 1 tag (sci-fi) that was used around 8000 times. "
   ]
  },
  {
   "cell_type": "markdown",
   "id": "0ecb76e0",
   "metadata": {},
   "source": [
    "# Plot showing which tags were reviewed most by each user\n"
   ]
  },
  {
   "cell_type": "code",
   "execution_count": 28,
   "id": "267a2696",
   "metadata": {},
   "outputs": [
    {
     "data": {
      "text/html": [
       "<div>\n",
       "<style scoped>\n",
       "    .dataframe tbody tr th:only-of-type {\n",
       "        vertical-align: middle;\n",
       "    }\n",
       "\n",
       "    .dataframe tbody tr th {\n",
       "        vertical-align: top;\n",
       "    }\n",
       "\n",
       "    .dataframe thead th {\n",
       "        text-align: right;\n",
       "    }\n",
       "</style>\n",
       "<table border=\"1\" class=\"dataframe\">\n",
       "  <thead>\n",
       "    <tr style=\"text-align: right;\">\n",
       "      <th></th>\n",
       "      <th>userId</th>\n",
       "      <th>movieId</th>\n",
       "      <th>rating</th>\n",
       "      <th>timestamp</th>\n",
       "    </tr>\n",
       "  </thead>\n",
       "  <tbody>\n",
       "    <tr>\n",
       "      <th>0</th>\n",
       "      <td>1</td>\n",
       "      <td>296</td>\n",
       "      <td>5.0</td>\n",
       "      <td>1147880044</td>\n",
       "    </tr>\n",
       "    <tr>\n",
       "      <th>1</th>\n",
       "      <td>1</td>\n",
       "      <td>306</td>\n",
       "      <td>3.5</td>\n",
       "      <td>1147868817</td>\n",
       "    </tr>\n",
       "    <tr>\n",
       "      <th>2</th>\n",
       "      <td>1</td>\n",
       "      <td>307</td>\n",
       "      <td>5.0</td>\n",
       "      <td>1147868828</td>\n",
       "    </tr>\n",
       "    <tr>\n",
       "      <th>3</th>\n",
       "      <td>1</td>\n",
       "      <td>665</td>\n",
       "      <td>5.0</td>\n",
       "      <td>1147878820</td>\n",
       "    </tr>\n",
       "    <tr>\n",
       "      <th>4</th>\n",
       "      <td>1</td>\n",
       "      <td>899</td>\n",
       "      <td>3.5</td>\n",
       "      <td>1147868510</td>\n",
       "    </tr>\n",
       "    <tr>\n",
       "      <th>...</th>\n",
       "      <td>...</td>\n",
       "      <td>...</td>\n",
       "      <td>...</td>\n",
       "      <td>...</td>\n",
       "    </tr>\n",
       "    <tr>\n",
       "      <th>64</th>\n",
       "      <td>1</td>\n",
       "      <td>8973</td>\n",
       "      <td>4.0</td>\n",
       "      <td>1147869211</td>\n",
       "    </tr>\n",
       "    <tr>\n",
       "      <th>65</th>\n",
       "      <td>1</td>\n",
       "      <td>27193</td>\n",
       "      <td>3.0</td>\n",
       "      <td>1147879774</td>\n",
       "    </tr>\n",
       "    <tr>\n",
       "      <th>66</th>\n",
       "      <td>1</td>\n",
       "      <td>27266</td>\n",
       "      <td>4.5</td>\n",
       "      <td>1147879365</td>\n",
       "    </tr>\n",
       "    <tr>\n",
       "      <th>67</th>\n",
       "      <td>1</td>\n",
       "      <td>27721</td>\n",
       "      <td>3.0</td>\n",
       "      <td>1147869115</td>\n",
       "    </tr>\n",
       "    <tr>\n",
       "      <th>68</th>\n",
       "      <td>1</td>\n",
       "      <td>31956</td>\n",
       "      <td>3.5</td>\n",
       "      <td>1147877610</td>\n",
       "    </tr>\n",
       "  </tbody>\n",
       "</table>\n",
       "<p>69 rows × 4 columns</p>\n",
       "</div>"
      ],
      "text/plain": [
       "    userId  movieId  rating   timestamp\n",
       "0        1      296     5.0  1147880044\n",
       "1        1      306     3.5  1147868817\n",
       "2        1      307     5.0  1147868828\n",
       "3        1      665     5.0  1147878820\n",
       "4        1      899     3.5  1147868510\n",
       "..     ...      ...     ...         ...\n",
       "64       1     8973     4.0  1147869211\n",
       "65       1    27193     3.0  1147879774\n",
       "66       1    27266     4.5  1147879365\n",
       "67       1    27721     3.0  1147869115\n",
       "68       1    31956     3.5  1147877610\n",
       "\n",
       "[69 rows x 4 columns]"
      ]
     },
     "execution_count": 28,
     "metadata": {},
     "output_type": "execute_result"
    }
   ],
   "source": [
    "ratings_small = ratings.head(69)\n",
    "ratings_small"
   ]
  },
  {
   "cell_type": "code",
   "execution_count": 29,
   "id": "7755e70a",
   "metadata": {},
   "outputs": [],
   "source": [
    "q = \"\"\"select userId, genres, Max(genreCount), avg_rating from (Select s.userId, m.genres, count(m.genres) as genreCount, avg(s.rating) as avg_rating\n",
    "    from (SELECT t.userId, t.movieId, t.rating\n",
    "    FROM ratings_small as t\n",
    "    group by t.userId, t.movieId) as s\n",
    "    join movies_split as m\n",
    "    on s.movieId = m.movieId\n",
    "    group by userId, genres)as k \n",
    "    group by userId;\"\"\"\n",
    "q2 = \"\"\"Select s.userId, m.genres, count(m.genres) as genreCount, avg(s.rating) as avg_rating\n",
    "    from (SELECT t.userId, t.movieId, t.rating\n",
    "    FROM ratings_small as t\n",
    "    group by t.userId, t.movieId) as s\n",
    "    join movies_split as m\n",
    "    on s.movieId = m.movieId\n",
    "    group by userId, genres;\"\"\"\n",
    "\n",
    "q3 =   \"\"\"SELECT t.userId, t.movieId, t.rating\n",
    "    FROM ratings_small as t\n",
    "    group by t.userId, t.movieId;\"\"\"\n",
    "uid_count = pysqdf(q)\n",
    "uid_count_inner = pysqdf(q2)\n",
    "uid_count_inner_inner = pysqdf(q3)"
   ]
  },
  {
   "cell_type": "code",
   "execution_count": 30,
   "id": "79e12c9a",
   "metadata": {},
   "outputs": [
    {
     "data": {
      "text/html": [
       "<div>\n",
       "<style scoped>\n",
       "    .dataframe tbody tr th:only-of-type {\n",
       "        vertical-align: middle;\n",
       "    }\n",
       "\n",
       "    .dataframe tbody tr th {\n",
       "        vertical-align: top;\n",
       "    }\n",
       "\n",
       "    .dataframe thead th {\n",
       "        text-align: right;\n",
       "    }\n",
       "</style>\n",
       "<table border=\"1\" class=\"dataframe\">\n",
       "  <thead>\n",
       "    <tr style=\"text-align: right;\">\n",
       "      <th></th>\n",
       "      <th>userId</th>\n",
       "      <th>movieId</th>\n",
       "      <th>rating</th>\n",
       "    </tr>\n",
       "  </thead>\n",
       "  <tbody>\n",
       "    <tr>\n",
       "      <th>0</th>\n",
       "      <td>1</td>\n",
       "      <td>296</td>\n",
       "      <td>5.0</td>\n",
       "    </tr>\n",
       "    <tr>\n",
       "      <th>1</th>\n",
       "      <td>1</td>\n",
       "      <td>306</td>\n",
       "      <td>3.5</td>\n",
       "    </tr>\n",
       "    <tr>\n",
       "      <th>2</th>\n",
       "      <td>1</td>\n",
       "      <td>307</td>\n",
       "      <td>5.0</td>\n",
       "    </tr>\n",
       "    <tr>\n",
       "      <th>3</th>\n",
       "      <td>1</td>\n",
       "      <td>665</td>\n",
       "      <td>5.0</td>\n",
       "    </tr>\n",
       "    <tr>\n",
       "      <th>4</th>\n",
       "      <td>1</td>\n",
       "      <td>899</td>\n",
       "      <td>3.5</td>\n",
       "    </tr>\n",
       "    <tr>\n",
       "      <th>...</th>\n",
       "      <td>...</td>\n",
       "      <td>...</td>\n",
       "      <td>...</td>\n",
       "    </tr>\n",
       "    <tr>\n",
       "      <th>64</th>\n",
       "      <td>1</td>\n",
       "      <td>8973</td>\n",
       "      <td>4.0</td>\n",
       "    </tr>\n",
       "    <tr>\n",
       "      <th>65</th>\n",
       "      <td>1</td>\n",
       "      <td>27193</td>\n",
       "      <td>3.0</td>\n",
       "    </tr>\n",
       "    <tr>\n",
       "      <th>66</th>\n",
       "      <td>1</td>\n",
       "      <td>27266</td>\n",
       "      <td>4.5</td>\n",
       "    </tr>\n",
       "    <tr>\n",
       "      <th>67</th>\n",
       "      <td>1</td>\n",
       "      <td>27721</td>\n",
       "      <td>3.0</td>\n",
       "    </tr>\n",
       "    <tr>\n",
       "      <th>68</th>\n",
       "      <td>1</td>\n",
       "      <td>31956</td>\n",
       "      <td>3.5</td>\n",
       "    </tr>\n",
       "  </tbody>\n",
       "</table>\n",
       "<p>69 rows × 3 columns</p>\n",
       "</div>"
      ],
      "text/plain": [
       "    userId  movieId  rating\n",
       "0        1      296     5.0\n",
       "1        1      306     3.5\n",
       "2        1      307     5.0\n",
       "3        1      665     5.0\n",
       "4        1      899     3.5\n",
       "..     ...      ...     ...\n",
       "64       1     8973     4.0\n",
       "65       1    27193     3.0\n",
       "66       1    27266     4.5\n",
       "67       1    27721     3.0\n",
       "68       1    31956     3.5\n",
       "\n",
       "[69 rows x 3 columns]"
      ]
     },
     "execution_count": 30,
     "metadata": {},
     "output_type": "execute_result"
    }
   ],
   "source": [
    "uid_count_inner_inner[uid_count_inner_inner[\"userId\"] == 1]"
   ]
  },
  {
   "cell_type": "code",
   "execution_count": 31,
   "id": "01338cdb",
   "metadata": {},
   "outputs": [
    {
     "data": {
      "text/html": [
       "<div>\n",
       "<style scoped>\n",
       "    .dataframe tbody tr th:only-of-type {\n",
       "        vertical-align: middle;\n",
       "    }\n",
       "\n",
       "    .dataframe tbody tr th {\n",
       "        vertical-align: top;\n",
       "    }\n",
       "\n",
       "    .dataframe thead th {\n",
       "        text-align: right;\n",
       "    }\n",
       "</style>\n",
       "<table border=\"1\" class=\"dataframe\">\n",
       "  <thead>\n",
       "    <tr style=\"text-align: right;\">\n",
       "      <th></th>\n",
       "      <th>userId</th>\n",
       "      <th>genres</th>\n",
       "      <th>Max(genreCount)</th>\n",
       "      <th>avg_rating</th>\n",
       "    </tr>\n",
       "  </thead>\n",
       "  <tbody>\n",
       "    <tr>\n",
       "      <th>0</th>\n",
       "      <td>1</td>\n",
       "      <td>Drama</td>\n",
       "      <td>52</td>\n",
       "      <td>3.846154</td>\n",
       "    </tr>\n",
       "  </tbody>\n",
       "</table>\n",
       "</div>"
      ],
      "text/plain": [
       "   userId genres  Max(genreCount)  avg_rating\n",
       "0       1  Drama               52    3.846154"
      ]
     },
     "execution_count": 31,
     "metadata": {},
     "output_type": "execute_result"
    }
   ],
   "source": [
    "uid_count"
   ]
  },
  {
   "cell_type": "code",
   "execution_count": 32,
   "id": "c1cd5aea",
   "metadata": {},
   "outputs": [
    {
     "data": {
      "text/html": [
       "<div>\n",
       "<style scoped>\n",
       "    .dataframe tbody tr th:only-of-type {\n",
       "        vertical-align: middle;\n",
       "    }\n",
       "\n",
       "    .dataframe tbody tr th {\n",
       "        vertical-align: top;\n",
       "    }\n",
       "\n",
       "    .dataframe thead th {\n",
       "        text-align: right;\n",
       "    }\n",
       "</style>\n",
       "<table border=\"1\" class=\"dataframe\">\n",
       "  <thead>\n",
       "    <tr style=\"text-align: right;\">\n",
       "      <th></th>\n",
       "      <th>userId</th>\n",
       "      <th>genres</th>\n",
       "      <th>genreCount</th>\n",
       "      <th>avg_rating</th>\n",
       "    </tr>\n",
       "  </thead>\n",
       "  <tbody>\n",
       "    <tr>\n",
       "      <th>0</th>\n",
       "      <td>1</td>\n",
       "      <td>Action</td>\n",
       "      <td>4</td>\n",
       "      <td>4.125000</td>\n",
       "    </tr>\n",
       "    <tr>\n",
       "      <th>1</th>\n",
       "      <td>1</td>\n",
       "      <td>Adventure</td>\n",
       "      <td>11</td>\n",
       "      <td>3.727273</td>\n",
       "    </tr>\n",
       "    <tr>\n",
       "      <th>2</th>\n",
       "      <td>1</td>\n",
       "      <td>Animation</td>\n",
       "      <td>2</td>\n",
       "      <td>4.000000</td>\n",
       "    </tr>\n",
       "    <tr>\n",
       "      <th>3</th>\n",
       "      <td>1</td>\n",
       "      <td>Children</td>\n",
       "      <td>3</td>\n",
       "      <td>3.833333</td>\n",
       "    </tr>\n",
       "    <tr>\n",
       "      <th>4</th>\n",
       "      <td>1</td>\n",
       "      <td>Comedy</td>\n",
       "      <td>22</td>\n",
       "      <td>3.818182</td>\n",
       "    </tr>\n",
       "    <tr>\n",
       "      <th>5</th>\n",
       "      <td>1</td>\n",
       "      <td>Crime</td>\n",
       "      <td>8</td>\n",
       "      <td>4.062500</td>\n",
       "    </tr>\n",
       "    <tr>\n",
       "      <th>6</th>\n",
       "      <td>1</td>\n",
       "      <td>Documentary</td>\n",
       "      <td>1</td>\n",
       "      <td>2.000000</td>\n",
       "    </tr>\n",
       "    <tr>\n",
       "      <th>7</th>\n",
       "      <td>1</td>\n",
       "      <td>Drama</td>\n",
       "      <td>52</td>\n",
       "      <td>3.846154</td>\n",
       "    </tr>\n",
       "    <tr>\n",
       "      <th>8</th>\n",
       "      <td>1</td>\n",
       "      <td>Fantasy</td>\n",
       "      <td>5</td>\n",
       "      <td>3.600000</td>\n",
       "    </tr>\n",
       "    <tr>\n",
       "      <th>9</th>\n",
       "      <td>1</td>\n",
       "      <td>Film-Noir</td>\n",
       "      <td>1</td>\n",
       "      <td>3.500000</td>\n",
       "    </tr>\n",
       "    <tr>\n",
       "      <th>10</th>\n",
       "      <td>1</td>\n",
       "      <td>Horror</td>\n",
       "      <td>1</td>\n",
       "      <td>3.500000</td>\n",
       "    </tr>\n",
       "    <tr>\n",
       "      <th>11</th>\n",
       "      <td>1</td>\n",
       "      <td>Musical</td>\n",
       "      <td>5</td>\n",
       "      <td>3.700000</td>\n",
       "    </tr>\n",
       "    <tr>\n",
       "      <th>12</th>\n",
       "      <td>1</td>\n",
       "      <td>Mystery</td>\n",
       "      <td>4</td>\n",
       "      <td>3.500000</td>\n",
       "    </tr>\n",
       "    <tr>\n",
       "      <th>13</th>\n",
       "      <td>1</td>\n",
       "      <td>Romance</td>\n",
       "      <td>17</td>\n",
       "      <td>4.117647</td>\n",
       "    </tr>\n",
       "    <tr>\n",
       "      <th>14</th>\n",
       "      <td>1</td>\n",
       "      <td>Sci-Fi</td>\n",
       "      <td>5</td>\n",
       "      <td>3.700000</td>\n",
       "    </tr>\n",
       "    <tr>\n",
       "      <th>15</th>\n",
       "      <td>1</td>\n",
       "      <td>Thriller</td>\n",
       "      <td>5</td>\n",
       "      <td>4.300000</td>\n",
       "    </tr>\n",
       "    <tr>\n",
       "      <th>16</th>\n",
       "      <td>1</td>\n",
       "      <td>War</td>\n",
       "      <td>5</td>\n",
       "      <td>3.900000</td>\n",
       "    </tr>\n",
       "    <tr>\n",
       "      <th>17</th>\n",
       "      <td>1</td>\n",
       "      <td>Western</td>\n",
       "      <td>1</td>\n",
       "      <td>2.500000</td>\n",
       "    </tr>\n",
       "  </tbody>\n",
       "</table>\n",
       "</div>"
      ],
      "text/plain": [
       "    userId       genres  genreCount  avg_rating\n",
       "0        1       Action           4    4.125000\n",
       "1        1    Adventure          11    3.727273\n",
       "2        1    Animation           2    4.000000\n",
       "3        1     Children           3    3.833333\n",
       "4        1       Comedy          22    3.818182\n",
       "5        1        Crime           8    4.062500\n",
       "6        1  Documentary           1    2.000000\n",
       "7        1        Drama          52    3.846154\n",
       "8        1      Fantasy           5    3.600000\n",
       "9        1    Film-Noir           1    3.500000\n",
       "10       1       Horror           1    3.500000\n",
       "11       1      Musical           5    3.700000\n",
       "12       1      Mystery           4    3.500000\n",
       "13       1      Romance          17    4.117647\n",
       "14       1       Sci-Fi           5    3.700000\n",
       "15       1     Thriller           5    4.300000\n",
       "16       1          War           5    3.900000\n",
       "17       1      Western           1    2.500000"
      ]
     },
     "execution_count": 32,
     "metadata": {},
     "output_type": "execute_result"
    }
   ],
   "source": [
    "uid_count_inner"
   ]
  },
  {
   "cell_type": "code",
   "execution_count": 33,
   "id": "39d71cd5",
   "metadata": {},
   "outputs": [
    {
     "data": {
      "text/plain": [
       "Text(0.5, 1.0, \"User 1's Average Rating of Specific Genres\")"
      ]
     },
     "execution_count": 33,
     "metadata": {},
     "output_type": "execute_result"
    },
    {
     "data": {
      "image/png": "[encoded data removed]",
      "text/plain": [
       "<Figure size 640x480 with 1 Axes>"
      ]
     },
     "metadata": {},
     "output_type": "display_data"
    }
   ],
   "source": [
    "\n",
    "for i in range(0, len(uid_count_inner['genreCount'])):\n",
    "    plt.scatter(x=uid_count_inner['genreCount'][i], y=uid_count_inner['avg_rating'][i])\n",
    "plt.grid(True)\n",
    "plt.legend(uid_count_inner[\"genres\"], bbox_to_anchor=(1.02, 1))\n",
    "plt.xlabel(\"# of movies with Specific Genre\")\n",
    "plt.ylabel(\"Average rating of a genre\")\n",
    "plt.title(\"User 1's Average Rating of Specific Genres\")"
   ]
  },
  {
   "cell_type": "markdown",
   "id": "c5b3cb0e",
   "metadata": {},
   "source": [
    "The graph above shows how user 1 rated the different genres they watched. This will help us later when we start finding what users like what movies so we can find movies poeple might like based on what they say their favorite genres are. So in this instance we can see that this user watches a lot of Drama and their average rating for that is just under 4.0. So if we have a user looking for Drama movies we can pull up user 1 and see they have watched a lot of Drama and have it rated fairly high, then we can look at just their drama movies they reviewed and see which ones of those have high ratings ( such as 4.0 or higher) and use that to determine what movie we recomend. This could be done on a larger scale by taking into account multiple users and compiling that data to get a better idea of what a good movie might be. "
   ]
  },
  {
   "cell_type": "code",
   "execution_count": 34,
   "id": "97a345a8",
   "metadata": {},
   "outputs": [
    {
     "data": {
      "text/html": [
       "<div>\n",
       "<style scoped>\n",
       "    .dataframe tbody tr th:only-of-type {\n",
       "        vertical-align: middle;\n",
       "    }\n",
       "\n",
       "    .dataframe tbody tr th {\n",
       "        vertical-align: top;\n",
       "    }\n",
       "\n",
       "    .dataframe thead th {\n",
       "        text-align: right;\n",
       "    }\n",
       "</style>\n",
       "<table border=\"1\" class=\"dataframe\">\n",
       "  <thead>\n",
       "    <tr style=\"text-align: right;\">\n",
       "      <th></th>\n",
       "      <th>movieId</th>\n",
       "      <th>title</th>\n",
       "      <th>genres</th>\n",
       "    </tr>\n",
       "  </thead>\n",
       "  <tbody>\n",
       "    <tr>\n",
       "      <th>1147</th>\n",
       "      <td>1175</td>\n",
       "      <td>Delicatessen (1991)</td>\n",
       "      <td>Comedy</td>\n",
       "    </tr>\n",
       "    <tr>\n",
       "      <th>1147</th>\n",
       "      <td>1175</td>\n",
       "      <td>Delicatessen (1991)</td>\n",
       "      <td>Drama</td>\n",
       "    </tr>\n",
       "    <tr>\n",
       "      <th>1147</th>\n",
       "      <td>1175</td>\n",
       "      <td>Delicatessen (1991)</td>\n",
       "      <td>Romance</td>\n",
       "    </tr>\n",
       "  </tbody>\n",
       "</table>\n",
       "</div>"
      ],
      "text/plain": [
       "      movieId                title   genres\n",
       "1147     1175  Delicatessen (1991)   Comedy\n",
       "1147     1175  Delicatessen (1991)    Drama\n",
       "1147     1175  Delicatessen (1991)  Romance"
      ]
     },
     "execution_count": 34,
     "metadata": {},
     "output_type": "execute_result"
    }
   ],
   "source": [
    "movies_split[movies_split[\"movieId\"] == 1175]"
   ]
  },
  {
   "cell_type": "code",
   "execution_count": 35,
   "id": "3df7429d",
   "metadata": {},
   "outputs": [
    {
     "data": {
      "text/html": [
       "<div>\n",
       "<style scoped>\n",
       "    .dataframe tbody tr th:only-of-type {\n",
       "        vertical-align: middle;\n",
       "    }\n",
       "\n",
       "    .dataframe tbody tr th {\n",
       "        vertical-align: top;\n",
       "    }\n",
       "\n",
       "    .dataframe thead th {\n",
       "        text-align: right;\n",
       "    }\n",
       "</style>\n",
       "<table border=\"1\" class=\"dataframe\">\n",
       "  <thead>\n",
       "    <tr style=\"text-align: right;\">\n",
       "      <th></th>\n",
       "      <th>userId</th>\n",
       "      <th>movieId</th>\n",
       "      <th>rating</th>\n",
       "    </tr>\n",
       "  </thead>\n",
       "  <tbody>\n",
       "    <tr>\n",
       "      <th>0</th>\n",
       "      <td>1</td>\n",
       "      <td>296</td>\n",
       "      <td>5.0</td>\n",
       "    </tr>\n",
       "    <tr>\n",
       "      <th>1</th>\n",
       "      <td>1</td>\n",
       "      <td>306</td>\n",
       "      <td>3.5</td>\n",
       "    </tr>\n",
       "    <tr>\n",
       "      <th>2</th>\n",
       "      <td>1</td>\n",
       "      <td>307</td>\n",
       "      <td>5.0</td>\n",
       "    </tr>\n",
       "    <tr>\n",
       "      <th>3</th>\n",
       "      <td>1</td>\n",
       "      <td>665</td>\n",
       "      <td>5.0</td>\n",
       "    </tr>\n",
       "    <tr>\n",
       "      <th>4</th>\n",
       "      <td>1</td>\n",
       "      <td>899</td>\n",
       "      <td>3.5</td>\n",
       "    </tr>\n",
       "    <tr>\n",
       "      <th>...</th>\n",
       "      <td>...</td>\n",
       "      <td>...</td>\n",
       "      <td>...</td>\n",
       "    </tr>\n",
       "    <tr>\n",
       "      <th>64</th>\n",
       "      <td>1</td>\n",
       "      <td>8973</td>\n",
       "      <td>4.0</td>\n",
       "    </tr>\n",
       "    <tr>\n",
       "      <th>65</th>\n",
       "      <td>1</td>\n",
       "      <td>27193</td>\n",
       "      <td>3.0</td>\n",
       "    </tr>\n",
       "    <tr>\n",
       "      <th>66</th>\n",
       "      <td>1</td>\n",
       "      <td>27266</td>\n",
       "      <td>4.5</td>\n",
       "    </tr>\n",
       "    <tr>\n",
       "      <th>67</th>\n",
       "      <td>1</td>\n",
       "      <td>27721</td>\n",
       "      <td>3.0</td>\n",
       "    </tr>\n",
       "    <tr>\n",
       "      <th>68</th>\n",
       "      <td>1</td>\n",
       "      <td>31956</td>\n",
       "      <td>3.5</td>\n",
       "    </tr>\n",
       "  </tbody>\n",
       "</table>\n",
       "<p>69 rows × 3 columns</p>\n",
       "</div>"
      ],
      "text/plain": [
       "    userId  movieId  rating\n",
       "0        1      296     5.0\n",
       "1        1      306     3.5\n",
       "2        1      307     5.0\n",
       "3        1      665     5.0\n",
       "4        1      899     3.5\n",
       "..     ...      ...     ...\n",
       "64       1     8973     4.0\n",
       "65       1    27193     3.0\n",
       "66       1    27266     4.5\n",
       "67       1    27721     3.0\n",
       "68       1    31956     3.5\n",
       "\n",
       "[69 rows x 3 columns]"
      ]
     },
     "execution_count": 35,
     "metadata": {},
     "output_type": "execute_result"
    }
   ],
   "source": [
    "uid_count_inner_inner[uid_count_inner_inner[\"userId\"] == 1]"
   ]
  },
  {
   "cell_type": "code",
   "execution_count": 36,
   "id": "2a24ad0b",
   "metadata": {},
   "outputs": [
    {
     "data": {
      "text/html": [
       "<div>\n",
       "<style scoped>\n",
       "    .dataframe tbody tr th:only-of-type {\n",
       "        vertical-align: middle;\n",
       "    }\n",
       "\n",
       "    .dataframe tbody tr th {\n",
       "        vertical-align: top;\n",
       "    }\n",
       "\n",
       "    .dataframe thead th {\n",
       "        text-align: right;\n",
       "    }\n",
       "</style>\n",
       "<table border=\"1\" class=\"dataframe\">\n",
       "  <thead>\n",
       "    <tr style=\"text-align: right;\">\n",
       "      <th></th>\n",
       "      <th>userId</th>\n",
       "      <th>genres</th>\n",
       "      <th>Max(genreCount)</th>\n",
       "      <th>avg_rating</th>\n",
       "    </tr>\n",
       "  </thead>\n",
       "  <tbody>\n",
       "  </tbody>\n",
       "</table>\n",
       "</div>"
      ],
      "text/plain": [
       "Empty DataFrame\n",
       "Columns: [userId, genres, Max(genreCount), avg_rating]\n",
       "Index: []"
      ]
     },
     "execution_count": 36,
     "metadata": {},
     "output_type": "execute_result"
    }
   ],
   "source": [
    "uid_count[uid_count['userId'] == 75308]"
   ]
  },
  {
   "cell_type": "code",
   "execution_count": 37,
   "id": "4bf0c24b",
   "metadata": {},
   "outputs": [
    {
     "data": {
      "text/plain": [
       "Text(0.5, 1.0, \"User's Average Rating Over All Movies Watched\")"
      ]
     },
     "execution_count": 37,
     "metadata": {},
     "output_type": "execute_result"
    },
    {
     "data": {
      "image/png": "[encoded data removed]",
      "text/plain": [
       "<Figure size 640x480 with 1 Axes>"
      ]
     },
     "metadata": {},
     "output_type": "display_data"
    }
   ],
   "source": [
    "plt.scatter(ratings_summary['avg_rating'], ratings_summary['review_count'])\n",
    "plt.xlabel(\"Average Rating\")\n",
    "plt.ylabel(\"Number of Reviews\")\n",
    "plt.title(\"User's Average Rating Over All Movies Watched\")\n"
   ]
  },
  {
   "cell_type": "markdown",
   "id": "dbde9033",
   "metadata": {},
   "source": [
    "# accessing imdb to get year"
   ]
  },
  {
   "cell_type": "code",
   "execution_count": 38,
   "id": "94013b4b",
   "metadata": {},
   "outputs": [
    {
     "data": {
      "text/html": [
       "<div>\n",
       "<style scoped>\n",
       "    .dataframe tbody tr th:only-of-type {\n",
       "        vertical-align: middle;\n",
       "    }\n",
       "\n",
       "    .dataframe tbody tr th {\n",
       "        vertical-align: top;\n",
       "    }\n",
       "\n",
       "    .dataframe thead th {\n",
       "        text-align: right;\n",
       "    }\n",
       "</style>\n",
       "<table border=\"1\" class=\"dataframe\">\n",
       "  <thead>\n",
       "    <tr style=\"text-align: right;\">\n",
       "      <th></th>\n",
       "      <th>movieId</th>\n",
       "      <th>imdbId</th>\n",
       "      <th>tmdbId</th>\n",
       "    </tr>\n",
       "  </thead>\n",
       "  <tbody>\n",
       "    <tr>\n",
       "      <th>0</th>\n",
       "      <td>1</td>\n",
       "      <td>114709</td>\n",
       "      <td>862.0</td>\n",
       "    </tr>\n",
       "    <tr>\n",
       "      <th>1</th>\n",
       "      <td>2</td>\n",
       "      <td>113497</td>\n",
       "      <td>8844.0</td>\n",
       "    </tr>\n",
       "    <tr>\n",
       "      <th>2</th>\n",
       "      <td>3</td>\n",
       "      <td>113228</td>\n",
       "      <td>15602.0</td>\n",
       "    </tr>\n",
       "    <tr>\n",
       "      <th>3</th>\n",
       "      <td>4</td>\n",
       "      <td>114885</td>\n",
       "      <td>31357.0</td>\n",
       "    </tr>\n",
       "    <tr>\n",
       "      <th>4</th>\n",
       "      <td>5</td>\n",
       "      <td>113041</td>\n",
       "      <td>11862.0</td>\n",
       "    </tr>\n",
       "    <tr>\n",
       "      <th>...</th>\n",
       "      <td>...</td>\n",
       "      <td>...</td>\n",
       "      <td>...</td>\n",
       "    </tr>\n",
       "    <tr>\n",
       "      <th>62418</th>\n",
       "      <td>209157</td>\n",
       "      <td>6671244</td>\n",
       "      <td>499546.0</td>\n",
       "    </tr>\n",
       "    <tr>\n",
       "      <th>62419</th>\n",
       "      <td>209159</td>\n",
       "      <td>297986</td>\n",
       "      <td>63407.0</td>\n",
       "    </tr>\n",
       "    <tr>\n",
       "      <th>62420</th>\n",
       "      <td>209163</td>\n",
       "      <td>6755366</td>\n",
       "      <td>553036.0</td>\n",
       "    </tr>\n",
       "    <tr>\n",
       "      <th>62421</th>\n",
       "      <td>209169</td>\n",
       "      <td>249603</td>\n",
       "      <td>162892.0</td>\n",
       "    </tr>\n",
       "    <tr>\n",
       "      <th>62422</th>\n",
       "      <td>209171</td>\n",
       "      <td>55323</td>\n",
       "      <td>79513.0</td>\n",
       "    </tr>\n",
       "  </tbody>\n",
       "</table>\n",
       "<p>62423 rows × 3 columns</p>\n",
       "</div>"
      ],
      "text/plain": [
       "       movieId   imdbId    tmdbId\n",
       "0            1   114709     862.0\n",
       "1            2   113497    8844.0\n",
       "2            3   113228   15602.0\n",
       "3            4   114885   31357.0\n",
       "4            5   113041   11862.0\n",
       "...        ...      ...       ...\n",
       "62418   209157  6671244  499546.0\n",
       "62419   209159   297986   63407.0\n",
       "62420   209163  6755366  553036.0\n",
       "62421   209169   249603  162892.0\n",
       "62422   209171    55323   79513.0\n",
       "\n",
       "[62423 rows x 3 columns]"
      ]
     },
     "execution_count": 38,
     "metadata": {},
     "output_type": "execute_result"
    }
   ],
   "source": [
    "links"
   ]
  },
  {
   "cell_type": "code",
   "execution_count": 39,
   "id": "ac2811aa",
   "metadata": {},
   "outputs": [
    {
     "name": "stdout",
     "output_type": "stream",
     "text": [
      "Toy Story : 1995\n"
     ]
    }
   ],
   "source": [
    "# Install this for this to work: pip install imdbpy\n",
    "\n",
    "# importing the module\n",
    "import imdb\n",
    "   \n",
    "# creating instance of IMDb\n",
    "ia = imdb.IMDb()\n",
    "   \n",
    "# getting the movie with id\n",
    "search = ia.get_movie(\"114709\")\n",
    "  \n",
    "# getting movie year\n",
    "year = search['year']\n",
    "  \n",
    "# printing movie name and year\n",
    "print(search['title'] + \" : \" + str(year))"
   ]
  },
  {
   "cell_type": "code",
   "execution_count": 40,
   "id": "cd2b2ca2",
   "metadata": {},
   "outputs": [],
   "source": [
    "q = \"\"\"SELECT gt.tag as gtTag, gt.tagid, t.tag\n",
    "    FROM genomeTags as gt\n",
    "    join tags as t\n",
    "    on gt.tag = t.tag;\"\"\""
   ]
  },
  {
   "cell_type": "code",
   "execution_count": 41,
   "id": "495c8c36",
   "metadata": {},
   "outputs": [
    {
     "data": {
      "text/plain": [
       "(62423, 3)"
      ]
     },
     "execution_count": 41,
     "metadata": {},
     "output_type": "execute_result"
    }
   ],
   "source": [
    "movies.shape"
   ]
  },
  {
   "cell_type": "code",
   "execution_count": 42,
   "id": "29ba7f77",
   "metadata": {},
   "outputs": [
    {
     "data": {
      "text/plain": [
       "(25000095, 4)"
      ]
     },
     "execution_count": 42,
     "metadata": {},
     "output_type": "execute_result"
    }
   ],
   "source": [
    "ratings.shape"
   ]
  },
  {
   "cell_type": "code",
   "execution_count": 43,
   "id": "c7079d1b",
   "metadata": {},
   "outputs": [
    {
     "data": {
      "text/html": [
       "<div>\n",
       "<style scoped>\n",
       "    .dataframe tbody tr th:only-of-type {\n",
       "        vertical-align: middle;\n",
       "    }\n",
       "\n",
       "    .dataframe tbody tr th {\n",
       "        vertical-align: top;\n",
       "    }\n",
       "\n",
       "    .dataframe thead th {\n",
       "        text-align: right;\n",
       "    }\n",
       "</style>\n",
       "<table border=\"1\" class=\"dataframe\">\n",
       "  <thead>\n",
       "    <tr style=\"text-align: right;\">\n",
       "      <th></th>\n",
       "      <th>movieId</th>\n",
       "      <th>title</th>\n",
       "      <th>genres</th>\n",
       "    </tr>\n",
       "  </thead>\n",
       "  <tbody>\n",
       "    <tr>\n",
       "      <th>0</th>\n",
       "      <td>1</td>\n",
       "      <td>Toy Story (1995)</td>\n",
       "      <td>Adventure|Animation|Children|Comedy|Fantasy</td>\n",
       "    </tr>\n",
       "    <tr>\n",
       "      <th>1</th>\n",
       "      <td>2</td>\n",
       "      <td>Jumanji (1995)</td>\n",
       "      <td>Adventure|Children|Fantasy</td>\n",
       "    </tr>\n",
       "    <tr>\n",
       "      <th>2</th>\n",
       "      <td>3</td>\n",
       "      <td>Grumpier Old Men (1995)</td>\n",
       "      <td>Comedy|Romance</td>\n",
       "    </tr>\n",
       "    <tr>\n",
       "      <th>3</th>\n",
       "      <td>4</td>\n",
       "      <td>Waiting to Exhale (1995)</td>\n",
       "      <td>Comedy|Drama|Romance</td>\n",
       "    </tr>\n",
       "    <tr>\n",
       "      <th>4</th>\n",
       "      <td>5</td>\n",
       "      <td>Father of the Bride Part II (1995)</td>\n",
       "      <td>Comedy</td>\n",
       "    </tr>\n",
       "  </tbody>\n",
       "</table>\n",
       "</div>"
      ],
      "text/plain": [
       "   movieId                               title  \\\n",
       "0        1                    Toy Story (1995)   \n",
       "1        2                      Jumanji (1995)   \n",
       "2        3             Grumpier Old Men (1995)   \n",
       "3        4            Waiting to Exhale (1995)   \n",
       "4        5  Father of the Bride Part II (1995)   \n",
       "\n",
       "                                        genres  \n",
       "0  Adventure|Animation|Children|Comedy|Fantasy  \n",
       "1                   Adventure|Children|Fantasy  \n",
       "2                               Comedy|Romance  \n",
       "3                         Comedy|Drama|Romance  \n",
       "4                                       Comedy  "
      ]
     },
     "execution_count": 43,
     "metadata": {},
     "output_type": "execute_result"
    }
   ],
   "source": [
    "movies.head()"
   ]
  },
  {
   "cell_type": "code",
   "execution_count": 44,
   "id": "f91271cb",
   "metadata": {},
   "outputs": [
    {
     "data": {
      "text/html": [
       "<div>\n",
       "<style scoped>\n",
       "    .dataframe tbody tr th:only-of-type {\n",
       "        vertical-align: middle;\n",
       "    }\n",
       "\n",
       "    .dataframe tbody tr th {\n",
       "        vertical-align: top;\n",
       "    }\n",
       "\n",
       "    .dataframe thead th {\n",
       "        text-align: right;\n",
       "    }\n",
       "</style>\n",
       "<table border=\"1\" class=\"dataframe\">\n",
       "  <thead>\n",
       "    <tr style=\"text-align: right;\">\n",
       "      <th></th>\n",
       "      <th>userId</th>\n",
       "      <th>movieId</th>\n",
       "      <th>rating</th>\n",
       "      <th>timestamp</th>\n",
       "    </tr>\n",
       "  </thead>\n",
       "  <tbody>\n",
       "    <tr>\n",
       "      <th>0</th>\n",
       "      <td>1</td>\n",
       "      <td>296</td>\n",
       "      <td>5.0</td>\n",
       "      <td>1147880044</td>\n",
       "    </tr>\n",
       "    <tr>\n",
       "      <th>1</th>\n",
       "      <td>1</td>\n",
       "      <td>306</td>\n",
       "      <td>3.5</td>\n",
       "      <td>1147868817</td>\n",
       "    </tr>\n",
       "    <tr>\n",
       "      <th>2</th>\n",
       "      <td>1</td>\n",
       "      <td>307</td>\n",
       "      <td>5.0</td>\n",
       "      <td>1147868828</td>\n",
       "    </tr>\n",
       "    <tr>\n",
       "      <th>3</th>\n",
       "      <td>1</td>\n",
       "      <td>665</td>\n",
       "      <td>5.0</td>\n",
       "      <td>1147878820</td>\n",
       "    </tr>\n",
       "    <tr>\n",
       "      <th>4</th>\n",
       "      <td>1</td>\n",
       "      <td>899</td>\n",
       "      <td>3.5</td>\n",
       "      <td>1147868510</td>\n",
       "    </tr>\n",
       "  </tbody>\n",
       "</table>\n",
       "</div>"
      ],
      "text/plain": [
       "   userId  movieId  rating   timestamp\n",
       "0       1      296     5.0  1147880044\n",
       "1       1      306     3.5  1147868817\n",
       "2       1      307     5.0  1147868828\n",
       "3       1      665     5.0  1147878820\n",
       "4       1      899     3.5  1147868510"
      ]
     },
     "execution_count": 44,
     "metadata": {},
     "output_type": "execute_result"
    }
   ],
   "source": [
    "ratings.head()"
   ]
  },
  {
   "cell_type": "code",
   "execution_count": 45,
   "id": "06d047b3",
   "metadata": {},
   "outputs": [],
   "source": [
    "movies['year'] = movies['title'].str.extract('.*\\((.*)\\).*',expand = False)"
   ]
  },
  {
   "cell_type": "code",
   "execution_count": 46,
   "id": "20057238",
   "metadata": {},
   "outputs": [
    {
     "data": {
      "text/html": [
       "<div>\n",
       "<style scoped>\n",
       "    .dataframe tbody tr th:only-of-type {\n",
       "        vertical-align: middle;\n",
       "    }\n",
       "\n",
       "    .dataframe tbody tr th {\n",
       "        vertical-align: top;\n",
       "    }\n",
       "\n",
       "    .dataframe thead th {\n",
       "        text-align: right;\n",
       "    }\n",
       "</style>\n",
       "<table border=\"1\" class=\"dataframe\">\n",
       "  <thead>\n",
       "    <tr style=\"text-align: right;\">\n",
       "      <th></th>\n",
       "      <th>movieId</th>\n",
       "      <th>title</th>\n",
       "      <th>genres</th>\n",
       "      <th>year</th>\n",
       "    </tr>\n",
       "  </thead>\n",
       "  <tbody>\n",
       "    <tr>\n",
       "      <th>0</th>\n",
       "      <td>1</td>\n",
       "      <td>Toy Story (1995)</td>\n",
       "      <td>Adventure|Animation|Children|Comedy|Fantasy</td>\n",
       "      <td>1995</td>\n",
       "    </tr>\n",
       "    <tr>\n",
       "      <th>1</th>\n",
       "      <td>2</td>\n",
       "      <td>Jumanji (1995)</td>\n",
       "      <td>Adventure|Children|Fantasy</td>\n",
       "      <td>1995</td>\n",
       "    </tr>\n",
       "    <tr>\n",
       "      <th>2</th>\n",
       "      <td>3</td>\n",
       "      <td>Grumpier Old Men (1995)</td>\n",
       "      <td>Comedy|Romance</td>\n",
       "      <td>1995</td>\n",
       "    </tr>\n",
       "    <tr>\n",
       "      <th>3</th>\n",
       "      <td>4</td>\n",
       "      <td>Waiting to Exhale (1995)</td>\n",
       "      <td>Comedy|Drama|Romance</td>\n",
       "      <td>1995</td>\n",
       "    </tr>\n",
       "    <tr>\n",
       "      <th>4</th>\n",
       "      <td>5</td>\n",
       "      <td>Father of the Bride Part II (1995)</td>\n",
       "      <td>Comedy</td>\n",
       "      <td>1995</td>\n",
       "    </tr>\n",
       "  </tbody>\n",
       "</table>\n",
       "</div>"
      ],
      "text/plain": [
       "   movieId                               title  \\\n",
       "0        1                    Toy Story (1995)   \n",
       "1        2                      Jumanji (1995)   \n",
       "2        3             Grumpier Old Men (1995)   \n",
       "3        4            Waiting to Exhale (1995)   \n",
       "4        5  Father of the Bride Part II (1995)   \n",
       "\n",
       "                                        genres  year  \n",
       "0  Adventure|Animation|Children|Comedy|Fantasy  1995  \n",
       "1                   Adventure|Children|Fantasy  1995  \n",
       "2                               Comedy|Romance  1995  \n",
       "3                         Comedy|Drama|Romance  1995  \n",
       "4                                       Comedy  1995  "
      ]
     },
     "execution_count": 46,
     "metadata": {},
     "output_type": "execute_result"
    }
   ],
   "source": [
    "movies.head()"
   ]
  },
  {
   "cell_type": "code",
   "execution_count": 74,
   "id": "c196d548",
   "metadata": {},
   "outputs": [
    {
     "data": {
      "image/png": "[encoded data removed]",
      "text/plain": [
       "<Figure size 640x480 with 1 Axes>"
      ]
     },
     "metadata": {},
     "output_type": "display_data"
    },
    {
     "name": "stdout",
     "output_type": "stream",
     "text": [
      "Max No.of Movies Relesed = 2513\n",
      "year = 2015\n"
     ]
    },
    {
     "data": {
      "text/plain": [
       "count     140.000000\n",
       "mean      442.971429\n",
       "std       576.979794\n",
       "min         1.000000\n",
       "25%        26.000000\n",
       "50%       267.000000\n",
       "75%       517.250000\n",
       "max      2513.000000\n",
       "Name: title, dtype: float64"
      ]
     },
     "execution_count": 74,
     "metadata": {},
     "output_type": "execute_result"
    }
   ],
   "source": [
    "#Plot a Graph with No.of Movies each year corresponding to its year\n",
    "plt.plot(movies.groupby('year').title.count())\n",
    "plt.title('Movie Count by Year')\n",
    "plt.show()\n",
    "a=movies.groupby('year').title.count()\n",
    "print('Max No.of Movies Relesed =',a.max())\n",
    "for i in a.index:\n",
    "    if a[i] == a.max():\n",
    "        print('year =',i)\n",
    "a.describe()"
   ]
  },
  {
   "cell_type": "markdown",
   "id": "51507289",
   "metadata": {},
   "source": [
    "According to the result above, we learn that 2015 has the highest number of movie released with 2531 movies.\n",
    "On average, there are around 443 movies release per year."
   ]
  },
  {
   "cell_type": "code",
   "execution_count": 48,
   "id": "0c08f748",
   "metadata": {},
   "outputs": [
    {
     "name": "stderr",
     "output_type": "stream",
     "text": [
      "C:\\Users\\Ping Yuan 2\\AppData\\Local\\Temp\\ipykernel_20244\\3192875719.py:13: SettingWithCopyWarning: \n",
      "A value is trying to be set on a copy of a slice from a DataFrame\n",
      "\n",
      "See the caveats in the documentation: https://pandas.pydata.org/pandas-docs/stable/user_guide/indexing.html#returning-a-view-versus-a-copy\n",
      "  movies[x][i]=1\n"
     ]
    },
    {
     "data": {
      "text/html": [
       "<div>\n",
       "<style scoped>\n",
       "    .dataframe tbody tr th:only-of-type {\n",
       "        vertical-align: middle;\n",
       "    }\n",
       "\n",
       "    .dataframe tbody tr th {\n",
       "        vertical-align: top;\n",
       "    }\n",
       "\n",
       "    .dataframe thead th {\n",
       "        text-align: right;\n",
       "    }\n",
       "</style>\n",
       "<table border=\"1\" class=\"dataframe\">\n",
       "  <thead>\n",
       "    <tr style=\"text-align: right;\">\n",
       "      <th></th>\n",
       "      <th>movieId</th>\n",
       "      <th>title</th>\n",
       "      <th>genres</th>\n",
       "      <th>year</th>\n",
       "      <th>Adventure</th>\n",
       "      <th>Animation</th>\n",
       "      <th>Children</th>\n",
       "      <th>Comedy</th>\n",
       "      <th>Fantasy</th>\n",
       "      <th>Romance</th>\n",
       "      <th>...</th>\n",
       "      <th>Horror</th>\n",
       "      <th>Mystery</th>\n",
       "      <th>Sci-Fi</th>\n",
       "      <th>IMAX</th>\n",
       "      <th>Documentary</th>\n",
       "      <th>War</th>\n",
       "      <th>Musical</th>\n",
       "      <th>Western</th>\n",
       "      <th>Film-Noir</th>\n",
       "      <th>(no genres listed)</th>\n",
       "    </tr>\n",
       "  </thead>\n",
       "  <tbody>\n",
       "    <tr>\n",
       "      <th>0</th>\n",
       "      <td>1</td>\n",
       "      <td>Toy Story (1995)</td>\n",
       "      <td>Adventure|Animation|Children|Comedy|Fantasy</td>\n",
       "      <td>1995</td>\n",
       "      <td>1</td>\n",
       "      <td>1</td>\n",
       "      <td>1</td>\n",
       "      <td>1</td>\n",
       "      <td>1</td>\n",
       "      <td>0</td>\n",
       "      <td>...</td>\n",
       "      <td>0</td>\n",
       "      <td>0</td>\n",
       "      <td>0</td>\n",
       "      <td>0</td>\n",
       "      <td>0</td>\n",
       "      <td>0</td>\n",
       "      <td>0</td>\n",
       "      <td>0</td>\n",
       "      <td>0</td>\n",
       "      <td>0</td>\n",
       "    </tr>\n",
       "    <tr>\n",
       "      <th>1</th>\n",
       "      <td>2</td>\n",
       "      <td>Jumanji (1995)</td>\n",
       "      <td>Adventure|Children|Fantasy</td>\n",
       "      <td>1995</td>\n",
       "      <td>1</td>\n",
       "      <td>0</td>\n",
       "      <td>1</td>\n",
       "      <td>0</td>\n",
       "      <td>1</td>\n",
       "      <td>0</td>\n",
       "      <td>...</td>\n",
       "      <td>0</td>\n",
       "      <td>0</td>\n",
       "      <td>0</td>\n",
       "      <td>0</td>\n",
       "      <td>0</td>\n",
       "      <td>0</td>\n",
       "      <td>0</td>\n",
       "      <td>0</td>\n",
       "      <td>0</td>\n",
       "      <td>0</td>\n",
       "    </tr>\n",
       "    <tr>\n",
       "      <th>2</th>\n",
       "      <td>3</td>\n",
       "      <td>Grumpier Old Men (1995)</td>\n",
       "      <td>Comedy|Romance</td>\n",
       "      <td>1995</td>\n",
       "      <td>0</td>\n",
       "      <td>0</td>\n",
       "      <td>0</td>\n",
       "      <td>1</td>\n",
       "      <td>0</td>\n",
       "      <td>1</td>\n",
       "      <td>...</td>\n",
       "      <td>0</td>\n",
       "      <td>0</td>\n",
       "      <td>0</td>\n",
       "      <td>0</td>\n",
       "      <td>0</td>\n",
       "      <td>0</td>\n",
       "      <td>0</td>\n",
       "      <td>0</td>\n",
       "      <td>0</td>\n",
       "      <td>0</td>\n",
       "    </tr>\n",
       "    <tr>\n",
       "      <th>3</th>\n",
       "      <td>4</td>\n",
       "      <td>Waiting to Exhale (1995)</td>\n",
       "      <td>Comedy|Drama|Romance</td>\n",
       "      <td>1995</td>\n",
       "      <td>0</td>\n",
       "      <td>0</td>\n",
       "      <td>0</td>\n",
       "      <td>1</td>\n",
       "      <td>0</td>\n",
       "      <td>1</td>\n",
       "      <td>...</td>\n",
       "      <td>0</td>\n",
       "      <td>0</td>\n",
       "      <td>0</td>\n",
       "      <td>0</td>\n",
       "      <td>0</td>\n",
       "      <td>0</td>\n",
       "      <td>0</td>\n",
       "      <td>0</td>\n",
       "      <td>0</td>\n",
       "      <td>0</td>\n",
       "    </tr>\n",
       "    <tr>\n",
       "      <th>4</th>\n",
       "      <td>5</td>\n",
       "      <td>Father of the Bride Part II (1995)</td>\n",
       "      <td>Comedy</td>\n",
       "      <td>1995</td>\n",
       "      <td>0</td>\n",
       "      <td>0</td>\n",
       "      <td>0</td>\n",
       "      <td>1</td>\n",
       "      <td>0</td>\n",
       "      <td>0</td>\n",
       "      <td>...</td>\n",
       "      <td>0</td>\n",
       "      <td>0</td>\n",
       "      <td>0</td>\n",
       "      <td>0</td>\n",
       "      <td>0</td>\n",
       "      <td>0</td>\n",
       "      <td>0</td>\n",
       "      <td>0</td>\n",
       "      <td>0</td>\n",
       "      <td>0</td>\n",
       "    </tr>\n",
       "  </tbody>\n",
       "</table>\n",
       "<p>5 rows × 24 columns</p>\n",
       "</div>"
      ],
      "text/plain": [
       "   movieId                               title  \\\n",
       "0        1                    Toy Story (1995)   \n",
       "1        2                      Jumanji (1995)   \n",
       "2        3             Grumpier Old Men (1995)   \n",
       "3        4            Waiting to Exhale (1995)   \n",
       "4        5  Father of the Bride Part II (1995)   \n",
       "\n",
       "                                        genres  year  Adventure  Animation  \\\n",
       "0  Adventure|Animation|Children|Comedy|Fantasy  1995          1          1   \n",
       "1                   Adventure|Children|Fantasy  1995          1          0   \n",
       "2                               Comedy|Romance  1995          0          0   \n",
       "3                         Comedy|Drama|Romance  1995          0          0   \n",
       "4                                       Comedy  1995          0          0   \n",
       "\n",
       "   Children  Comedy  Fantasy  Romance  ...  Horror  Mystery  Sci-Fi  IMAX  \\\n",
       "0         1       1        1        0  ...       0        0       0     0   \n",
       "1         1       0        1        0  ...       0        0       0     0   \n",
       "2         0       1        0        1  ...       0        0       0     0   \n",
       "3         0       1        0        1  ...       0        0       0     0   \n",
       "4         0       1        0        0  ...       0        0       0     0   \n",
       "\n",
       "   Documentary  War  Musical  Western  Film-Noir  (no genres listed)  \n",
       "0            0    0        0        0          0                   0  \n",
       "1            0    0        0        0          0                   0  \n",
       "2            0    0        0        0          0                   0  \n",
       "3            0    0        0        0          0                   0  \n",
       "4            0    0        0        0          0                   0  \n",
       "\n",
       "[5 rows x 24 columns]"
      ]
     },
     "execution_count": 48,
     "metadata": {},
     "output_type": "execute_result"
    }
   ],
   "source": [
    "# Seperate the genres Column and Encoding them with One-Hot-Encoding Method.\n",
    "genres=[]\n",
    "for i in range(len(movies.genres)):\n",
    "    for x in movies.genres[i].split('|'):\n",
    "        if x not in genres:\n",
    "            genres.append(x)  \n",
    "\n",
    "len(genres)\n",
    "for x in genres:\n",
    "    movies[x] = 0\n",
    "for i in range(len(movies.genres)):\n",
    "    for x in movies.genres[i].split('|'):\n",
    "        movies[x][i]=1\n",
    "movies.head()"
   ]
  },
  {
   "cell_type": "code",
   "execution_count": 49,
   "id": "3bb9b3a0",
   "metadata": {},
   "outputs": [],
   "source": [
    "movies.drop(columns='genres', inplace=True)\n",
    "movies.sort_index(inplace=True)"
   ]
  },
  {
   "cell_type": "code",
   "execution_count": 50,
   "id": "0c35dca8",
   "metadata": {},
   "outputs": [
    {
     "data": {
      "text/html": [
       "<div>\n",
       "<style scoped>\n",
       "    .dataframe tbody tr th:only-of-type {\n",
       "        vertical-align: middle;\n",
       "    }\n",
       "\n",
       "    .dataframe tbody tr th {\n",
       "        vertical-align: top;\n",
       "    }\n",
       "\n",
       "    .dataframe thead th {\n",
       "        text-align: right;\n",
       "    }\n",
       "</style>\n",
       "<table border=\"1\" class=\"dataframe\">\n",
       "  <thead>\n",
       "    <tr style=\"text-align: right;\">\n",
       "      <th></th>\n",
       "      <th>movieId</th>\n",
       "      <th>title</th>\n",
       "      <th>year</th>\n",
       "      <th>Adventure</th>\n",
       "      <th>Animation</th>\n",
       "      <th>Children</th>\n",
       "      <th>Comedy</th>\n",
       "      <th>Fantasy</th>\n",
       "      <th>Romance</th>\n",
       "      <th>Drama</th>\n",
       "      <th>...</th>\n",
       "      <th>Horror</th>\n",
       "      <th>Mystery</th>\n",
       "      <th>Sci-Fi</th>\n",
       "      <th>IMAX</th>\n",
       "      <th>Documentary</th>\n",
       "      <th>War</th>\n",
       "      <th>Musical</th>\n",
       "      <th>Western</th>\n",
       "      <th>Film-Noir</th>\n",
       "      <th>(no genres listed)</th>\n",
       "    </tr>\n",
       "  </thead>\n",
       "  <tbody>\n",
       "    <tr>\n",
       "      <th>0</th>\n",
       "      <td>1</td>\n",
       "      <td>Toy Story (1995)</td>\n",
       "      <td>1995</td>\n",
       "      <td>1</td>\n",
       "      <td>1</td>\n",
       "      <td>1</td>\n",
       "      <td>1</td>\n",
       "      <td>1</td>\n",
       "      <td>0</td>\n",
       "      <td>0</td>\n",
       "      <td>...</td>\n",
       "      <td>0</td>\n",
       "      <td>0</td>\n",
       "      <td>0</td>\n",
       "      <td>0</td>\n",
       "      <td>0</td>\n",
       "      <td>0</td>\n",
       "      <td>0</td>\n",
       "      <td>0</td>\n",
       "      <td>0</td>\n",
       "      <td>0</td>\n",
       "    </tr>\n",
       "    <tr>\n",
       "      <th>1</th>\n",
       "      <td>2</td>\n",
       "      <td>Jumanji (1995)</td>\n",
       "      <td>1995</td>\n",
       "      <td>1</td>\n",
       "      <td>0</td>\n",
       "      <td>1</td>\n",
       "      <td>0</td>\n",
       "      <td>1</td>\n",
       "      <td>0</td>\n",
       "      <td>0</td>\n",
       "      <td>...</td>\n",
       "      <td>0</td>\n",
       "      <td>0</td>\n",
       "      <td>0</td>\n",
       "      <td>0</td>\n",
       "      <td>0</td>\n",
       "      <td>0</td>\n",
       "      <td>0</td>\n",
       "      <td>0</td>\n",
       "      <td>0</td>\n",
       "      <td>0</td>\n",
       "    </tr>\n",
       "    <tr>\n",
       "      <th>2</th>\n",
       "      <td>3</td>\n",
       "      <td>Grumpier Old Men (1995)</td>\n",
       "      <td>1995</td>\n",
       "      <td>0</td>\n",
       "      <td>0</td>\n",
       "      <td>0</td>\n",
       "      <td>1</td>\n",
       "      <td>0</td>\n",
       "      <td>1</td>\n",
       "      <td>0</td>\n",
       "      <td>...</td>\n",
       "      <td>0</td>\n",
       "      <td>0</td>\n",
       "      <td>0</td>\n",
       "      <td>0</td>\n",
       "      <td>0</td>\n",
       "      <td>0</td>\n",
       "      <td>0</td>\n",
       "      <td>0</td>\n",
       "      <td>0</td>\n",
       "      <td>0</td>\n",
       "    </tr>\n",
       "    <tr>\n",
       "      <th>3</th>\n",
       "      <td>4</td>\n",
       "      <td>Waiting to Exhale (1995)</td>\n",
       "      <td>1995</td>\n",
       "      <td>0</td>\n",
       "      <td>0</td>\n",
       "      <td>0</td>\n",
       "      <td>1</td>\n",
       "      <td>0</td>\n",
       "      <td>1</td>\n",
       "      <td>1</td>\n",
       "      <td>...</td>\n",
       "      <td>0</td>\n",
       "      <td>0</td>\n",
       "      <td>0</td>\n",
       "      <td>0</td>\n",
       "      <td>0</td>\n",
       "      <td>0</td>\n",
       "      <td>0</td>\n",
       "      <td>0</td>\n",
       "      <td>0</td>\n",
       "      <td>0</td>\n",
       "    </tr>\n",
       "    <tr>\n",
       "      <th>4</th>\n",
       "      <td>5</td>\n",
       "      <td>Father of the Bride Part II (1995)</td>\n",
       "      <td>1995</td>\n",
       "      <td>0</td>\n",
       "      <td>0</td>\n",
       "      <td>0</td>\n",
       "      <td>1</td>\n",
       "      <td>0</td>\n",
       "      <td>0</td>\n",
       "      <td>0</td>\n",
       "      <td>...</td>\n",
       "      <td>0</td>\n",
       "      <td>0</td>\n",
       "      <td>0</td>\n",
       "      <td>0</td>\n",
       "      <td>0</td>\n",
       "      <td>0</td>\n",
       "      <td>0</td>\n",
       "      <td>0</td>\n",
       "      <td>0</td>\n",
       "      <td>0</td>\n",
       "    </tr>\n",
       "  </tbody>\n",
       "</table>\n",
       "<p>5 rows × 23 columns</p>\n",
       "</div>"
      ],
      "text/plain": [
       "   movieId                               title  year  Adventure  Animation  \\\n",
       "0        1                    Toy Story (1995)  1995          1          1   \n",
       "1        2                      Jumanji (1995)  1995          1          0   \n",
       "2        3             Grumpier Old Men (1995)  1995          0          0   \n",
       "3        4            Waiting to Exhale (1995)  1995          0          0   \n",
       "4        5  Father of the Bride Part II (1995)  1995          0          0   \n",
       "\n",
       "   Children  Comedy  Fantasy  Romance  Drama  ...  Horror  Mystery  Sci-Fi  \\\n",
       "0         1       1        1        0      0  ...       0        0       0   \n",
       "1         1       0        1        0      0  ...       0        0       0   \n",
       "2         0       1        0        1      0  ...       0        0       0   \n",
       "3         0       1        0        1      1  ...       0        0       0   \n",
       "4         0       1        0        0      0  ...       0        0       0   \n",
       "\n",
       "   IMAX  Documentary  War  Musical  Western  Film-Noir  (no genres listed)  \n",
       "0     0            0    0        0        0          0                   0  \n",
       "1     0            0    0        0        0          0                   0  \n",
       "2     0            0    0        0        0          0                   0  \n",
       "3     0            0    0        0        0          0                   0  \n",
       "4     0            0    0        0        0          0                   0  \n",
       "\n",
       "[5 rows x 23 columns]"
      ]
     },
     "execution_count": 50,
     "metadata": {},
     "output_type": "execute_result"
    }
   ],
   "source": [
    "movies.head()"
   ]
  },
  {
   "cell_type": "code",
   "execution_count": 71,
   "id": "993ad81d",
   "metadata": {},
   "outputs": [
    {
     "name": "stdout",
     "output_type": "stream",
     "text": [
      "Adventure    \t\t\t\t4145\n",
      "Animation    \t\t\t\t2929\n",
      "Children    \t\t\t\t2935\n",
      "Comedy    \t\t\t\t16870\n",
      "Fantasy    \t\t\t\t2731\n",
      "Romance    \t\t\t\t7719\n",
      "Drama    \t\t\t\t25606\n",
      "Action    \t\t\t\t7348\n",
      "Crime    \t\t\t\t5319\n",
      "Thriller    \t\t\t\t8654\n",
      "Horror    \t\t\t\t5989\n",
      "Mystery    \t\t\t\t2925\n",
      "Sci-Fi    \t\t\t\t3595\n",
      "IMAX    \t\t\t\t195\n",
      "Documentary    \t\t\t\t5605\n",
      "War    \t\t\t\t1874\n",
      "Musical    \t\t\t\t1054\n",
      "Western    \t\t\t\t1399\n",
      "Film-Noir    \t\t\t\t353\n",
      "(no genres listed)    \t\t\t\t5062\n"
     ]
    },
    {
     "data": {
      "image/png": "[encoded data removed]",
      "text/plain": [
       "<Figure size 640x480 with 1 Axes>"
      ]
     },
     "metadata": {},
     "output_type": "display_data"
    }
   ],
   "source": [
    "x={}\n",
    "for i in movies.columns[3:23]:\n",
    "    x[i]=movies[i].value_counts()[1]\n",
    "    print(\"{}    \\t\\t\\t\\t{}\".format(i,x[i]))\n",
    "\n",
    "plt.bar(height=x.values(),x=x.keys())\n",
    "plt.title('Movie Count by Genre')\n",
    "plt.xticks(rotation=45)\n",
    "plt.show()"
   ]
  },
  {
   "cell_type": "markdown",
   "id": "19e1a08f",
   "metadata": {},
   "source": [
    "According to the result above, we learn that drama is the most common movie genre."
   ]
  },
  {
   "cell_type": "code",
   "execution_count": 52,
   "id": "a132bf76",
   "metadata": {},
   "outputs": [
    {
     "data": {
      "text/plain": [
       "62423"
      ]
     },
     "execution_count": 52,
     "metadata": {},
     "output_type": "execute_result"
    }
   ],
   "source": [
    "len(movies['movieId'].unique())"
   ]
  },
  {
   "cell_type": "markdown",
   "id": "c56e582c",
   "metadata": {},
   "source": [
    "Since there's no repeating movieId in the movies dataset, we would like to add a column rating for each movieId in the movies dataset; here we use the average rating of each movie in the ratings dataset. We create a new dataset dat."
   ]
  },
  {
   "cell_type": "code",
   "execution_count": 53,
   "id": "fce6dd8f",
   "metadata": {},
   "outputs": [],
   "source": [
    "x=ratings.groupby('movieId').rating.mean()\n",
    "dat = pd.merge(movies,x,how='outer',on='movieId')\n",
    "dat['rating'].fillna('0',inplace=True)"
   ]
  },
  {
   "cell_type": "code",
   "execution_count": 54,
   "id": "b38beae1",
   "metadata": {},
   "outputs": [
    {
     "data": {
      "text/html": [
       "<div>\n",
       "<style scoped>\n",
       "    .dataframe tbody tr th:only-of-type {\n",
       "        vertical-align: middle;\n",
       "    }\n",
       "\n",
       "    .dataframe tbody tr th {\n",
       "        vertical-align: top;\n",
       "    }\n",
       "\n",
       "    .dataframe thead th {\n",
       "        text-align: right;\n",
       "    }\n",
       "</style>\n",
       "<table border=\"1\" class=\"dataframe\">\n",
       "  <thead>\n",
       "    <tr style=\"text-align: right;\">\n",
       "      <th></th>\n",
       "      <th>movieId</th>\n",
       "      <th>title</th>\n",
       "      <th>year</th>\n",
       "      <th>Adventure</th>\n",
       "      <th>Animation</th>\n",
       "      <th>Children</th>\n",
       "      <th>Comedy</th>\n",
       "      <th>Fantasy</th>\n",
       "      <th>Romance</th>\n",
       "      <th>Drama</th>\n",
       "      <th>...</th>\n",
       "      <th>Mystery</th>\n",
       "      <th>Sci-Fi</th>\n",
       "      <th>IMAX</th>\n",
       "      <th>Documentary</th>\n",
       "      <th>War</th>\n",
       "      <th>Musical</th>\n",
       "      <th>Western</th>\n",
       "      <th>Film-Noir</th>\n",
       "      <th>(no genres listed)</th>\n",
       "      <th>rating</th>\n",
       "    </tr>\n",
       "  </thead>\n",
       "  <tbody>\n",
       "    <tr>\n",
       "      <th>0</th>\n",
       "      <td>1</td>\n",
       "      <td>Toy Story (1995)</td>\n",
       "      <td>1995</td>\n",
       "      <td>1</td>\n",
       "      <td>1</td>\n",
       "      <td>1</td>\n",
       "      <td>1</td>\n",
       "      <td>1</td>\n",
       "      <td>0</td>\n",
       "      <td>0</td>\n",
       "      <td>...</td>\n",
       "      <td>0</td>\n",
       "      <td>0</td>\n",
       "      <td>0</td>\n",
       "      <td>0</td>\n",
       "      <td>0</td>\n",
       "      <td>0</td>\n",
       "      <td>0</td>\n",
       "      <td>0</td>\n",
       "      <td>0</td>\n",
       "      <td>3.893708</td>\n",
       "    </tr>\n",
       "    <tr>\n",
       "      <th>1</th>\n",
       "      <td>2</td>\n",
       "      <td>Jumanji (1995)</td>\n",
       "      <td>1995</td>\n",
       "      <td>1</td>\n",
       "      <td>0</td>\n",
       "      <td>1</td>\n",
       "      <td>0</td>\n",
       "      <td>1</td>\n",
       "      <td>0</td>\n",
       "      <td>0</td>\n",
       "      <td>...</td>\n",
       "      <td>0</td>\n",
       "      <td>0</td>\n",
       "      <td>0</td>\n",
       "      <td>0</td>\n",
       "      <td>0</td>\n",
       "      <td>0</td>\n",
       "      <td>0</td>\n",
       "      <td>0</td>\n",
       "      <td>0</td>\n",
       "      <td>3.251527</td>\n",
       "    </tr>\n",
       "    <tr>\n",
       "      <th>2</th>\n",
       "      <td>3</td>\n",
       "      <td>Grumpier Old Men (1995)</td>\n",
       "      <td>1995</td>\n",
       "      <td>0</td>\n",
       "      <td>0</td>\n",
       "      <td>0</td>\n",
       "      <td>1</td>\n",
       "      <td>0</td>\n",
       "      <td>1</td>\n",
       "      <td>0</td>\n",
       "      <td>...</td>\n",
       "      <td>0</td>\n",
       "      <td>0</td>\n",
       "      <td>0</td>\n",
       "      <td>0</td>\n",
       "      <td>0</td>\n",
       "      <td>0</td>\n",
       "      <td>0</td>\n",
       "      <td>0</td>\n",
       "      <td>0</td>\n",
       "      <td>3.142028</td>\n",
       "    </tr>\n",
       "    <tr>\n",
       "      <th>3</th>\n",
       "      <td>4</td>\n",
       "      <td>Waiting to Exhale (1995)</td>\n",
       "      <td>1995</td>\n",
       "      <td>0</td>\n",
       "      <td>0</td>\n",
       "      <td>0</td>\n",
       "      <td>1</td>\n",
       "      <td>0</td>\n",
       "      <td>1</td>\n",
       "      <td>1</td>\n",
       "      <td>...</td>\n",
       "      <td>0</td>\n",
       "      <td>0</td>\n",
       "      <td>0</td>\n",
       "      <td>0</td>\n",
       "      <td>0</td>\n",
       "      <td>0</td>\n",
       "      <td>0</td>\n",
       "      <td>0</td>\n",
       "      <td>0</td>\n",
       "      <td>2.853547</td>\n",
       "    </tr>\n",
       "    <tr>\n",
       "      <th>4</th>\n",
       "      <td>5</td>\n",
       "      <td>Father of the Bride Part II (1995)</td>\n",
       "      <td>1995</td>\n",
       "      <td>0</td>\n",
       "      <td>0</td>\n",
       "      <td>0</td>\n",
       "      <td>1</td>\n",
       "      <td>0</td>\n",
       "      <td>0</td>\n",
       "      <td>0</td>\n",
       "      <td>...</td>\n",
       "      <td>0</td>\n",
       "      <td>0</td>\n",
       "      <td>0</td>\n",
       "      <td>0</td>\n",
       "      <td>0</td>\n",
       "      <td>0</td>\n",
       "      <td>0</td>\n",
       "      <td>0</td>\n",
       "      <td>0</td>\n",
       "      <td>3.058434</td>\n",
       "    </tr>\n",
       "  </tbody>\n",
       "</table>\n",
       "<p>5 rows × 24 columns</p>\n",
       "</div>"
      ],
      "text/plain": [
       "   movieId                               title  year  Adventure  Animation  \\\n",
       "0        1                    Toy Story (1995)  1995          1          1   \n",
       "1        2                      Jumanji (1995)  1995          1          0   \n",
       "2        3             Grumpier Old Men (1995)  1995          0          0   \n",
       "3        4            Waiting to Exhale (1995)  1995          0          0   \n",
       "4        5  Father of the Bride Part II (1995)  1995          0          0   \n",
       "\n",
       "   Children  Comedy  Fantasy  Romance  Drama  ...  Mystery  Sci-Fi  IMAX  \\\n",
       "0         1       1        1        0      0  ...        0       0     0   \n",
       "1         1       0        1        0      0  ...        0       0     0   \n",
       "2         0       1        0        1      0  ...        0       0     0   \n",
       "3         0       1        0        1      1  ...        0       0     0   \n",
       "4         0       1        0        0      0  ...        0       0     0   \n",
       "\n",
       "   Documentary  War  Musical  Western  Film-Noir  (no genres listed)    rating  \n",
       "0            0    0        0        0          0                   0  3.893708  \n",
       "1            0    0        0        0          0                   0  3.251527  \n",
       "2            0    0        0        0          0                   0  3.142028  \n",
       "3            0    0        0        0          0                   0  2.853547  \n",
       "4            0    0        0        0          0                   0  3.058434  \n",
       "\n",
       "[5 rows x 24 columns]"
      ]
     },
     "execution_count": 54,
     "metadata": {},
     "output_type": "execute_result"
    }
   ],
   "source": [
    "dat.head()"
   ]
  },
  {
   "cell_type": "code",
   "execution_count": 55,
   "id": "e8eb1300",
   "metadata": {},
   "outputs": [
    {
     "data": {
      "text/html": [
       "<div>\n",
       "<style scoped>\n",
       "    .dataframe tbody tr th:only-of-type {\n",
       "        vertical-align: middle;\n",
       "    }\n",
       "\n",
       "    .dataframe tbody tr th {\n",
       "        vertical-align: top;\n",
       "    }\n",
       "\n",
       "    .dataframe thead th {\n",
       "        text-align: right;\n",
       "    }\n",
       "</style>\n",
       "<table border=\"1\" class=\"dataframe\">\n",
       "  <thead>\n",
       "    <tr style=\"text-align: right;\">\n",
       "      <th></th>\n",
       "      <th>Adventure</th>\n",
       "      <th>Animation</th>\n",
       "      <th>Children</th>\n",
       "      <th>Comedy</th>\n",
       "      <th>Fantasy</th>\n",
       "      <th>Romance</th>\n",
       "      <th>Drama</th>\n",
       "      <th>Action</th>\n",
       "      <th>Crime</th>\n",
       "      <th>Thriller</th>\n",
       "      <th>Horror</th>\n",
       "      <th>Mystery</th>\n",
       "      <th>Sci-Fi</th>\n",
       "      <th>IMAX</th>\n",
       "      <th>Documentary</th>\n",
       "      <th>War</th>\n",
       "      <th>Musical</th>\n",
       "      <th>Western</th>\n",
       "      <th>Film-Noir</th>\n",
       "      <th>(no genres listed)</th>\n",
       "    </tr>\n",
       "  </thead>\n",
       "  <tbody>\n",
       "    <tr>\n",
       "      <th>0</th>\n",
       "      <td>1</td>\n",
       "      <td>1</td>\n",
       "      <td>1</td>\n",
       "      <td>1</td>\n",
       "      <td>1</td>\n",
       "      <td>0</td>\n",
       "      <td>0</td>\n",
       "      <td>0</td>\n",
       "      <td>0</td>\n",
       "      <td>0</td>\n",
       "      <td>0</td>\n",
       "      <td>0</td>\n",
       "      <td>0</td>\n",
       "      <td>0</td>\n",
       "      <td>0</td>\n",
       "      <td>0</td>\n",
       "      <td>0</td>\n",
       "      <td>0</td>\n",
       "      <td>0</td>\n",
       "      <td>0</td>\n",
       "    </tr>\n",
       "    <tr>\n",
       "      <th>1</th>\n",
       "      <td>1</td>\n",
       "      <td>0</td>\n",
       "      <td>1</td>\n",
       "      <td>0</td>\n",
       "      <td>1</td>\n",
       "      <td>0</td>\n",
       "      <td>0</td>\n",
       "      <td>0</td>\n",
       "      <td>0</td>\n",
       "      <td>0</td>\n",
       "      <td>0</td>\n",
       "      <td>0</td>\n",
       "      <td>0</td>\n",
       "      <td>0</td>\n",
       "      <td>0</td>\n",
       "      <td>0</td>\n",
       "      <td>0</td>\n",
       "      <td>0</td>\n",
       "      <td>0</td>\n",
       "      <td>0</td>\n",
       "    </tr>\n",
       "    <tr>\n",
       "      <th>2</th>\n",
       "      <td>0</td>\n",
       "      <td>0</td>\n",
       "      <td>0</td>\n",
       "      <td>1</td>\n",
       "      <td>0</td>\n",
       "      <td>1</td>\n",
       "      <td>0</td>\n",
       "      <td>0</td>\n",
       "      <td>0</td>\n",
       "      <td>0</td>\n",
       "      <td>0</td>\n",
       "      <td>0</td>\n",
       "      <td>0</td>\n",
       "      <td>0</td>\n",
       "      <td>0</td>\n",
       "      <td>0</td>\n",
       "      <td>0</td>\n",
       "      <td>0</td>\n",
       "      <td>0</td>\n",
       "      <td>0</td>\n",
       "    </tr>\n",
       "    <tr>\n",
       "      <th>3</th>\n",
       "      <td>0</td>\n",
       "      <td>0</td>\n",
       "      <td>0</td>\n",
       "      <td>1</td>\n",
       "      <td>0</td>\n",
       "      <td>1</td>\n",
       "      <td>1</td>\n",
       "      <td>0</td>\n",
       "      <td>0</td>\n",
       "      <td>0</td>\n",
       "      <td>0</td>\n",
       "      <td>0</td>\n",
       "      <td>0</td>\n",
       "      <td>0</td>\n",
       "      <td>0</td>\n",
       "      <td>0</td>\n",
       "      <td>0</td>\n",
       "      <td>0</td>\n",
       "      <td>0</td>\n",
       "      <td>0</td>\n",
       "    </tr>\n",
       "    <tr>\n",
       "      <th>4</th>\n",
       "      <td>0</td>\n",
       "      <td>0</td>\n",
       "      <td>0</td>\n",
       "      <td>1</td>\n",
       "      <td>0</td>\n",
       "      <td>0</td>\n",
       "      <td>0</td>\n",
       "      <td>0</td>\n",
       "      <td>0</td>\n",
       "      <td>0</td>\n",
       "      <td>0</td>\n",
       "      <td>0</td>\n",
       "      <td>0</td>\n",
       "      <td>0</td>\n",
       "      <td>0</td>\n",
       "      <td>0</td>\n",
       "      <td>0</td>\n",
       "      <td>0</td>\n",
       "      <td>0</td>\n",
       "      <td>0</td>\n",
       "    </tr>\n",
       "  </tbody>\n",
       "</table>\n",
       "</div>"
      ],
      "text/plain": [
       "   Adventure  Animation  Children  Comedy  Fantasy  Romance  Drama  Action  \\\n",
       "0          1          1         1       1        1        0      0       0   \n",
       "1          1          0         1       0        1        0      0       0   \n",
       "2          0          0         0       1        0        1      0       0   \n",
       "3          0          0         0       1        0        1      1       0   \n",
       "4          0          0         0       1        0        0      0       0   \n",
       "\n",
       "   Crime  Thriller  Horror  Mystery  Sci-Fi  IMAX  Documentary  War  Musical  \\\n",
       "0      0         0       0        0       0     0            0    0        0   \n",
       "1      0         0       0        0       0     0            0    0        0   \n",
       "2      0         0       0        0       0     0            0    0        0   \n",
       "3      0         0       0        0       0     0            0    0        0   \n",
       "4      0         0       0        0       0     0            0    0        0   \n",
       "\n",
       "   Western  Film-Noir  (no genres listed)  \n",
       "0        0          0                   0  \n",
       "1        0          0                   0  \n",
       "2        0          0                   0  \n",
       "3        0          0                   0  \n",
       "4        0          0                   0  "
      ]
     },
     "execution_count": 55,
     "metadata": {},
     "output_type": "execute_result"
    }
   ],
   "source": [
    "# Data Preparation\n",
    "X = dat[dat.columns[3:23]]\n",
    "X.head()"
   ]
  },
  {
   "cell_type": "code",
   "execution_count": 56,
   "id": "655676ff",
   "metadata": {},
   "outputs": [
    {
     "data": {
      "text/html": [
       "<div>\n",
       "<style scoped>\n",
       "    .dataframe tbody tr th:only-of-type {\n",
       "        vertical-align: middle;\n",
       "    }\n",
       "\n",
       "    .dataframe tbody tr th {\n",
       "        vertical-align: top;\n",
       "    }\n",
       "\n",
       "    .dataframe thead th {\n",
       "        text-align: right;\n",
       "    }\n",
       "</style>\n",
       "<table border=\"1\" class=\"dataframe\">\n",
       "  <thead>\n",
       "    <tr style=\"text-align: right;\">\n",
       "      <th></th>\n",
       "      <th>count</th>\n",
       "      <th>mean</th>\n",
       "      <th>std</th>\n",
       "      <th>min</th>\n",
       "      <th>25%</th>\n",
       "      <th>50%</th>\n",
       "      <th>75%</th>\n",
       "      <th>max</th>\n",
       "    </tr>\n",
       "  </thead>\n",
       "  <tbody>\n",
       "    <tr>\n",
       "      <th>Adventure</th>\n",
       "      <td>62423.0</td>\n",
       "      <td>0.066402</td>\n",
       "      <td>0.248985</td>\n",
       "      <td>0.0</td>\n",
       "      <td>0.0</td>\n",
       "      <td>0.0</td>\n",
       "      <td>0.0</td>\n",
       "      <td>1.0</td>\n",
       "    </tr>\n",
       "    <tr>\n",
       "      <th>Animation</th>\n",
       "      <td>62423.0</td>\n",
       "      <td>0.046922</td>\n",
       "      <td>0.211473</td>\n",
       "      <td>0.0</td>\n",
       "      <td>0.0</td>\n",
       "      <td>0.0</td>\n",
       "      <td>0.0</td>\n",
       "      <td>1.0</td>\n",
       "    </tr>\n",
       "    <tr>\n",
       "      <th>Children</th>\n",
       "      <td>62423.0</td>\n",
       "      <td>0.047018</td>\n",
       "      <td>0.211679</td>\n",
       "      <td>0.0</td>\n",
       "      <td>0.0</td>\n",
       "      <td>0.0</td>\n",
       "      <td>0.0</td>\n",
       "      <td>1.0</td>\n",
       "    </tr>\n",
       "    <tr>\n",
       "      <th>Comedy</th>\n",
       "      <td>62423.0</td>\n",
       "      <td>0.270253</td>\n",
       "      <td>0.444094</td>\n",
       "      <td>0.0</td>\n",
       "      <td>0.0</td>\n",
       "      <td>0.0</td>\n",
       "      <td>1.0</td>\n",
       "      <td>1.0</td>\n",
       "    </tr>\n",
       "    <tr>\n",
       "      <th>Fantasy</th>\n",
       "      <td>62423.0</td>\n",
       "      <td>0.043750</td>\n",
       "      <td>0.204540</td>\n",
       "      <td>0.0</td>\n",
       "      <td>0.0</td>\n",
       "      <td>0.0</td>\n",
       "      <td>0.0</td>\n",
       "      <td>1.0</td>\n",
       "    </tr>\n",
       "    <tr>\n",
       "      <th>Romance</th>\n",
       "      <td>62423.0</td>\n",
       "      <td>0.123656</td>\n",
       "      <td>0.329192</td>\n",
       "      <td>0.0</td>\n",
       "      <td>0.0</td>\n",
       "      <td>0.0</td>\n",
       "      <td>0.0</td>\n",
       "      <td>1.0</td>\n",
       "    </tr>\n",
       "    <tr>\n",
       "      <th>Drama</th>\n",
       "      <td>62423.0</td>\n",
       "      <td>0.410201</td>\n",
       "      <td>0.491874</td>\n",
       "      <td>0.0</td>\n",
       "      <td>0.0</td>\n",
       "      <td>0.0</td>\n",
       "      <td>1.0</td>\n",
       "      <td>1.0</td>\n",
       "    </tr>\n",
       "    <tr>\n",
       "      <th>Action</th>\n",
       "      <td>62423.0</td>\n",
       "      <td>0.117713</td>\n",
       "      <td>0.322271</td>\n",
       "      <td>0.0</td>\n",
       "      <td>0.0</td>\n",
       "      <td>0.0</td>\n",
       "      <td>0.0</td>\n",
       "      <td>1.0</td>\n",
       "    </tr>\n",
       "    <tr>\n",
       "      <th>Crime</th>\n",
       "      <td>62423.0</td>\n",
       "      <td>0.085209</td>\n",
       "      <td>0.279195</td>\n",
       "      <td>0.0</td>\n",
       "      <td>0.0</td>\n",
       "      <td>0.0</td>\n",
       "      <td>0.0</td>\n",
       "      <td>1.0</td>\n",
       "    </tr>\n",
       "    <tr>\n",
       "      <th>Thriller</th>\n",
       "      <td>62423.0</td>\n",
       "      <td>0.138635</td>\n",
       "      <td>0.345568</td>\n",
       "      <td>0.0</td>\n",
       "      <td>0.0</td>\n",
       "      <td>0.0</td>\n",
       "      <td>0.0</td>\n",
       "      <td>1.0</td>\n",
       "    </tr>\n",
       "    <tr>\n",
       "      <th>Horror</th>\n",
       "      <td>62423.0</td>\n",
       "      <td>0.095942</td>\n",
       "      <td>0.294514</td>\n",
       "      <td>0.0</td>\n",
       "      <td>0.0</td>\n",
       "      <td>0.0</td>\n",
       "      <td>0.0</td>\n",
       "      <td>1.0</td>\n",
       "    </tr>\n",
       "    <tr>\n",
       "      <th>Mystery</th>\n",
       "      <td>62423.0</td>\n",
       "      <td>0.046858</td>\n",
       "      <td>0.211336</td>\n",
       "      <td>0.0</td>\n",
       "      <td>0.0</td>\n",
       "      <td>0.0</td>\n",
       "      <td>0.0</td>\n",
       "      <td>1.0</td>\n",
       "    </tr>\n",
       "    <tr>\n",
       "      <th>Sci-Fi</th>\n",
       "      <td>62423.0</td>\n",
       "      <td>0.057591</td>\n",
       "      <td>0.232970</td>\n",
       "      <td>0.0</td>\n",
       "      <td>0.0</td>\n",
       "      <td>0.0</td>\n",
       "      <td>0.0</td>\n",
       "      <td>1.0</td>\n",
       "    </tr>\n",
       "    <tr>\n",
       "      <th>IMAX</th>\n",
       "      <td>62423.0</td>\n",
       "      <td>0.003124</td>\n",
       "      <td>0.055804</td>\n",
       "      <td>0.0</td>\n",
       "      <td>0.0</td>\n",
       "      <td>0.0</td>\n",
       "      <td>0.0</td>\n",
       "      <td>1.0</td>\n",
       "    </tr>\n",
       "    <tr>\n",
       "      <th>Documentary</th>\n",
       "      <td>62423.0</td>\n",
       "      <td>0.089791</td>\n",
       "      <td>0.285884</td>\n",
       "      <td>0.0</td>\n",
       "      <td>0.0</td>\n",
       "      <td>0.0</td>\n",
       "      <td>0.0</td>\n",
       "      <td>1.0</td>\n",
       "    </tr>\n",
       "    <tr>\n",
       "      <th>War</th>\n",
       "      <td>62423.0</td>\n",
       "      <td>0.030021</td>\n",
       "      <td>0.170646</td>\n",
       "      <td>0.0</td>\n",
       "      <td>0.0</td>\n",
       "      <td>0.0</td>\n",
       "      <td>0.0</td>\n",
       "      <td>1.0</td>\n",
       "    </tr>\n",
       "    <tr>\n",
       "      <th>Musical</th>\n",
       "      <td>62423.0</td>\n",
       "      <td>0.016885</td>\n",
       "      <td>0.128841</td>\n",
       "      <td>0.0</td>\n",
       "      <td>0.0</td>\n",
       "      <td>0.0</td>\n",
       "      <td>0.0</td>\n",
       "      <td>1.0</td>\n",
       "    </tr>\n",
       "    <tr>\n",
       "      <th>Western</th>\n",
       "      <td>62423.0</td>\n",
       "      <td>0.022412</td>\n",
       "      <td>0.148019</td>\n",
       "      <td>0.0</td>\n",
       "      <td>0.0</td>\n",
       "      <td>0.0</td>\n",
       "      <td>0.0</td>\n",
       "      <td>1.0</td>\n",
       "    </tr>\n",
       "    <tr>\n",
       "      <th>Film-Noir</th>\n",
       "      <td>62423.0</td>\n",
       "      <td>0.005655</td>\n",
       "      <td>0.074987</td>\n",
       "      <td>0.0</td>\n",
       "      <td>0.0</td>\n",
       "      <td>0.0</td>\n",
       "      <td>0.0</td>\n",
       "      <td>1.0</td>\n",
       "    </tr>\n",
       "    <tr>\n",
       "      <th>(no genres listed)</th>\n",
       "      <td>62423.0</td>\n",
       "      <td>0.081092</td>\n",
       "      <td>0.272978</td>\n",
       "      <td>0.0</td>\n",
       "      <td>0.0</td>\n",
       "      <td>0.0</td>\n",
       "      <td>0.0</td>\n",
       "      <td>1.0</td>\n",
       "    </tr>\n",
       "  </tbody>\n",
       "</table>\n",
       "</div>"
      ],
      "text/plain": [
       "                      count      mean       std  min  25%  50%  75%  max\n",
       "Adventure           62423.0  0.066402  0.248985  0.0  0.0  0.0  0.0  1.0\n",
       "Animation           62423.0  0.046922  0.211473  0.0  0.0  0.0  0.0  1.0\n",
       "Children            62423.0  0.047018  0.211679  0.0  0.0  0.0  0.0  1.0\n",
       "Comedy              62423.0  0.270253  0.444094  0.0  0.0  0.0  1.0  1.0\n",
       "Fantasy             62423.0  0.043750  0.204540  0.0  0.0  0.0  0.0  1.0\n",
       "Romance             62423.0  0.123656  0.329192  0.0  0.0  0.0  0.0  1.0\n",
       "Drama               62423.0  0.410201  0.491874  0.0  0.0  0.0  1.0  1.0\n",
       "Action              62423.0  0.117713  0.322271  0.0  0.0  0.0  0.0  1.0\n",
       "Crime               62423.0  0.085209  0.279195  0.0  0.0  0.0  0.0  1.0\n",
       "Thriller            62423.0  0.138635  0.345568  0.0  0.0  0.0  0.0  1.0\n",
       "Horror              62423.0  0.095942  0.294514  0.0  0.0  0.0  0.0  1.0\n",
       "Mystery             62423.0  0.046858  0.211336  0.0  0.0  0.0  0.0  1.0\n",
       "Sci-Fi              62423.0  0.057591  0.232970  0.0  0.0  0.0  0.0  1.0\n",
       "IMAX                62423.0  0.003124  0.055804  0.0  0.0  0.0  0.0  1.0\n",
       "Documentary         62423.0  0.089791  0.285884  0.0  0.0  0.0  0.0  1.0\n",
       "War                 62423.0  0.030021  0.170646  0.0  0.0  0.0  0.0  1.0\n",
       "Musical             62423.0  0.016885  0.128841  0.0  0.0  0.0  0.0  1.0\n",
       "Western             62423.0  0.022412  0.148019  0.0  0.0  0.0  0.0  1.0\n",
       "Film-Noir           62423.0  0.005655  0.074987  0.0  0.0  0.0  0.0  1.0\n",
       "(no genres listed)  62423.0  0.081092  0.272978  0.0  0.0  0.0  0.0  1.0"
      ]
     },
     "execution_count": 56,
     "metadata": {},
     "output_type": "execute_result"
    }
   ],
   "source": [
    "X.describe().transpose()"
   ]
  },
  {
   "cell_type": "code",
   "execution_count": 57,
   "id": "7c414a80",
   "metadata": {},
   "outputs": [
    {
     "data": {
      "text/plain": [
       "0    3.893708\n",
       "1    3.251527\n",
       "2    3.142028\n",
       "3    2.853547\n",
       "4    3.058434\n",
       "Name: rating, dtype: object"
      ]
     },
     "execution_count": 57,
     "metadata": {},
     "output_type": "execute_result"
    }
   ],
   "source": [
    "y = dat['rating'].copy()\n",
    "y.head()"
   ]
  },
  {
   "cell_type": "code",
   "execution_count": 58,
   "id": "a770cf81",
   "metadata": {},
   "outputs": [],
   "source": [
    "# predictive analytics\n",
    "# Build a model to predict the rating of a movie given its genre\n",
    "# Data Partition\n",
    "from sklearn import model_selection\n",
    "\n",
    "# 30-70% simple split\n",
    "# To make the result reproducible, set the random_state\n",
    "train_y,test_y,train_X,test_X = model_selection.train_test_split(y, X,\n",
    "                                                                 test_size=0.3,\n",
    "                                                                 random_state=1)"
   ]
  },
  {
   "cell_type": "code",
   "execution_count": 59,
   "id": "b53e149c",
   "metadata": {},
   "outputs": [
    {
     "data": {
      "text/plain": [
       "(43696, 20)"
      ]
     },
     "execution_count": 59,
     "metadata": {},
     "output_type": "execute_result"
    }
   ],
   "source": [
    "train_X.shape"
   ]
  },
  {
   "cell_type": "code",
   "execution_count": 60,
   "id": "7d3e9c11",
   "metadata": {},
   "outputs": [
    {
     "data": {
      "text/plain": [
       "(43696,)"
      ]
     },
     "execution_count": 60,
     "metadata": {},
     "output_type": "execute_result"
    }
   ],
   "source": [
    "train_y.shape"
   ]
  },
  {
   "cell_type": "code",
   "execution_count": 61,
   "id": "2e1d0e87",
   "metadata": {},
   "outputs": [
    {
     "data": {
      "text/plain": [
       "(18727, 20)"
      ]
     },
     "execution_count": 61,
     "metadata": {},
     "output_type": "execute_result"
    }
   ],
   "source": [
    "test_X.shape"
   ]
  },
  {
   "cell_type": "code",
   "execution_count": 62,
   "id": "e8bc31cb",
   "metadata": {},
   "outputs": [
    {
     "data": {
      "text/plain": [
       "(18727,)"
      ]
     },
     "execution_count": 62,
     "metadata": {},
     "output_type": "execute_result"
    }
   ],
   "source": [
    "test_y.shape"
   ]
  },
  {
   "cell_type": "code",
   "execution_count": 63,
   "id": "c95b152c",
   "metadata": {},
   "outputs": [],
   "source": [
    "# Random forests\n",
    "from sklearn.ensemble import RandomForestRegressor\n",
    "from sklearn import metrics"
   ]
  },
  {
   "cell_type": "code",
   "execution_count": 64,
   "id": "48fd8510",
   "metadata": {},
   "outputs": [],
   "source": [
    "rf = RandomForestRegressor(n_estimators=100,max_features = 10, random_state=123)\n",
    "rf.fit(train_X, train_y)\n",
    "rf_pred_y = rf.predict(test_X)"
   ]
  },
  {
   "cell_type": "code",
   "execution_count": 65,
   "id": "c6118cba",
   "metadata": {},
   "outputs": [
    {
     "name": "stdout",
     "output_type": "stream",
     "text": [
      "RMSE = 0.971\n",
      "MAE = 0.687\n",
      "R2 = 0.037\n"
     ]
    }
   ],
   "source": [
    "print(\"RMSE =\", round(np.sqrt(metrics.mean_squared_error(test_y, rf_pred_y)),3))\n",
    "print(\"MAE =\", round(metrics.mean_absolute_error(test_y, rf_pred_y),3))\n",
    "print(\"R2 =\", round(metrics.r2_score(test_y, rf_pred_y),3))"
   ]
  },
  {
   "cell_type": "code",
   "execution_count": 75,
   "id": "64981afb",
   "metadata": {},
   "outputs": [],
   "source": [
    "# SVM\n",
    "from sklearn import svm"
   ]
  },
  {
   "cell_type": "code",
   "execution_count": 76,
   "id": "268790c3",
   "metadata": {},
   "outputs": [],
   "source": [
    "# train a svm model with a linear kernel\n",
    "svc_linear = svm.SVR(kernel='linear', C=1.0)"
   ]
  },
  {
   "cell_type": "code",
   "execution_count": 77,
   "id": "86997032",
   "metadata": {},
   "outputs": [
    {
     "data": {
      "text/html": [
       "<style>#sk-container-id-2 {color: black;background-color: white;}#sk-container-id-2 pre{padding: 0;}#sk-container-id-2 div.sk-toggleable {background-color: white;}#sk-container-id-2 label.sk-toggleable__label {cursor: pointer;display: block;width: 100%;margin-bottom: 0;padding: 0.3em;box-sizing: border-box;text-align: center;}#sk-container-id-2 label.sk-toggleable__label-arrow:before {content: \"▸\";float: left;margin-right: 0.25em;color: #696969;}#sk-container-id-2 label.sk-toggleable__label-arrow:hover:before {color: black;}#sk-container-id-2 div.sk-estimator:hover label.sk-toggleable__label-arrow:before {color: black;}#sk-container-id-2 div.sk-toggleable__content {max-height: 0;max-width: 0;overflow: hidden;text-align: left;background-color: #f0f8ff;}#sk-container-id-2 div.sk-toggleable__content pre {margin: 0.2em;color: black;border-radius: 0.25em;background-color: #f0f8ff;}#sk-container-id-2 input.sk-toggleable__control:checked~div.sk-toggleable__content {max-height: 200px;max-width: 100%;overflow: auto;}#sk-container-id-2 input.sk-toggleable__control:checked~label.sk-toggleable__label-arrow:before {content: \"▾\";}#sk-container-id-2 div.sk-estimator input.sk-toggleable__control:checked~label.sk-toggleable__label {background-color: #d4ebff;}#sk-container-id-2 div.sk-label input.sk-toggleable__control:checked~label.sk-toggleable__label {background-color: #d4ebff;}#sk-container-id-2 input.sk-hidden--visually {border: 0;clip: rect(1px 1px 1px 1px);clip: rect(1px, 1px, 1px, 1px);height: 1px;margin: -1px;overflow: hidden;padding: 0;position: absolute;width: 1px;}#sk-container-id-2 div.sk-estimator {font-family: monospace;background-color: #f0f8ff;border: 1px dotted black;border-radius: 0.25em;box-sizing: border-box;margin-bottom: 0.5em;}#sk-container-id-2 div.sk-estimator:hover {background-color: #d4ebff;}#sk-container-id-2 div.sk-parallel-item::after {content: \"\";width: 100%;border-bottom: 1px solid gray;flex-grow: 1;}#sk-container-id-2 div.sk-label:hover label.sk-toggleable__label {background-color: #d4ebff;}#sk-container-id-2 div.sk-serial::before {content: \"\";position: absolute;border-left: 1px solid gray;box-sizing: border-box;top: 0;bottom: 0;left: 50%;z-index: 0;}#sk-container-id-2 div.sk-serial {display: flex;flex-direction: column;align-items: center;background-color: white;padding-right: 0.2em;padding-left: 0.2em;position: relative;}#sk-container-id-2 div.sk-item {position: relative;z-index: 1;}#sk-container-id-2 div.sk-parallel {display: flex;align-items: stretch;justify-content: center;background-color: white;position: relative;}#sk-container-id-2 div.sk-item::before, #sk-container-id-2 div.sk-parallel-item::before {content: \"\";position: absolute;border-left: 1px solid gray;box-sizing: border-box;top: 0;bottom: 0;left: 50%;z-index: -1;}#sk-container-id-2 div.sk-parallel-item {display: flex;flex-direction: column;z-index: 1;position: relative;background-color: white;}#sk-container-id-2 div.sk-parallel-item:first-child::after {align-self: flex-end;width: 50%;}#sk-container-id-2 div.sk-parallel-item:last-child::after {align-self: flex-start;width: 50%;}#sk-container-id-2 div.sk-parallel-item:only-child::after {width: 0;}#sk-container-id-2 div.sk-dashed-wrapped {border: 1px dashed gray;margin: 0 0.4em 0.5em 0.4em;box-sizing: border-box;padding-bottom: 0.4em;background-color: white;}#sk-container-id-2 div.sk-label label {font-family: monospace;font-weight: bold;display: inline-block;line-height: 1.2em;}#sk-container-id-2 div.sk-label-container {text-align: center;}#sk-container-id-2 div.sk-container {/* jupyter's `normalize.less` sets `[hidden] { display: none; }` but bootstrap.min.css set `[hidden] { display: none !important; }` so we also need the `!important` here to be able to override the default hidden behavior on the sphinx rendered scikit-learn.org. See: https://github.com/scikit-learn/scikit-learn/issues/21755 */display: inline-block !important;position: relative;}#sk-container-id-2 div.sk-text-repr-fallback {display: none;}</style><div id=\"sk-container-id-2\" class=\"sk-top-container\"><div class=\"sk-text-repr-fallback\"><pre>SVR(kernel=&#x27;linear&#x27;)</pre><b>In a Jupyter environment, please rerun this cell to show the HTML representation or trust the notebook. <br />On GitHub, the HTML representation is unable to render, please try loading this page with nbviewer.org.</b></div><div class=\"sk-container\" hidden><div class=\"sk-item\"><div class=\"sk-estimator sk-toggleable\"><input class=\"sk-toggleable__control sk-hidden--visually\" id=\"sk-estimator-id-2\" type=\"checkbox\" checked><label for=\"sk-estimator-id-2\" class=\"sk-toggleable__label sk-toggleable__label-arrow\">SVR</label><div class=\"sk-toggleable__content\"><pre>SVR(kernel=&#x27;linear&#x27;)</pre></div></div></div></div></div>"
      ],
      "text/plain": [
       "SVR(kernel='linear')"
      ]
     },
     "execution_count": 77,
     "metadata": {},
     "output_type": "execute_result"
    }
   ],
   "source": [
    "svc_linear.fit(train_X,train_y)"
   ]
  },
  {
   "cell_type": "code",
   "execution_count": 78,
   "id": "b6404ca7",
   "metadata": {},
   "outputs": [],
   "source": [
    "# Predict on test set\n",
    "svm_linear_pred_y = svc_linear.predict(test_X)"
   ]
  },
  {
   "cell_type": "code",
   "execution_count": 79,
   "id": "adf65b6f",
   "metadata": {},
   "outputs": [
    {
     "name": "stdout",
     "output_type": "stream",
     "text": [
      "RMSE = 0.984\n",
      "MAE = 0.658\n",
      "R2 = 0.013\n"
     ]
    }
   ],
   "source": [
    "print(\"RMSE =\", round(np.sqrt(metrics.mean_squared_error(test_y, svm_linear_pred_y)),3))\n",
    "print(\"MAE =\", round(metrics.mean_absolute_error(test_y, svm_linear_pred_y),3))\n",
    "print(\"R2 =\", round(metrics.r2_score(test_y, svm_linear_pred_y),3))"
   ]
  },
  {
   "cell_type": "code",
   "execution_count": 81,
   "id": "c05df041",
   "metadata": {},
   "outputs": [],
   "source": [
    "# train a svm model with a rbf kernel\n",
    "svc_rbf = svm.SVR(kernel='rbf', C=1.0)"
   ]
  },
  {
   "cell_type": "code",
   "execution_count": 82,
   "id": "56265739",
   "metadata": {},
   "outputs": [
    {
     "data": {
      "text/html": [
       "<style>#sk-container-id-3 {color: black;background-color: white;}#sk-container-id-3 pre{padding: 0;}#sk-container-id-3 div.sk-toggleable {background-color: white;}#sk-container-id-3 label.sk-toggleable__label {cursor: pointer;display: block;width: 100%;margin-bottom: 0;padding: 0.3em;box-sizing: border-box;text-align: center;}#sk-container-id-3 label.sk-toggleable__label-arrow:before {content: \"▸\";float: left;margin-right: 0.25em;color: #696969;}#sk-container-id-3 label.sk-toggleable__label-arrow:hover:before {color: black;}#sk-container-id-3 div.sk-estimator:hover label.sk-toggleable__label-arrow:before {color: black;}#sk-container-id-3 div.sk-toggleable__content {max-height: 0;max-width: 0;overflow: hidden;text-align: left;background-color: #f0f8ff;}#sk-container-id-3 div.sk-toggleable__content pre {margin: 0.2em;color: black;border-radius: 0.25em;background-color: #f0f8ff;}#sk-container-id-3 input.sk-toggleable__control:checked~div.sk-toggleable__content {max-height: 200px;max-width: 100%;overflow: auto;}#sk-container-id-3 input.sk-toggleable__control:checked~label.sk-toggleable__label-arrow:before {content: \"▾\";}#sk-container-id-3 div.sk-estimator input.sk-toggleable__control:checked~label.sk-toggleable__label {background-color: #d4ebff;}#sk-container-id-3 div.sk-label input.sk-toggleable__control:checked~label.sk-toggleable__label {background-color: #d4ebff;}#sk-container-id-3 input.sk-hidden--visually {border: 0;clip: rect(1px 1px 1px 1px);clip: rect(1px, 1px, 1px, 1px);height: 1px;margin: -1px;overflow: hidden;padding: 0;position: absolute;width: 1px;}#sk-container-id-3 div.sk-estimator {font-family: monospace;background-color: #f0f8ff;border: 1px dotted black;border-radius: 0.25em;box-sizing: border-box;margin-bottom: 0.5em;}#sk-container-id-3 div.sk-estimator:hover {background-color: #d4ebff;}#sk-container-id-3 div.sk-parallel-item::after {content: \"\";width: 100%;border-bottom: 1px solid gray;flex-grow: 1;}#sk-container-id-3 div.sk-label:hover label.sk-toggleable__label {background-color: #d4ebff;}#sk-container-id-3 div.sk-serial::before {content: \"\";position: absolute;border-left: 1px solid gray;box-sizing: border-box;top: 0;bottom: 0;left: 50%;z-index: 0;}#sk-container-id-3 div.sk-serial {display: flex;flex-direction: column;align-items: center;background-color: white;padding-right: 0.2em;padding-left: 0.2em;position: relative;}#sk-container-id-3 div.sk-item {position: relative;z-index: 1;}#sk-container-id-3 div.sk-parallel {display: flex;align-items: stretch;justify-content: center;background-color: white;position: relative;}#sk-container-id-3 div.sk-item::before, #sk-container-id-3 div.sk-parallel-item::before {content: \"\";position: absolute;border-left: 1px solid gray;box-sizing: border-box;top: 0;bottom: 0;left: 50%;z-index: -1;}#sk-container-id-3 div.sk-parallel-item {display: flex;flex-direction: column;z-index: 1;position: relative;background-color: white;}#sk-container-id-3 div.sk-parallel-item:first-child::after {align-self: flex-end;width: 50%;}#sk-container-id-3 div.sk-parallel-item:last-child::after {align-self: flex-start;width: 50%;}#sk-container-id-3 div.sk-parallel-item:only-child::after {width: 0;}#sk-container-id-3 div.sk-dashed-wrapped {border: 1px dashed gray;margin: 0 0.4em 0.5em 0.4em;box-sizing: border-box;padding-bottom: 0.4em;background-color: white;}#sk-container-id-3 div.sk-label label {font-family: monospace;font-weight: bold;display: inline-block;line-height: 1.2em;}#sk-container-id-3 div.sk-label-container {text-align: center;}#sk-container-id-3 div.sk-container {/* jupyter's `normalize.less` sets `[hidden] { display: none; }` but bootstrap.min.css set `[hidden] { display: none !important; }` so we also need the `!important` here to be able to override the default hidden behavior on the sphinx rendered scikit-learn.org. See: https://github.com/scikit-learn/scikit-learn/issues/21755 */display: inline-block !important;position: relative;}#sk-container-id-3 div.sk-text-repr-fallback {display: none;}</style><div id=\"sk-container-id-3\" class=\"sk-top-container\"><div class=\"sk-text-repr-fallback\"><pre>SVR()</pre><b>In a Jupyter environment, please rerun this cell to show the HTML representation or trust the notebook. <br />On GitHub, the HTML representation is unable to render, please try loading this page with nbviewer.org.</b></div><div class=\"sk-container\" hidden><div class=\"sk-item\"><div class=\"sk-estimator sk-toggleable\"><input class=\"sk-toggleable__control sk-hidden--visually\" id=\"sk-estimator-id-3\" type=\"checkbox\" checked><label for=\"sk-estimator-id-3\" class=\"sk-toggleable__label sk-toggleable__label-arrow\">SVR</label><div class=\"sk-toggleable__content\"><pre>SVR()</pre></div></div></div></div></div>"
      ],
      "text/plain": [
       "SVR()"
      ]
     },
     "execution_count": 82,
     "metadata": {},
     "output_type": "execute_result"
    }
   ],
   "source": [
    "svc_rbf.fit(train_X,train_y)"
   ]
  },
  {
   "cell_type": "code",
   "execution_count": 83,
   "id": "3d166387",
   "metadata": {},
   "outputs": [],
   "source": [
    "# Predict on test set\n",
    "svm_rbf_pred_y = svc_rbf.predict(test_X)"
   ]
  },
  {
   "cell_type": "code",
   "execution_count": 84,
   "id": "1a6ed2dd",
   "metadata": {},
   "outputs": [
    {
     "name": "stdout",
     "output_type": "stream",
     "text": [
      "RMSE = 0.983\n",
      "MAE = 0.658\n",
      "R2 = 0.015\n"
     ]
    }
   ],
   "source": [
    "print(\"RMSE =\", round(np.sqrt(metrics.mean_squared_error(test_y, svm_rbf_pred_y)),3))\n",
    "print(\"MAE =\", round(metrics.mean_absolute_error(test_y, svm_rbf_pred_y),3))\n",
    "print(\"R2 =\", round(metrics.r2_score(test_y, svm_rbf_pred_y),3))"
   ]
  },
  {
   "cell_type": "code",
   "execution_count": 85,
   "id": "69723d7a",
   "metadata": {},
   "outputs": [],
   "source": [
    "# train a svm model with a poly kernel\n",
    "svc_poly = svm.SVR(kernel='poly', C=1.0)"
   ]
  },
  {
   "cell_type": "code",
   "execution_count": 86,
   "id": "3449e444",
   "metadata": {},
   "outputs": [
    {
     "data": {
      "text/html": [
       "<style>#sk-container-id-4 {color: black;background-color: white;}#sk-container-id-4 pre{padding: 0;}#sk-container-id-4 div.sk-toggleable {background-color: white;}#sk-container-id-4 label.sk-toggleable__label {cursor: pointer;display: block;width: 100%;margin-bottom: 0;padding: 0.3em;box-sizing: border-box;text-align: center;}#sk-container-id-4 label.sk-toggleable__label-arrow:before {content: \"▸\";float: left;margin-right: 0.25em;color: #696969;}#sk-container-id-4 label.sk-toggleable__label-arrow:hover:before {color: black;}#sk-container-id-4 div.sk-estimator:hover label.sk-toggleable__label-arrow:before {color: black;}#sk-container-id-4 div.sk-toggleable__content {max-height: 0;max-width: 0;overflow: hidden;text-align: left;background-color: #f0f8ff;}#sk-container-id-4 div.sk-toggleable__content pre {margin: 0.2em;color: black;border-radius: 0.25em;background-color: #f0f8ff;}#sk-container-id-4 input.sk-toggleable__control:checked~div.sk-toggleable__content {max-height: 200px;max-width: 100%;overflow: auto;}#sk-container-id-4 input.sk-toggleable__control:checked~label.sk-toggleable__label-arrow:before {content: \"▾\";}#sk-container-id-4 div.sk-estimator input.sk-toggleable__control:checked~label.sk-toggleable__label {background-color: #d4ebff;}#sk-container-id-4 div.sk-label input.sk-toggleable__control:checked~label.sk-toggleable__label {background-color: #d4ebff;}#sk-container-id-4 input.sk-hidden--visually {border: 0;clip: rect(1px 1px 1px 1px);clip: rect(1px, 1px, 1px, 1px);height: 1px;margin: -1px;overflow: hidden;padding: 0;position: absolute;width: 1px;}#sk-container-id-4 div.sk-estimator {font-family: monospace;background-color: #f0f8ff;border: 1px dotted black;border-radius: 0.25em;box-sizing: border-box;margin-bottom: 0.5em;}#sk-container-id-4 div.sk-estimator:hover {background-color: #d4ebff;}#sk-container-id-4 div.sk-parallel-item::after {content: \"\";width: 100%;border-bottom: 1px solid gray;flex-grow: 1;}#sk-container-id-4 div.sk-label:hover label.sk-toggleable__label {background-color: #d4ebff;}#sk-container-id-4 div.sk-serial::before {content: \"\";position: absolute;border-left: 1px solid gray;box-sizing: border-box;top: 0;bottom: 0;left: 50%;z-index: 0;}#sk-container-id-4 div.sk-serial {display: flex;flex-direction: column;align-items: center;background-color: white;padding-right: 0.2em;padding-left: 0.2em;position: relative;}#sk-container-id-4 div.sk-item {position: relative;z-index: 1;}#sk-container-id-4 div.sk-parallel {display: flex;align-items: stretch;justify-content: center;background-color: white;position: relative;}#sk-container-id-4 div.sk-item::before, #sk-container-id-4 div.sk-parallel-item::before {content: \"\";position: absolute;border-left: 1px solid gray;box-sizing: border-box;top: 0;bottom: 0;left: 50%;z-index: -1;}#sk-container-id-4 div.sk-parallel-item {display: flex;flex-direction: column;z-index: 1;position: relative;background-color: white;}#sk-container-id-4 div.sk-parallel-item:first-child::after {align-self: flex-end;width: 50%;}#sk-container-id-4 div.sk-parallel-item:last-child::after {align-self: flex-start;width: 50%;}#sk-container-id-4 div.sk-parallel-item:only-child::after {width: 0;}#sk-container-id-4 div.sk-dashed-wrapped {border: 1px dashed gray;margin: 0 0.4em 0.5em 0.4em;box-sizing: border-box;padding-bottom: 0.4em;background-color: white;}#sk-container-id-4 div.sk-label label {font-family: monospace;font-weight: bold;display: inline-block;line-height: 1.2em;}#sk-container-id-4 div.sk-label-container {text-align: center;}#sk-container-id-4 div.sk-container {/* jupyter's `normalize.less` sets `[hidden] { display: none; }` but bootstrap.min.css set `[hidden] { display: none !important; }` so we also need the `!important` here to be able to override the default hidden behavior on the sphinx rendered scikit-learn.org. See: https://github.com/scikit-learn/scikit-learn/issues/21755 */display: inline-block !important;position: relative;}#sk-container-id-4 div.sk-text-repr-fallback {display: none;}</style><div id=\"sk-container-id-4\" class=\"sk-top-container\"><div class=\"sk-text-repr-fallback\"><pre>SVR(kernel=&#x27;poly&#x27;)</pre><b>In a Jupyter environment, please rerun this cell to show the HTML representation or trust the notebook. <br />On GitHub, the HTML representation is unable to render, please try loading this page with nbviewer.org.</b></div><div class=\"sk-container\" hidden><div class=\"sk-item\"><div class=\"sk-estimator sk-toggleable\"><input class=\"sk-toggleable__control sk-hidden--visually\" id=\"sk-estimator-id-4\" type=\"checkbox\" checked><label for=\"sk-estimator-id-4\" class=\"sk-toggleable__label sk-toggleable__label-arrow\">SVR</label><div class=\"sk-toggleable__content\"><pre>SVR(kernel=&#x27;poly&#x27;)</pre></div></div></div></div></div>"
      ],
      "text/plain": [
       "SVR(kernel='poly')"
      ]
     },
     "execution_count": 86,
     "metadata": {},
     "output_type": "execute_result"
    }
   ],
   "source": [
    "svc_poly.fit(train_X,train_y)"
   ]
  },
  {
   "cell_type": "code",
   "execution_count": 88,
   "id": "23220385",
   "metadata": {},
   "outputs": [],
   "source": [
    "# Predict on test set\n",
    "svm_poly_pred_y = svc_poly.predict(test_X)"
   ]
  },
  {
   "cell_type": "code",
   "execution_count": 89,
   "id": "9ccbe1fc",
   "metadata": {},
   "outputs": [
    {
     "name": "stdout",
     "output_type": "stream",
     "text": [
      "RMSE = 0.984\n",
      "MAE = 0.659\n",
      "R2 = 0.013\n"
     ]
    }
   ],
   "source": [
    "print(\"RMSE =\", round(np.sqrt(metrics.mean_squared_error(test_y, svm_poly_pred_y)),3))\n",
    "print(\"MAE =\", round(metrics.mean_absolute_error(test_y, svm_poly_pred_y),3))\n",
    "print(\"R2 =\", round(metrics.r2_score(test_y, svm_poly_pred_y),3))"
   ]
  },
  {
   "cell_type": "code",
   "execution_count": 102,
   "id": "3857b1f1",
   "metadata": {},
   "outputs": [],
   "source": [
    "# train a svm model with a sigmoid kernel\n",
    "svc_sigmoid = svm.SVR(kernel='sigmoid', C=1.0)"
   ]
  },
  {
   "cell_type": "code",
   "execution_count": 103,
   "id": "3c23a9d4",
   "metadata": {},
   "outputs": [
    {
     "data": {
      "text/html": [
       "<style>#sk-container-id-7 {color: black;background-color: white;}#sk-container-id-7 pre{padding: 0;}#sk-container-id-7 div.sk-toggleable {background-color: white;}#sk-container-id-7 label.sk-toggleable__label {cursor: pointer;display: block;width: 100%;margin-bottom: 0;padding: 0.3em;box-sizing: border-box;text-align: center;}#sk-container-id-7 label.sk-toggleable__label-arrow:before {content: \"▸\";float: left;margin-right: 0.25em;color: #696969;}#sk-container-id-7 label.sk-toggleable__label-arrow:hover:before {color: black;}#sk-container-id-7 div.sk-estimator:hover label.sk-toggleable__label-arrow:before {color: black;}#sk-container-id-7 div.sk-toggleable__content {max-height: 0;max-width: 0;overflow: hidden;text-align: left;background-color: #f0f8ff;}#sk-container-id-7 div.sk-toggleable__content pre {margin: 0.2em;color: black;border-radius: 0.25em;background-color: #f0f8ff;}#sk-container-id-7 input.sk-toggleable__control:checked~div.sk-toggleable__content {max-height: 200px;max-width: 100%;overflow: auto;}#sk-container-id-7 input.sk-toggleable__control:checked~label.sk-toggleable__label-arrow:before {content: \"▾\";}#sk-container-id-7 div.sk-estimator input.sk-toggleable__control:checked~label.sk-toggleable__label {background-color: #d4ebff;}#sk-container-id-7 div.sk-label input.sk-toggleable__control:checked~label.sk-toggleable__label {background-color: #d4ebff;}#sk-container-id-7 input.sk-hidden--visually {border: 0;clip: rect(1px 1px 1px 1px);clip: rect(1px, 1px, 1px, 1px);height: 1px;margin: -1px;overflow: hidden;padding: 0;position: absolute;width: 1px;}#sk-container-id-7 div.sk-estimator {font-family: monospace;background-color: #f0f8ff;border: 1px dotted black;border-radius: 0.25em;box-sizing: border-box;margin-bottom: 0.5em;}#sk-container-id-7 div.sk-estimator:hover {background-color: #d4ebff;}#sk-container-id-7 div.sk-parallel-item::after {content: \"\";width: 100%;border-bottom: 1px solid gray;flex-grow: 1;}#sk-container-id-7 div.sk-label:hover label.sk-toggleable__label {background-color: #d4ebff;}#sk-container-id-7 div.sk-serial::before {content: \"\";position: absolute;border-left: 1px solid gray;box-sizing: border-box;top: 0;bottom: 0;left: 50%;z-index: 0;}#sk-container-id-7 div.sk-serial {display: flex;flex-direction: column;align-items: center;background-color: white;padding-right: 0.2em;padding-left: 0.2em;position: relative;}#sk-container-id-7 div.sk-item {position: relative;z-index: 1;}#sk-container-id-7 div.sk-parallel {display: flex;align-items: stretch;justify-content: center;background-color: white;position: relative;}#sk-container-id-7 div.sk-item::before, #sk-container-id-7 div.sk-parallel-item::before {content: \"\";position: absolute;border-left: 1px solid gray;box-sizing: border-box;top: 0;bottom: 0;left: 50%;z-index: -1;}#sk-container-id-7 div.sk-parallel-item {display: flex;flex-direction: column;z-index: 1;position: relative;background-color: white;}#sk-container-id-7 div.sk-parallel-item:first-child::after {align-self: flex-end;width: 50%;}#sk-container-id-7 div.sk-parallel-item:last-child::after {align-self: flex-start;width: 50%;}#sk-container-id-7 div.sk-parallel-item:only-child::after {width: 0;}#sk-container-id-7 div.sk-dashed-wrapped {border: 1px dashed gray;margin: 0 0.4em 0.5em 0.4em;box-sizing: border-box;padding-bottom: 0.4em;background-color: white;}#sk-container-id-7 div.sk-label label {font-family: monospace;font-weight: bold;display: inline-block;line-height: 1.2em;}#sk-container-id-7 div.sk-label-container {text-align: center;}#sk-container-id-7 div.sk-container {/* jupyter's `normalize.less` sets `[hidden] { display: none; }` but bootstrap.min.css set `[hidden] { display: none !important; }` so we also need the `!important` here to be able to override the default hidden behavior on the sphinx rendered scikit-learn.org. See: https://github.com/scikit-learn/scikit-learn/issues/21755 */display: inline-block !important;position: relative;}#sk-container-id-7 div.sk-text-repr-fallback {display: none;}</style><div id=\"sk-container-id-7\" class=\"sk-top-container\"><div class=\"sk-text-repr-fallback\"><pre>SVR(kernel=&#x27;sigmoid&#x27;)</pre><b>In a Jupyter environment, please rerun this cell to show the HTML representation or trust the notebook. <br />On GitHub, the HTML representation is unable to render, please try loading this page with nbviewer.org.</b></div><div class=\"sk-container\" hidden><div class=\"sk-item\"><div class=\"sk-estimator sk-toggleable\"><input class=\"sk-toggleable__control sk-hidden--visually\" id=\"sk-estimator-id-7\" type=\"checkbox\" checked><label for=\"sk-estimator-id-7\" class=\"sk-toggleable__label sk-toggleable__label-arrow\">SVR</label><div class=\"sk-toggleable__content\"><pre>SVR(kernel=&#x27;sigmoid&#x27;)</pre></div></div></div></div></div>"
      ],
      "text/plain": [
       "SVR(kernel='sigmoid')"
      ]
     },
     "execution_count": 103,
     "metadata": {},
     "output_type": "execute_result"
    }
   ],
   "source": [
    "svc_sigmoid.fit(train_X,train_y)"
   ]
  },
  {
   "cell_type": "code",
   "execution_count": 104,
   "id": "53d5ee32",
   "metadata": {},
   "outputs": [],
   "source": [
    "# Predict on test set\n",
    "svm_sigmoid_pred_y = svc_sigmoid.predict(test_X)"
   ]
  },
  {
   "cell_type": "code",
   "execution_count": 105,
   "id": "69add9f9",
   "metadata": {},
   "outputs": [
    {
     "name": "stdout",
     "output_type": "stream",
     "text": [
      "RMSE = 305.558\n",
      "MAE = 172.295\n",
      "R2 = -95242.12\n"
     ]
    }
   ],
   "source": [
    "print(\"RMSE =\", round(np.sqrt(metrics.mean_squared_error(test_y, svm_sigmoid_pred_y)),3))\n",
    "print(\"MAE =\", round(metrics.mean_absolute_error(test_y, svm_sigmoid_pred_y),3))\n",
    "print(\"R2 =\", round(metrics.r2_score(test_y, svm_sigmoid_pred_y),3))"
   ]
  },
  {
   "cell_type": "code",
   "execution_count": 90,
   "id": "2f588554",
   "metadata": {},
   "outputs": [],
   "source": [
    "# Decision Tree\n",
    "from sklearn import tree"
   ]
  },
  {
   "cell_type": "code",
   "execution_count": 92,
   "id": "ef00129c",
   "metadata": {},
   "outputs": [
    {
     "data": {
      "text/html": [
       "<style>#sk-container-id-5 {color: black;background-color: white;}#sk-container-id-5 pre{padding: 0;}#sk-container-id-5 div.sk-toggleable {background-color: white;}#sk-container-id-5 label.sk-toggleable__label {cursor: pointer;display: block;width: 100%;margin-bottom: 0;padding: 0.3em;box-sizing: border-box;text-align: center;}#sk-container-id-5 label.sk-toggleable__label-arrow:before {content: \"▸\";float: left;margin-right: 0.25em;color: #696969;}#sk-container-id-5 label.sk-toggleable__label-arrow:hover:before {color: black;}#sk-container-id-5 div.sk-estimator:hover label.sk-toggleable__label-arrow:before {color: black;}#sk-container-id-5 div.sk-toggleable__content {max-height: 0;max-width: 0;overflow: hidden;text-align: left;background-color: #f0f8ff;}#sk-container-id-5 div.sk-toggleable__content pre {margin: 0.2em;color: black;border-radius: 0.25em;background-color: #f0f8ff;}#sk-container-id-5 input.sk-toggleable__control:checked~div.sk-toggleable__content {max-height: 200px;max-width: 100%;overflow: auto;}#sk-container-id-5 input.sk-toggleable__control:checked~label.sk-toggleable__label-arrow:before {content: \"▾\";}#sk-container-id-5 div.sk-estimator input.sk-toggleable__control:checked~label.sk-toggleable__label {background-color: #d4ebff;}#sk-container-id-5 div.sk-label input.sk-toggleable__control:checked~label.sk-toggleable__label {background-color: #d4ebff;}#sk-container-id-5 input.sk-hidden--visually {border: 0;clip: rect(1px 1px 1px 1px);clip: rect(1px, 1px, 1px, 1px);height: 1px;margin: -1px;overflow: hidden;padding: 0;position: absolute;width: 1px;}#sk-container-id-5 div.sk-estimator {font-family: monospace;background-color: #f0f8ff;border: 1px dotted black;border-radius: 0.25em;box-sizing: border-box;margin-bottom: 0.5em;}#sk-container-id-5 div.sk-estimator:hover {background-color: #d4ebff;}#sk-container-id-5 div.sk-parallel-item::after {content: \"\";width: 100%;border-bottom: 1px solid gray;flex-grow: 1;}#sk-container-id-5 div.sk-label:hover label.sk-toggleable__label {background-color: #d4ebff;}#sk-container-id-5 div.sk-serial::before {content: \"\";position: absolute;border-left: 1px solid gray;box-sizing: border-box;top: 0;bottom: 0;left: 50%;z-index: 0;}#sk-container-id-5 div.sk-serial {display: flex;flex-direction: column;align-items: center;background-color: white;padding-right: 0.2em;padding-left: 0.2em;position: relative;}#sk-container-id-5 div.sk-item {position: relative;z-index: 1;}#sk-container-id-5 div.sk-parallel {display: flex;align-items: stretch;justify-content: center;background-color: white;position: relative;}#sk-container-id-5 div.sk-item::before, #sk-container-id-5 div.sk-parallel-item::before {content: \"\";position: absolute;border-left: 1px solid gray;box-sizing: border-box;top: 0;bottom: 0;left: 50%;z-index: -1;}#sk-container-id-5 div.sk-parallel-item {display: flex;flex-direction: column;z-index: 1;position: relative;background-color: white;}#sk-container-id-5 div.sk-parallel-item:first-child::after {align-self: flex-end;width: 50%;}#sk-container-id-5 div.sk-parallel-item:last-child::after {align-self: flex-start;width: 50%;}#sk-container-id-5 div.sk-parallel-item:only-child::after {width: 0;}#sk-container-id-5 div.sk-dashed-wrapped {border: 1px dashed gray;margin: 0 0.4em 0.5em 0.4em;box-sizing: border-box;padding-bottom: 0.4em;background-color: white;}#sk-container-id-5 div.sk-label label {font-family: monospace;font-weight: bold;display: inline-block;line-height: 1.2em;}#sk-container-id-5 div.sk-label-container {text-align: center;}#sk-container-id-5 div.sk-container {/* jupyter's `normalize.less` sets `[hidden] { display: none; }` but bootstrap.min.css set `[hidden] { display: none !important; }` so we also need the `!important` here to be able to override the default hidden behavior on the sphinx rendered scikit-learn.org. See: https://github.com/scikit-learn/scikit-learn/issues/21755 */display: inline-block !important;position: relative;}#sk-container-id-5 div.sk-text-repr-fallback {display: none;}</style><div id=\"sk-container-id-5\" class=\"sk-top-container\"><div class=\"sk-text-repr-fallback\"><pre>DecisionTreeRegressor()</pre><b>In a Jupyter environment, please rerun this cell to show the HTML representation or trust the notebook. <br />On GitHub, the HTML representation is unable to render, please try loading this page with nbviewer.org.</b></div><div class=\"sk-container\" hidden><div class=\"sk-item\"><div class=\"sk-estimator sk-toggleable\"><input class=\"sk-toggleable__control sk-hidden--visually\" id=\"sk-estimator-id-5\" type=\"checkbox\" checked><label for=\"sk-estimator-id-5\" class=\"sk-toggleable__label sk-toggleable__label-arrow\">DecisionTreeRegressor</label><div class=\"sk-toggleable__content\"><pre>DecisionTreeRegressor()</pre></div></div></div></div></div>"
      ],
      "text/plain": [
       "DecisionTreeRegressor()"
      ]
     },
     "execution_count": 92,
     "metadata": {},
     "output_type": "execute_result"
    }
   ],
   "source": [
    "dt = tree.DecisionTreeRegressor(criterion='squared_error')\n",
    "dt.fit(train_X, train_y)"
   ]
  },
  {
   "cell_type": "code",
   "execution_count": 93,
   "id": "aa8c2982",
   "metadata": {},
   "outputs": [],
   "source": [
    "# Predict on test set\n",
    "dt_pred_y = dt.predict(test_X)"
   ]
  },
  {
   "cell_type": "code",
   "execution_count": 94,
   "id": "02aeef16",
   "metadata": {},
   "outputs": [
    {
     "name": "stdout",
     "output_type": "stream",
     "text": [
      "RMSE = 0.976\n",
      "MAE = 0.69\n",
      "R2 = 0.027\n"
     ]
    }
   ],
   "source": [
    "print(\"RMSE =\", round(np.sqrt(metrics.mean_squared_error(test_y, dt_pred_y)),3))\n",
    "print(\"MAE =\", round(metrics.mean_absolute_error(test_y, dt_pred_y),3))\n",
    "print(\"R2 =\", round(metrics.r2_score(test_y, dt_pred_y),3))"
   ]
  },
  {
   "cell_type": "code",
   "execution_count": 106,
   "id": "82cdfbab",
   "metadata": {},
   "outputs": [
    {
     "data": {
      "text/html": [
       "<div>\n",
       "<style scoped>\n",
       "    .dataframe tbody tr th:only-of-type {\n",
       "        vertical-align: middle;\n",
       "    }\n",
       "\n",
       "    .dataframe tbody tr th {\n",
       "        vertical-align: top;\n",
       "    }\n",
       "\n",
       "    .dataframe thead th {\n",
       "        text-align: right;\n",
       "    }\n",
       "</style>\n",
       "<table border=\"1\" class=\"dataframe\">\n",
       "  <thead>\n",
       "    <tr style=\"text-align: right;\">\n",
       "      <th></th>\n",
       "      <th>RMSE</th>\n",
       "      <th>MAE</th>\n",
       "      <th>R2</th>\n",
       "    </tr>\n",
       "  </thead>\n",
       "  <tbody>\n",
       "    <tr>\n",
       "      <th>RF</th>\n",
       "      <td>0.971</td>\n",
       "      <td>0.687</td>\n",
       "      <td>0.037</td>\n",
       "    </tr>\n",
       "    <tr>\n",
       "      <th>SVM with a linear kernel</th>\n",
       "      <td>0.984</td>\n",
       "      <td>0.658</td>\n",
       "      <td>0.013</td>\n",
       "    </tr>\n",
       "    <tr>\n",
       "      <th>SVM with a rbf kernel</th>\n",
       "      <td>0.983</td>\n",
       "      <td>0.658</td>\n",
       "      <td>0.015</td>\n",
       "    </tr>\n",
       "    <tr>\n",
       "      <th>SVM with a poly kernel</th>\n",
       "      <td>0.984</td>\n",
       "      <td>0.659</td>\n",
       "      <td>0.013</td>\n",
       "    </tr>\n",
       "    <tr>\n",
       "      <th>SVM with a sigmoid kernel</th>\n",
       "      <td>305.558</td>\n",
       "      <td>172.295</td>\n",
       "      <td>-95242.120</td>\n",
       "    </tr>\n",
       "    <tr>\n",
       "      <th>DT</th>\n",
       "      <td>0.976</td>\n",
       "      <td>0.690</td>\n",
       "      <td>0.027</td>\n",
       "    </tr>\n",
       "  </tbody>\n",
       "</table>\n",
       "</div>"
      ],
      "text/plain": [
       "                              RMSE      MAE         R2\n",
       "RF                           0.971    0.687      0.037\n",
       "SVM with a linear kernel     0.984    0.658      0.013\n",
       "SVM with a rbf kernel        0.983    0.658      0.015\n",
       "SVM with a poly kernel       0.984    0.659      0.013\n",
       "SVM with a sigmoid kernel  305.558  172.295 -95242.120\n",
       "DT                           0.976    0.690      0.027"
      ]
     },
     "execution_count": 106,
     "metadata": {},
     "output_type": "execute_result"
    }
   ],
   "source": [
    "# Model Comparison\n",
    "RMSE = [round(np.sqrt(metrics.mean_squared_error(test_y, rf_pred_y)),3),\n",
    "        round(np.sqrt(metrics.mean_squared_error(test_y, svm_linear_pred_y)),3),\n",
    "        round(np.sqrt(metrics.mean_squared_error(test_y, svm_rbf_pred_y)),3),\n",
    "        round(np.sqrt(metrics.mean_squared_error(test_y, svm_poly_pred_y)),3),\n",
    "        round(np.sqrt(metrics.mean_squared_error(test_y, svm_sigmoid_pred_y)),3),\n",
    "        round(np.sqrt(metrics.mean_squared_error(test_y, dt_pred_y)),3)]\n",
    "MAE = [round(metrics.mean_absolute_error(test_y, rf_pred_y),3),\n",
    "       round(metrics.mean_absolute_error(test_y, svm_linear_pred_y),3),\n",
    "       round(metrics.mean_absolute_error(test_y, svm_rbf_pred_y),3),\n",
    "       round(metrics.mean_absolute_error(test_y, svm_poly_pred_y),3),\n",
    "       round(metrics.mean_absolute_error(test_y, svm_sigmoid_pred_y),3),\n",
    "       round(metrics.mean_absolute_error(test_y, dt_pred_y),3)]\n",
    "R2 = [round(metrics.r2_score(test_y, rf_pred_y),3),\n",
    "      round(metrics.r2_score(test_y, svm_linear_pred_y),3),\n",
    "      round(metrics.r2_score(test_y, svm_rbf_pred_y),3),\n",
    "      round(metrics.r2_score(test_y, svm_poly_pred_y),3),\n",
    "      round(metrics.r2_score(test_y, svm_sigmoid_pred_y),3),\n",
    "      round(metrics.r2_score(test_y, dt_pred_y),3)]\n",
    "pd.DataFrame({'RMSE':RMSE, 'MAE':MAE, 'R2':R2},\n",
    "             index = ['RF','SVM with a linear kernel', 'SVM with a rbf kernel','SVM with a poly kernel','SVM with a sigmoid kernel','DT'])"
   ]
  }
 ],
 "metadata": {
  "kernelspec": {
   "display_name": "Python 3.10.8 64-bit",
   "language": "python",
   "name": "python3"
  },
  "language_info": {
   "codemirror_mode": {
    "name": "ipython",
    "version": 3
   },
   "file_extension": ".py",
   "mimetype": "text/x-python",
   "name": "python",
   "nbconvert_exporter": "python",
   "pygments_lexer": "ipython3",
   "version": "3.10.8"
  },
  "vscode": {
   "interpreter": {
    "hash": "a55bbdcad772c2486bac95a5aef28ef359c53b8a2e9a79749f0316c5bc1746e8"
   }
  }
 },
 "nbformat": 4,
 "nbformat_minor": 5
}
