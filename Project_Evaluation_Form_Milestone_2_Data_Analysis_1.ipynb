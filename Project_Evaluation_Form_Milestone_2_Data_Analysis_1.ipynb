{
 "cells": [
  {
   "cell_type": "markdown",
   "metadata": {},
   "source": [
    "## Project Evaluation Form – Milestone 2: Data Analysis I \n",
    "By: Ben Bonsu, Ryan Brothers, Charles Williams, Pingping Zhang"
   ]
  },
  {
   "cell_type": "markdown",
   "metadata": {},
   "source": [
    "## Introduction\n",
    "(background, buisness setting, and scenarios etc)"
   ]
  },
  {
   "cell_type": "markdown",
   "metadata": {},
   "source": [
    "Streaming service platforms such as Netflix, Hulu, Peacock, Amazon Prime Video, Disney+, etc. have brought the movie theater experience to people’s living room in this day and age. Thanks to these video streaming services; movie fans have access to extensive libraries of popular movies. However, streaming services are a double-edged sword to some extent. When people are presented with too many movie options, they are likely to have difficulty choosing one among them. In that case, people run into choice overload. If that occurs a lot, users of these video streaming services might lose their interest in these services, and subsequently cancel their subscriptions. Therefore, it is essential to develop an effective and efficient method, aka, movie recommendation system, to help users of video streaming services to select movies that are to their taste.\n",
    "\n",
    "The existing movie recommendation system can be grouped into two types—collaborative filtering approach and content-based approach. The former combines the ratings of different users who have similar tastes and then makes a movie recommendation while the latter focuses on a single user and uses the user’s history and ratings to recommend a movie.\n",
    "\n",
    "In practice, quite a few streaming service platforms have their own recommendation systems, for example, Netflix’s recommender system includes Personalized Video Ranking (PVR), Top-N Video Ranker, Trending Now Ranker, Continue Watching Ranker, and Video-Video Similarity Ranker. However, some streaming service platforms have not developed their recommendation systems yet, for example, Plex. Some users of Plex complain about this problem. Plex allows their users to self-host their personal shows, movies, and the like. Given the self-hosting nature as well as the varying collections of each individual user, Plex has not applied any algorithms that recommend movies to its users based on their movie watching and rating history. Obviously, users will not have a good user experience, and as a result, Plex will have trouble in improving its user retention rate.\n",
    "\n",
    "For these reasons, our team would like to develop a Machine Learning (ML) algorithm to create an open-source version of a movie recommendation system with the MovieLens 25M Dataset. Hopefully, this movie recommendation system will be able to help streaming service platforms such as Plex to improve their subscriber’s user experience in the future."
   ]
  },
  {
   "cell_type": "markdown",
   "metadata": {},
   "source": [
    "### Data Source and Collection\n",
    "(refined from Milestone 1)"
   ]
  },
  {
   "cell_type": "markdown",
   "metadata": {},
   "source": [
    "### Data Manipulation\n",
    "(outline how you manipulated the data and actually do it.)"
   ]
  },
  {
   "cell_type": "markdown",
   "metadata": {},
   "source": [
    "put manip here"
   ]
  },
  {
   "cell_type": "markdown",
   "metadata": {},
   "source": [
    "### Data summarization and Visualization\n",
    "(Summarize the findings from the manipulation and put it in easy to read visualizations)"
   ]
  },
  {
   "cell_type": "markdown",
   "metadata": {},
   "source": [
    "put sum and vis here"
   ]
  },
  {
   "cell_type": "code",
   "execution_count": 1,
   "metadata": {},
   "outputs": [
    {
     "name": "stdout",
     "output_type": "stream",
     "text": [
      "example\n"
     ]
    }
   ],
   "source": [
    "print(\"example\")"
   ]
  },
  {
   "cell_type": "code",
   "execution_count": null,
   "metadata": {},
   "outputs": [],
   "source": []
  }
 ],
 "metadata": {
  "kernelspec": {
   "display_name": "Python 3 (ipykernel)",
   "language": "python",
   "name": "python3"
  },
  "language_info": {
   "codemirror_mode": {
    "name": "ipython",
    "version": 3
   },
   "file_extension": ".py",
   "mimetype": "text/x-python",
   "name": "python",
   "nbconvert_exporter": "python",
   "pygments_lexer": "ipython3",
   "version": "3.10.6"
  },
  "vscode": {
   "interpreter": {
    "hash": "8672877dd32802d98cc8dd76526b7f63069f3bf3ad8b5955c3b3012d9ada6b9c"
   }
  }
 },
 "nbformat": 4,
 "nbformat_minor": 2
}
