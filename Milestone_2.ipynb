{
 "cells": [
  {
   "cell_type": "code",
   "execution_count": 24,
   "id": "6f73e2a6",
   "metadata": {},
   "outputs": [],
   "source": [
    "import pandas as pd\n",
    "import numpy as np\n",
    "from sklearn.decomposition import PCA\n",
    "import matplotlib.pyplot as plt\n",
    "from sklearn.preprocessing import scale\n",
    "# to use this you will have to install pandasql to your environment\n",
    "# use: pip install pandasql\n",
    "from pandasql import sqldf as sq\n",
    "# call the lambda function pysqdf to run a querry on one of the tables using SQL, there are examples in the code further down\n",
    "pysqdf = lambda q: sq(q, globals())"
   ]
  },
  {
   "cell_type": "code",
   "execution_count": 25,
   "id": "5e03e0d6",
   "metadata": {},
   "outputs": [],
   "source": [
    "pkl_names = [    \"genomeScores\",\n",
    "        \"genomeTags\",\n",
    "        \"links\",\n",
    "        \"movies\",\n",
    "        \"tags\",\n",
    "        \"ratings\"]\n",
    "\n",
    "\n",
    "genomeScores = pd.read_pickle('pickle/genomeScores.pkl')\n",
    "genomeTags = pd.read_pickle('pickle/genomeTags.pkl')\n",
    "links = pd.read_pickle('pickle/links.pkl')\n",
    "movies = pd.read_pickle('pickle/movies.pkl')\n",
    "tags = pd.read_pickle('pickle/tags.pkl')\n",
    "#you will need to make the ratings.pkl file, watch the tutorial that Ryan Put in the discord on how to make that. \n",
    "# try - except statement, if the part in the try errors out it will run the code in except, if the try code succeeds it will not run the except code. Google search for more information\n",
    "try:\n",
    "    ratings = pd.read_pickle('pickle/ratings.pkl')\n",
    "    # creates a list of all the pkl files\n",
    "    all_pkls = [    genomeScores,\n",
    "        genomeTags,\n",
    "        links,\n",
    "        movies,\n",
    "        tags,\n",
    "        ratings]\n",
    "except: \n",
    "    print(\"there is no ratings.pkl file in the pickle folder\")\n",
    "    try:\n",
    "        ratings_csv = pd.read_csv('ml-25m/ratings.csv')\n",
    "        # if there is no pkl file for raings add it as a csv file\n",
    "        all_pkls = [    genomeScores,\n",
    "            genomeTags,\n",
    "            links,\n",
    "            movies,\n",
    "            tags,\n",
    "            ratings_csv]\n",
    "    except:\n",
    "        print(\"raings.csv not found in the folder ml-25\")\n",
    "        # if there is no csv or pkl file for ratings do not include it in the list\n",
    "        all_pkls = [    genomeScores,\n",
    "            genomeTags,\n",
    "            links,\n",
    "            movies,\n",
    "            tags]\n"
   ]
  },
  {
   "cell_type": "code",
   "execution_count": 26,
   "id": "59e07751",
   "metadata": {},
   "outputs": [],
   "source": [
    "# As it is the genres column of the movies table is delimited with |, ex: 1 \"Movie title\" action|horror\n",
    "# this changes it to be multiple rows instead it would be : 1 \"Movie Title\" action, 1 \"Movite Title\" horror\n",
    "\n",
    "movies_split = movies.loc[movies.index.repeat(movies.genres.str.count('\\|') + 1)].assign(genres=np.concatenate(movies.genres.str.split('|')))\n",
    "#movies_split.to_csv(\"movie_genres.csv\")"
   ]
  },
  {
   "cell_type": "code",
   "execution_count": 14,
   "id": "15490f47",
   "metadata": {},
   "outputs": [],
   "source": [
    "movies_split.to_csv(\"test.csv\")"
   ]
  },
  {
   "cell_type": "code",
   "execution_count": 19,
   "id": "9d926dc1",
   "metadata": {},
   "outputs": [
    {
     "name": "stdout",
     "output_type": "stream",
     "text": [
      "      tagId           tag\n",
      "0         1           007\n",
      "1         2  007 (series)\n",
      "2         3  18th century\n",
      "3         4         1920s\n",
      "4         5         1930s\n",
      "...     ...           ...\n",
      "1123   1124       writing\n",
      "1124   1125         wuxia\n",
      "1125   1126          wwii\n",
      "1126   1127        zombie\n",
      "1127   1128       zombies\n",
      "\n",
      "[1128 rows x 2 columns]\n"
     ]
    }
   ],
   "source": [
    "print(genomeTags)"
   ]
  },
  {
   "cell_type": "code",
   "execution_count": 19,
   "id": "510cc672",
   "metadata": {},
   "outputs": [
    {
     "name": "stdout",
     "output_type": "stream",
     "text": [
      "       movieId   imdbId    tmdbId\n",
      "0            1   114709     862.0\n",
      "1            2   113497    8844.0\n",
      "2            3   113228   15602.0\n",
      "3            4   114885   31357.0\n",
      "4            5   113041   11862.0\n",
      "...        ...      ...       ...\n",
      "62418   209157  6671244  499546.0\n",
      "62419   209159   297986   63407.0\n",
      "62420   209163  6755366  553036.0\n",
      "62421   209169   249603  162892.0\n",
      "62422   209171    55323   79513.0\n",
      "\n",
      "[62423 rows x 3 columns]\n"
     ]
    }
   ],
   "source": [
    "print( links)"
   ]
  },
  {
   "cell_type": "code",
   "execution_count": 20,
   "id": "303eacb7",
   "metadata": {},
   "outputs": [
    {
     "name": "stdout",
     "output_type": "stream",
     "text": [
      "       movieId                               title  \\\n",
      "0            1                    Toy Story (1995)   \n",
      "1            2                      Jumanji (1995)   \n",
      "2            3             Grumpier Old Men (1995)   \n",
      "3            4            Waiting to Exhale (1995)   \n",
      "4            5  Father of the Bride Part II (1995)   \n",
      "...        ...                                 ...   \n",
      "62418   209157                           We (2018)   \n",
      "62419   209159           Window of the Soul (2001)   \n",
      "62420   209163                    Bad Poems (2018)   \n",
      "62421   209169                 A Girl Thing (2001)   \n",
      "62422   209171      Women of Devil's Island (1962)   \n",
      "\n",
      "                                            genres  \n",
      "0      Adventure|Animation|Children|Comedy|Fantasy  \n",
      "1                       Adventure|Children|Fantasy  \n",
      "2                                   Comedy|Romance  \n",
      "3                             Comedy|Drama|Romance  \n",
      "4                                           Comedy  \n",
      "...                                            ...  \n",
      "62418                                        Drama  \n",
      "62419                                  Documentary  \n",
      "62420                                 Comedy|Drama  \n",
      "62421                           (no genres listed)  \n",
      "62422                       Action|Adventure|Drama  \n",
      "\n",
      "[62423 rows x 3 columns]\n"
     ]
    }
   ],
   "source": [
    "print(movies)"
   ]
  },
  {
   "cell_type": "code",
   "execution_count": 20,
   "id": "df31f3c8",
   "metadata": {},
   "outputs": [
    {
     "name": "stdout",
     "output_type": "stream",
     "text": [
      "ratings as a pkl:                  count          mean           std          min           25%  \\\n",
      "userId     25000095.0  8.118928e+04  4.679172e+04          1.0  4.051000e+04   \n",
      "movieId    25000095.0  2.138798e+04  3.919886e+04          1.0  1.196000e+03   \n",
      "rating     25000095.0  3.533854e+00  1.060744e+00          0.5  3.000000e+00   \n",
      "timestamp  25000095.0  1.215601e+09  2.268758e+08  789652009.0  1.011747e+09   \n",
      "\n",
      "                    50%           75%           max  \n",
      "userId     8.091400e+04  1.215570e+05  1.625410e+05  \n",
      "movieId    2.947000e+03  8.623000e+03  2.091710e+05  \n",
      "rating     3.500000e+00  4.000000e+00  5.000000e+00  \n",
      "timestamp  1.198868e+09  1.447205e+09  1.574328e+09  \n"
     ]
    }
   ],
   "source": [
    "try: \n",
    "    print(\"ratings as a pkl: \", ratings.describe().transpose())\n",
    "except: \n",
    "    try:\n",
    "        print(\"ratings as a csv: \", ratings_csv)\n",
    "    except: \n",
    "        print(\"ratings does not excist as a csv or a pkl, please add it\")\n"
   ]
  },
  {
   "cell_type": "code",
   "execution_count": 22,
   "id": "5ec42e09",
   "metadata": {},
   "outputs": [
    {
     "name": "stdout",
     "output_type": "stream",
     "text": [
      "         userId  movieId                  tag   timestamp\n",
      "0             3      260              classic  1439472355\n",
      "1             3      260               sci-fi  1439472256\n",
      "2             4     1732          dark comedy  1573943598\n",
      "3             4     1732       great dialogue  1573943604\n",
      "4             4     7569     so bad it's good  1573943455\n",
      "...         ...      ...                  ...         ...\n",
      "1093355  162521    66934  Neil Patrick Harris  1427311611\n",
      "1093356  162521   103341     cornetto trilogy  1427311259\n",
      "1093357  162534   189169               comedy  1527518175\n",
      "1093358  162534   189169             disabled  1527518181\n",
      "1093359  162534   189169              robbery  1527518193\n",
      "\n",
      "[1093360 rows x 4 columns]\n"
     ]
    }
   ],
   "source": [
    "print(tags)"
   ]
  },
  {
   "cell_type": "markdown",
   "id": "0123ce41",
   "metadata": {},
   "source": [
    "## Print the number of null values in every pkl file"
   ]
  },
  {
   "cell_type": "markdown",
   "id": "9f32ae59",
   "metadata": {},
   "source": []
  },
  {
   "cell_type": "code",
   "execution_count": 3,
   "id": "b1237a7e",
   "metadata": {},
   "outputs": [
    {
     "name": "stdout",
     "output_type": "stream",
     "text": [
      "The table genomeScores has 0 null values\n",
      "The table genomeTags has 0 null values\n",
      "The table links has 107 null values\n",
      "The table movies has 0 null values\n",
      "The table tags has 16 null values\n",
      "The table ratings has 0 null values\n"
     ]
    }
   ],
   "source": [
    "for iter in range(len(all_pkls)):\n",
    "        print(f\"The table {pkl_names[iter]} has {len(all_pkls[iter][all_pkls[iter].isnull().any(axis=1)])} null values\")\n"
   ]
  },
  {
   "cell_type": "markdown",
   "id": "5ea4e8cd",
   "metadata": {},
   "source": [
    "## Check for outliers in dataset"
   ]
  },
  {
   "cell_type": "code",
   "execution_count": 4,
   "id": "0ba733b5",
   "metadata": {},
   "outputs": [
    {
     "name": "stdout",
     "output_type": "stream",
     "text": [
      "   movieId  tagId  relevance\n",
      "0       44   1075    0.99975\n",
      "1      150    944    0.99975\n",
      "2      356    752    0.99975\n",
      "3      903    511    0.99975\n",
      "4      904    511    0.99975\n",
      "5      965    511    0.99975\n",
      "6     1213    741    0.99975\n",
      "7     1231    944    0.99975\n",
      "8     1241    956    0.99975\n",
      "9     1245    224    0.99975\n",
      "   movieId  tagId  relevance\n",
      "0     5789   1080    0.00025\n",
      "1     6923   1080    0.00025\n",
      "2   137062   1002    0.00025\n",
      "3   147940    219    0.00025\n",
      "4      763    119    0.00050\n",
      "5      787    106    0.00050\n",
      "6      795    680    0.00050\n",
      "7      887    119    0.00050\n",
      "8      895    104    0.00050\n",
      "9      985    119    0.00050\n"
     ]
    }
   ],
   "source": [
    "# q is a SQL query, format it like below and then you call pysqdf(q) and pass in your query \"q\" to run your query on the dataframes you specify\n",
    "# in general for SQL, words that are all capitalized are build into the SQL language, things that have lowercase letters are parts of you database/dataframe\n",
    "\n",
    "# Checking genomeScore for outliers on min and max\n",
    "# Check the top \n",
    "q = \"\"\"SELECT *\n",
    "    FROM genomeScores\n",
    "    WHERE relevance <> 1\n",
    "    ORDER BY relevance DESC\n",
    "    LIMIT 10;\"\"\"\n",
    "q2 = \"\"\"SELECT *\n",
    "    FROM genomeScores\n",
    "    WHERE relevance <> 1\n",
    "    ORDER BY relevance\n",
    "    LIMIT 10;\"\"\"\n",
    "print(pysqdf(q))\n",
    "print(pysqdf(q2))\n"
   ]
  },
  {
   "cell_type": "code",
   "execution_count": 28,
   "id": "963f43a0",
   "metadata": {},
   "outputs": [
    {
     "name": "stdout",
     "output_type": "stream",
     "text": [
      "   tagId             tag\n",
      "0   1128         zombies\n",
      "1   1127          zombie\n",
      "2   1126            wwii\n",
      "3   1125           wuxia\n",
      "4   1124         writing\n",
      "5   1123         writers\n",
      "6   1122   writer's life\n",
      "7   1121    world war ii\n",
      "8   1120     world war i\n",
      "9   1119  world politics\n",
      "   tagId           tag\n",
      "0      1           007\n",
      "1      2  007 (series)\n",
      "2      3  18th century\n",
      "3      4         1920s\n",
      "4      5         1930s\n",
      "5      6         1950s\n",
      "6      7         1960s\n",
      "7      8         1970s\n",
      "8      9         1980s\n",
      "9     10  19th century\n"
     ]
    }
   ],
   "source": [
    "# Checking genomeTags for outliers on min and max\n",
    "# Check the top \n",
    "q = \"\"\"SELECT *\n",
    "    FROM genomeTags\n",
    "    ORDER BY tag DESC\n",
    "    LIMIT 10;\"\"\"\n",
    "# Check the bottom 10\n",
    "q2 = \"\"\"SELECT *\n",
    "    FROM genomeTags\n",
    "    ORDER BY tag\n",
    "    LIMIT 10;\"\"\"\n",
    "print(pysqdf(q))\n",
    "print(pysqdf(q2))"
   ]
  },
  {
   "cell_type": "code",
   "execution_count": 30,
   "id": "17f55d98",
   "metadata": {},
   "outputs": [
    {
     "name": "stdout",
     "output_type": "stream",
     "text": [
      "   userId  movieId           tag   timestamp\n",
      "0  123527   201594       villain  1574316696\n",
      "1  123527   201594  country life  1574316682\n",
      "2  123527   201594     farmhouse  1574316680\n",
      "3  123527   201594          farm  1574316678\n",
      "4  123527   201594        kansas  1574316676\n",
      "5  123527   201594      thriller  1574316667\n",
      "6  123527   201594        sci-fi  1574316666\n",
      "7  123527   201594        horror  1574316664\n",
      "8  123527   201594          gore  1574316613\n",
      "9  123527   201594  supernatural  1574316603\n",
      "   userId  movieId              tag   timestamp\n",
      "0  129396     2788     monty python  1135429210\n",
      "1  129396     1732    coen brothers  1135429236\n",
      "2  129396     1206  stanley kubrick  1135429248\n",
      "3  129396     1193   jack nicholson  1135429371\n",
      "4  129396     5004    peter sellers  1135429399\n",
      "5  129396       47        brad pitt  1135429412\n",
      "6  129396       47   morgan freeman  1135429412\n",
      "7  129396     4011        brad pitt  1135429431\n",
      "8  129396     4011      guy ritchie  1135429431\n",
      "9  129396       32     bruce willis  1135429442\n"
     ]
    }
   ],
   "source": [
    "# Checking tags for outliers on min and max\n",
    "# Check the top 10 timestamps\n",
    "q = \"\"\"SELECT *\n",
    "    FROM tags\n",
    "    ORDER BY timestamp DESC\n",
    "    LIMIT 10;\"\"\"\n",
    "# Check the bottom 10 timestamps\n",
    "q2 = \"\"\"SELECT *\n",
    "    FROM tags\n",
    "    ORDER BY timestamp\n",
    "    LIMIT 10;\"\"\"\n",
    "print(pysqdf(q))\n",
    "print(pysqdf(q2))"
   ]
  },
  {
   "cell_type": "code",
   "execution_count": 15,
   "id": "95c90b59",
   "metadata": {},
   "outputs": [],
   "source": [
    "# Checking ratings for outliers on min and max\n",
    "# Shows a users average ratings for all their reviews and the number of reviews they have made\n",
    "q = \"\"\"SELECT userId, avg(rating) as avg_rating, count(movieId) as review_count\n",
    "    FROM ratings\n",
    "    group by userId;\"\"\"\n",
    "ratings_summary = pysqdf(q)\n"
   ]
  },
  {
   "cell_type": "code",
   "execution_count": 16,
   "id": "9fc7d51b",
   "metadata": {},
   "outputs": [],
   "source": [
    "ratings_summary.to_csv(\"ratings_summary.csv\")"
   ]
  },
  {
   "cell_type": "code",
   "execution_count": 13,
   "id": "ad3c3bcd",
   "metadata": {},
   "outputs": [
    {
     "name": "stdout",
     "output_type": "stream",
     "text": [
      "       movieId                               title  \\\n",
      "0            1                    Toy Story (1995)   \n",
      "1            2                      Jumanji (1995)   \n",
      "2            3             Grumpier Old Men (1995)   \n",
      "3            4            Waiting to Exhale (1995)   \n",
      "4            5  Father of the Bride Part II (1995)   \n",
      "...        ...                                 ...   \n",
      "62418   209157                           We (2018)   \n",
      "62419   209159           Window of the Soul (2001)   \n",
      "62420   209163                    Bad Poems (2018)   \n",
      "62421   209169                 A Girl Thing (2001)   \n",
      "62422   209171      Women of Devil's Island (1962)   \n",
      "\n",
      "                                            genres  \n",
      "0      Adventure|Animation|Children|Comedy|Fantasy  \n",
      "1                       Adventure|Children|Fantasy  \n",
      "2                                   Comedy|Romance  \n",
      "3                             Comedy|Drama|Romance  \n",
      "4                                           Comedy  \n",
      "...                                            ...  \n",
      "62418                                        Drama  \n",
      "62419                                  Documentary  \n",
      "62420                                 Comedy|Drama  \n",
      "62421                           (no genres listed)  \n",
      "62422                       Action|Adventure|Drama  \n",
      "\n",
      "[62423 rows x 3 columns]\n"
     ]
    }
   ],
   "source": [
    "# Checking movies for outliers\n",
    "# Check the top 10 timestamps\n",
    "q = \"\"\"SELECT *\n",
    "    FROM movies\n",
    "    order by movieId;\"\"\"\n",
    "print(pysqdf(q))\n"
   ]
  },
  {
   "cell_type": "code",
   "execution_count": 14,
   "id": "dcbb7437",
   "metadata": {},
   "outputs": [
    {
     "name": "stdout",
     "output_type": "stream",
     "text": [
      "       movieId   imdbId    tmdbId\n",
      "0            1   114709     862.0\n",
      "1            2   113497    8844.0\n",
      "2            3   113228   15602.0\n",
      "3            4   114885   31357.0\n",
      "4            5   113041   11862.0\n",
      "...        ...      ...       ...\n",
      "62418   209157  6671244  499546.0\n",
      "62419   209159   297986   63407.0\n",
      "62420   209163  6755366  553036.0\n",
      "62421   209169   249603  162892.0\n",
      "62422   209171    55323   79513.0\n",
      "\n",
      "[62423 rows x 3 columns]\n"
     ]
    }
   ],
   "source": [
    "# Checking links for outliers\n",
    "# Check the top 10 timestamps\n",
    "q = \"\"\"SELECT *\n",
    "    FROM links\n",
    "    order by movieId;\"\"\"\n",
    "\n",
    "print(pysqdf(q))\n"
   ]
  },
  {
   "cell_type": "markdown",
   "id": "80496709",
   "metadata": {},
   "source": [
    "#### Checking the min and max of all tables to see if there are any outliers\n",
    "\n",
    "- No noticable outliers in genomeTags for tag\n",
    "- No noticable outliers in genomeTags for relevace\n",
    "- No noticable outliers in tags for timestamps\n",
    "- No noticable outliers in the movies table\n",
    "- No noticable outliers in the links table\n",
    "- Ratings table: User 72314 has 32202 ratings for different movies, the next highest is user 80973 who has 9178 reviews and many of the higher users are closer to that number. There are also User 75308 has 5525 reviews that are all 5 stars, every other user that has all 5 star reviews are around 100 and the majority are in the 20s of reviews. There are some users that have several thousand reviews and have an average rating of less than 1 star, it could be that they are just picky so these users might not be outliers since there are more than just a few that follow this trend. \n",
    "\n",
    "\n",
    "\n"
   ]
  },
  {
   "cell_type": "markdown",
   "id": "cb849c2f",
   "metadata": {},
   "source": [
    "Make a graph that shows which tags are the most common, or if certain users review certain tags more than others\n",
    "\n",
    "## Graph showing a users average rating and the number of movies they have rated in the dataset"
   ]
  },
  {
   "cell_type": "code",
   "execution_count": 29,
   "id": "183a2ebe",
   "metadata": {},
   "outputs": [
    {
     "data": {
      "text/plain": [
       "Text(0.5, 1.0, \"User's Average Rating Over All Movies Watched\")"
      ]
     },
     "execution_count": 29,
     "metadata": {},
     "output_type": "execute_result"
    },
    {
     "data": {
      "image/png": "[encoded data removed]",
      "text/plain": [
       "<Figure size 432x288 with 1 Axes>"
      ]
     },
     "metadata": {
      "needs_background": "light"
     },
     "output_type": "display_data"
    }
   ],
   "source": [
    "plt.scatter(ratings_summary['avg_rating'], ratings_summary['review_count'])\n",
    "plt.xlabel(\"Average Rating\")\n",
    "plt.ylabel(\"Number of Reviews\")\n",
    "plt.title(\"User's Average Rating Over All Movies Watched\")\n"
   ]
  },
  {
   "cell_type": "markdown",
   "id": "48cdbdd9",
   "metadata": {},
   "source": [
    "As seen in the graph above the userId: 72314 has rated 32202 different movies, which is way higher than any other user (with the next highest being userId 80973 who has 9178 reviews)."
   ]
  },
  {
   "cell_type": "markdown",
   "id": "a6a42098",
   "metadata": {},
   "source": []
  },
  {
   "cell_type": "code",
   "execution_count": 57,
   "id": "0ebb5b77",
   "metadata": {},
   "outputs": [
    {
     "data": {
      "text/plain": [
       "Text(0.5, 1.0, \"User's Average Rating Over All Movies Watched\")"
      ]
     },
     "execution_count": 57,
     "metadata": {},
     "output_type": "execute_result"
    },
    {
     "data": {
      "image/png": "[encoded data removed]",
      "text/plain": [
       "<Figure size 432x288 with 1 Axes>"
      ]
     },
     "metadata": {
      "needs_background": "light"
     },
     "output_type": "display_data"
    }
   ],
   "source": [
    "fiveavg = ratings_summary.loc[(ratings_summary['avg_rating'] == 5) | (ratings_summary['avg_rating'] <= 1)]\n",
    "plt.scatter(fiveavg['avg_rating'], fiveavg['review_count'] )\n",
    "plt.xlabel(\"Average Rating <= 1 or 5.0\")\n",
    "plt.ylabel(\"Number of Reviews\")\n",
    "plt.title(\"User's Average Rating Over All Movies Watched\")"
   ]
  },
  {
   "cell_type": "markdown",
   "id": "764ed6a5",
   "metadata": {},
   "source": [
    "After looking at the above chart it seems like userId 75308 has 5525 reviews that are all 5 stars so they might be an outlier. Their data would not be very useful since they have over 5000 reviews that are all 5 stars so any analysis we do with them might skew our data. "
   ]
  },
  {
   "cell_type": "markdown",
   "id": "a64fdab5",
   "metadata": {},
   "source": [
    "## Histogram of Tags used"
   ]
  },
  {
   "cell_type": "code",
   "execution_count": 4,
   "id": "8a4072a5",
   "metadata": {},
   "outputs": [],
   "source": [
    "# Checking links for outliers\n",
    "# Check the top 10 timestamps\n",
    "\n",
    "q = \"\"\"SELECT gt.tag as gtTag, gt.tagid, t.tag\n",
    "    FROM genomeTags as gt\n",
    "    join tags as t\n",
    "    on gt.tag = t.tag;\"\"\"\n",
    "# q2 = \"\"\"SELECT *\n",
    "# FROM tags\n",
    "# where tag=\"sci-fi\";\"\"\"\n",
    "tag_count = pysqdf(q)\n",
    "# print(pysqdf(q2))"
   ]
  },
  {
   "cell_type": "code",
   "execution_count": 5,
   "id": "1336b33e",
   "metadata": {},
   "outputs": [],
   "source": [
    "tag_count_size = tag_count.groupby(tag_count.columns.tolist(),as_index=False).size()\n"
   ]
  },
  {
   "cell_type": "code",
   "execution_count": 6,
   "id": "c9fad307",
   "metadata": {},
   "outputs": [],
   "source": [
    "tag_count_size = tag_count_size.sort_values(['size'])"
   ]
  },
  {
   "cell_type": "code",
   "execution_count": 7,
   "id": "9680502e",
   "metadata": {},
   "outputs": [],
   "source": [
    "tag_count_size.to_csv(\"tag_count_sorted.csv\")\n",
    "#creates a csv of all the tages used. This is the df that is used to create the histogram bellow."
   ]
  },
  {
   "cell_type": "code",
   "execution_count": 8,
   "id": "3c74b1aa",
   "metadata": {},
   "outputs": [
    {
     "data": {
      "text/html": [
       "<div>\n",
       "<style scoped>\n",
       "    .dataframe tbody tr th:only-of-type {\n",
       "        vertical-align: middle;\n",
       "    }\n",
       "\n",
       "    .dataframe tbody tr th {\n",
       "        vertical-align: top;\n",
       "    }\n",
       "\n",
       "    .dataframe thead th {\n",
       "        text-align: right;\n",
       "    }\n",
       "</style>\n",
       "<table border=\"1\" class=\"dataframe\">\n",
       "  <thead>\n",
       "    <tr style=\"text-align: right;\">\n",
       "      <th></th>\n",
       "      <th>gtTag</th>\n",
       "      <th>tagId</th>\n",
       "      <th>tag</th>\n",
       "      <th>size</th>\n",
       "    </tr>\n",
       "  </thead>\n",
       "  <tbody>\n",
       "    <tr>\n",
       "      <th>395</th>\n",
       "      <td>francis ford copolla</td>\n",
       "      <td>407</td>\n",
       "      <td>francis ford copolla</td>\n",
       "      <td>1</td>\n",
       "    </tr>\n",
       "    <tr>\n",
       "      <th>148</th>\n",
       "      <td>boring!</td>\n",
       "      <td>156</td>\n",
       "      <td>boring!</td>\n",
       "      <td>1</td>\n",
       "    </tr>\n",
       "    <tr>\n",
       "      <th>299</th>\n",
       "      <td>disney animated feature</td>\n",
       "      <td>310</td>\n",
       "      <td>disney animated feature</td>\n",
       "      <td>1</td>\n",
       "    </tr>\n",
       "    <tr>\n",
       "      <th>284</th>\n",
       "      <td>depp &amp; burton</td>\n",
       "      <td>295</td>\n",
       "      <td>depp &amp; burton</td>\n",
       "      <td>1</td>\n",
       "    </tr>\n",
       "    <tr>\n",
       "      <th>1091</th>\n",
       "      <td>writer's life</td>\n",
       "      <td>1122</td>\n",
       "      <td>writer's life</td>\n",
       "      <td>1</td>\n",
       "    </tr>\n",
       "    <tr>\n",
       "      <th>...</th>\n",
       "      <td>...</td>\n",
       "      <td>...</td>\n",
       "      <td>...</td>\n",
       "      <td>...</td>\n",
       "    </tr>\n",
       "    <tr>\n",
       "      <th>578</th>\n",
       "      <td>lame</td>\n",
       "      <td>594</td>\n",
       "      <td>lame</td>\n",
       "      <td>48</td>\n",
       "    </tr>\n",
       "    <tr>\n",
       "      <th>115</th>\n",
       "      <td>beauty pageant</td>\n",
       "      <td>123</td>\n",
       "      <td>beauty pageant</td>\n",
       "      <td>48</td>\n",
       "    </tr>\n",
       "    <tr>\n",
       "      <th>805</th>\n",
       "      <td>rabbits</td>\n",
       "      <td>831</td>\n",
       "      <td>rabbits</td>\n",
       "      <td>48</td>\n",
       "    </tr>\n",
       "    <tr>\n",
       "      <th>791</th>\n",
       "      <td>prohibition</td>\n",
       "      <td>817</td>\n",
       "      <td>prohibition</td>\n",
       "      <td>49</td>\n",
       "    </tr>\n",
       "    <tr>\n",
       "      <th>426</th>\n",
       "      <td>glbt</td>\n",
       "      <td>440</td>\n",
       "      <td>glbt</td>\n",
       "      <td>49</td>\n",
       "    </tr>\n",
       "  </tbody>\n",
       "</table>\n",
       "<p>166 rows × 4 columns</p>\n",
       "</div>"
      ],
      "text/plain": [
       "                        gtTag  tagId                      tag  size\n",
       "395      francis ford copolla    407     francis ford copolla     1\n",
       "148                   boring!    156                  boring!     1\n",
       "299   disney animated feature    310  disney animated feature     1\n",
       "284             depp & burton    295            depp & burton     1\n",
       "1091            writer's life   1122            writer's life     1\n",
       "...                       ...    ...                      ...   ...\n",
       "578                      lame    594                     lame    48\n",
       "115            beauty pageant    123           beauty pageant    48\n",
       "805                   rabbits    831                  rabbits    48\n",
       "791               prohibition    817              prohibition    49\n",
       "426                      glbt    440                     glbt    49\n",
       "\n",
       "[166 rows x 4 columns]"
      ]
     },
     "execution_count": 8,
     "metadata": {},
     "output_type": "execute_result"
    }
   ],
   "source": [
    "tag_count_size.loc[tag_count_size['size'] < 50, ]"
   ]
  },
  {
   "cell_type": "markdown",
   "id": "fbf2f178",
   "metadata": {},
   "source": [
    "The table above is just showing that there are 166 different tags that have under 50 uses in the entire dataset. Some of these tags may not be very useful in our later analysis."
   ]
  },
  {
   "cell_type": "code",
   "execution_count": 15,
   "id": "548dff08",
   "metadata": {},
   "outputs": [
    {
     "data": {
      "text/plain": [
       "[Text(0, 0, '950'),\n",
       " Text(0, 0, '81'),\n",
       " Text(0, 0, '29'),\n",
       " Text(0, 0, '20'),\n",
       " Text(0, 0, '8'),\n",
       " Text(0, 0, '4'),\n",
       " Text(0, 0, '3'),\n",
       " Text(0, 0, '2'),\n",
       " Text(0, 0, '0'),\n",
       " Text(0, 0, '1')]"
      ]
     },
     "execution_count": 15,
     "metadata": {},
     "output_type": "execute_result"
    },
    {
     "data": {
      "image/png": "[encoded data removed]",
      "text/plain": [
       "<Figure size 640x480 with 1 Axes>"
      ]
     },
     "metadata": {},
     "output_type": "display_data"
    }
   ],
   "source": [
    "counts, edges, bars = plt.hist(tag_count_size['size'])\n",
    "plt.xlabel(\"# of times Tag Used on all Movies\")\n",
    "plt.ylabel(\"# of tags\")\n",
    "\n",
    "plt.title(\"Histogram of the numer of tags used for all movies by all users\")\n",
    "plt.bar_label(bars)\n",
    "\n"
   ]
  },
  {
   "cell_type": "markdown",
   "id": "ecfdeee2",
   "metadata": {},
   "source": [
    "The table above is a histogram that shows the number of times each tag was used. So as you can see there were 950 tags that were used less than 1000 times and only 1 tag (sci-fi) that was used around 8000 times. "
   ]
  },
  {
   "cell_type": "markdown",
   "id": "0ecb76e0",
   "metadata": {},
   "source": [
    "# Plot showing which tags were reviewed most by each user\n"
   ]
  },
  {
   "cell_type": "code",
   "execution_count": 47,
   "id": "267a2696",
   "metadata": {},
   "outputs": [
    {
     "data": {
      "text/html": [
       "<div>\n",
       "<style scoped>\n",
       "    .dataframe tbody tr th:only-of-type {\n",
       "        vertical-align: middle;\n",
       "    }\n",
       "\n",
       "    .dataframe tbody tr th {\n",
       "        vertical-align: top;\n",
       "    }\n",
       "\n",
       "    .dataframe thead th {\n",
       "        text-align: right;\n",
       "    }\n",
       "</style>\n",
       "<table border=\"1\" class=\"dataframe\">\n",
       "  <thead>\n",
       "    <tr style=\"text-align: right;\">\n",
       "      <th></th>\n",
       "      <th>userId</th>\n",
       "      <th>movieId</th>\n",
       "      <th>rating</th>\n",
       "      <th>timestamp</th>\n",
       "    </tr>\n",
       "  </thead>\n",
       "  <tbody>\n",
       "    <tr>\n",
       "      <th>0</th>\n",
       "      <td>1</td>\n",
       "      <td>296</td>\n",
       "      <td>5.0</td>\n",
       "      <td>1147880044</td>\n",
       "    </tr>\n",
       "    <tr>\n",
       "      <th>1</th>\n",
       "      <td>1</td>\n",
       "      <td>306</td>\n",
       "      <td>3.5</td>\n",
       "      <td>1147868817</td>\n",
       "    </tr>\n",
       "    <tr>\n",
       "      <th>2</th>\n",
       "      <td>1</td>\n",
       "      <td>307</td>\n",
       "      <td>5.0</td>\n",
       "      <td>1147868828</td>\n",
       "    </tr>\n",
       "    <tr>\n",
       "      <th>3</th>\n",
       "      <td>1</td>\n",
       "      <td>665</td>\n",
       "      <td>5.0</td>\n",
       "      <td>1147878820</td>\n",
       "    </tr>\n",
       "    <tr>\n",
       "      <th>4</th>\n",
       "      <td>1</td>\n",
       "      <td>899</td>\n",
       "      <td>3.5</td>\n",
       "      <td>1147868510</td>\n",
       "    </tr>\n",
       "    <tr>\n",
       "      <th>...</th>\n",
       "      <td>...</td>\n",
       "      <td>...</td>\n",
       "      <td>...</td>\n",
       "      <td>...</td>\n",
       "    </tr>\n",
       "    <tr>\n",
       "      <th>64</th>\n",
       "      <td>1</td>\n",
       "      <td>8973</td>\n",
       "      <td>4.0</td>\n",
       "      <td>1147869211</td>\n",
       "    </tr>\n",
       "    <tr>\n",
       "      <th>65</th>\n",
       "      <td>1</td>\n",
       "      <td>27193</td>\n",
       "      <td>3.0</td>\n",
       "      <td>1147879774</td>\n",
       "    </tr>\n",
       "    <tr>\n",
       "      <th>66</th>\n",
       "      <td>1</td>\n",
       "      <td>27266</td>\n",
       "      <td>4.5</td>\n",
       "      <td>1147879365</td>\n",
       "    </tr>\n",
       "    <tr>\n",
       "      <th>67</th>\n",
       "      <td>1</td>\n",
       "      <td>27721</td>\n",
       "      <td>3.0</td>\n",
       "      <td>1147869115</td>\n",
       "    </tr>\n",
       "    <tr>\n",
       "      <th>68</th>\n",
       "      <td>1</td>\n",
       "      <td>31956</td>\n",
       "      <td>3.5</td>\n",
       "      <td>1147877610</td>\n",
       "    </tr>\n",
       "  </tbody>\n",
       "</table>\n",
       "<p>69 rows × 4 columns</p>\n",
       "</div>"
      ],
      "text/plain": [
       "    userId  movieId  rating   timestamp\n",
       "0        1      296     5.0  1147880044\n",
       "1        1      306     3.5  1147868817\n",
       "2        1      307     5.0  1147868828\n",
       "3        1      665     5.0  1147878820\n",
       "4        1      899     3.5  1147868510\n",
       "..     ...      ...     ...         ...\n",
       "64       1     8973     4.0  1147869211\n",
       "65       1    27193     3.0  1147879774\n",
       "66       1    27266     4.5  1147879365\n",
       "67       1    27721     3.0  1147869115\n",
       "68       1    31956     3.5  1147877610\n",
       "\n",
       "[69 rows x 4 columns]"
      ]
     },
     "execution_count": 47,
     "metadata": {},
     "output_type": "execute_result"
    }
   ],
   "source": [
    "ratings_small = ratings.head(69)\n",
    "ratings_small"
   ]
  },
  {
   "cell_type": "code",
   "execution_count": 64,
   "id": "7755e70a",
   "metadata": {},
   "outputs": [],
   "source": [
    "q = \"\"\"select userId, genres, Max(genreCount), avg_rating from (Select s.userId, m.genres, count(m.genres) as genreCount, avg(s.rating) as avg_rating\n",
    "    from (SELECT t.userId, t.movieId, t.rating\n",
    "    FROM ratings_small as t\n",
    "    group by t.userId, t.movieId) as s\n",
    "    join movies_split as m\n",
    "    on s.movieId = m.movieId\n",
    "    group by userId, genres)as k \n",
    "    group by userId;\"\"\"\n",
    "q2 = \"\"\"Select s.userId, m.genres, count(m.genres) as genreCount, avg(s.rating) as avg_rating\n",
    "    from (SELECT t.userId, t.movieId, t.rating\n",
    "    FROM ratings_small as t\n",
    "    group by t.userId, t.movieId) as s\n",
    "    join movies_split as m\n",
    "    on s.movieId = m.movieId\n",
    "    group by userId, genres;\"\"\"\n",
    "\n",
    "q3 =   \"\"\"SELECT t.userId, t.movieId, t.rating\n",
    "    FROM ratings_small as t\n",
    "    group by t.userId, t.movieId;\"\"\"\n",
    "uid_count = pysqdf(q)\n",
    "uid_count_inner = pysqdf(q2)\n",
    "uid_count_inner_inner = pysqdf(q3)"
   ]
  },
  {
   "cell_type": "code",
   "execution_count": 65,
   "id": "79e12c9a",
   "metadata": {},
   "outputs": [
    {
     "data": {
      "text/html": [
       "<div>\n",
       "<style scoped>\n",
       "    .dataframe tbody tr th:only-of-type {\n",
       "        vertical-align: middle;\n",
       "    }\n",
       "\n",
       "    .dataframe tbody tr th {\n",
       "        vertical-align: top;\n",
       "    }\n",
       "\n",
       "    .dataframe thead th {\n",
       "        text-align: right;\n",
       "    }\n",
       "</style>\n",
       "<table border=\"1\" class=\"dataframe\">\n",
       "  <thead>\n",
       "    <tr style=\"text-align: right;\">\n",
       "      <th></th>\n",
       "      <th>userId</th>\n",
       "      <th>movieId</th>\n",
       "      <th>rating</th>\n",
       "    </tr>\n",
       "  </thead>\n",
       "  <tbody>\n",
       "    <tr>\n",
       "      <th>0</th>\n",
       "      <td>1</td>\n",
       "      <td>296</td>\n",
       "      <td>5.0</td>\n",
       "    </tr>\n",
       "    <tr>\n",
       "      <th>1</th>\n",
       "      <td>1</td>\n",
       "      <td>306</td>\n",
       "      <td>3.5</td>\n",
       "    </tr>\n",
       "    <tr>\n",
       "      <th>2</th>\n",
       "      <td>1</td>\n",
       "      <td>307</td>\n",
       "      <td>5.0</td>\n",
       "    </tr>\n",
       "    <tr>\n",
       "      <th>3</th>\n",
       "      <td>1</td>\n",
       "      <td>665</td>\n",
       "      <td>5.0</td>\n",
       "    </tr>\n",
       "    <tr>\n",
       "      <th>4</th>\n",
       "      <td>1</td>\n",
       "      <td>899</td>\n",
       "      <td>3.5</td>\n",
       "    </tr>\n",
       "    <tr>\n",
       "      <th>...</th>\n",
       "      <td>...</td>\n",
       "      <td>...</td>\n",
       "      <td>...</td>\n",
       "    </tr>\n",
       "    <tr>\n",
       "      <th>64</th>\n",
       "      <td>1</td>\n",
       "      <td>8973</td>\n",
       "      <td>4.0</td>\n",
       "    </tr>\n",
       "    <tr>\n",
       "      <th>65</th>\n",
       "      <td>1</td>\n",
       "      <td>27193</td>\n",
       "      <td>3.0</td>\n",
       "    </tr>\n",
       "    <tr>\n",
       "      <th>66</th>\n",
       "      <td>1</td>\n",
       "      <td>27266</td>\n",
       "      <td>4.5</td>\n",
       "    </tr>\n",
       "    <tr>\n",
       "      <th>67</th>\n",
       "      <td>1</td>\n",
       "      <td>27721</td>\n",
       "      <td>3.0</td>\n",
       "    </tr>\n",
       "    <tr>\n",
       "      <th>68</th>\n",
       "      <td>1</td>\n",
       "      <td>31956</td>\n",
       "      <td>3.5</td>\n",
       "    </tr>\n",
       "  </tbody>\n",
       "</table>\n",
       "<p>69 rows × 3 columns</p>\n",
       "</div>"
      ],
      "text/plain": [
       "    userId  movieId  rating\n",
       "0        1      296     5.0\n",
       "1        1      306     3.5\n",
       "2        1      307     5.0\n",
       "3        1      665     5.0\n",
       "4        1      899     3.5\n",
       "..     ...      ...     ...\n",
       "64       1     8973     4.0\n",
       "65       1    27193     3.0\n",
       "66       1    27266     4.5\n",
       "67       1    27721     3.0\n",
       "68       1    31956     3.5\n",
       "\n",
       "[69 rows x 3 columns]"
      ]
     },
     "execution_count": 65,
     "metadata": {},
     "output_type": "execute_result"
    }
   ],
   "source": [
    "uid_count_inner_inner[uid_count_inner_inner[\"userId\"] == 1]"
   ]
  },
  {
   "cell_type": "code",
   "execution_count": 66,
   "id": "01338cdb",
   "metadata": {},
   "outputs": [
    {
     "data": {
      "text/html": [
       "<div>\n",
       "<style scoped>\n",
       "    .dataframe tbody tr th:only-of-type {\n",
       "        vertical-align: middle;\n",
       "    }\n",
       "\n",
       "    .dataframe tbody tr th {\n",
       "        vertical-align: top;\n",
       "    }\n",
       "\n",
       "    .dataframe thead th {\n",
       "        text-align: right;\n",
       "    }\n",
       "</style>\n",
       "<table border=\"1\" class=\"dataframe\">\n",
       "  <thead>\n",
       "    <tr style=\"text-align: right;\">\n",
       "      <th></th>\n",
       "      <th>userId</th>\n",
       "      <th>genres</th>\n",
       "      <th>Max(genreCount)</th>\n",
       "      <th>avg_rating</th>\n",
       "    </tr>\n",
       "  </thead>\n",
       "  <tbody>\n",
       "    <tr>\n",
       "      <th>0</th>\n",
       "      <td>1</td>\n",
       "      <td>Drama</td>\n",
       "      <td>52</td>\n",
       "      <td>3.846154</td>\n",
       "    </tr>\n",
       "  </tbody>\n",
       "</table>\n",
       "</div>"
      ],
      "text/plain": [
       "   userId genres  Max(genreCount)  avg_rating\n",
       "0       1  Drama               52    3.846154"
      ]
     },
     "execution_count": 66,
     "metadata": {},
     "output_type": "execute_result"
    }
   ],
   "source": [
    "uid_count"
   ]
  },
  {
   "cell_type": "code",
   "execution_count": 67,
   "id": "c1cd5aea",
   "metadata": {},
   "outputs": [
    {
     "data": {
      "text/html": [
       "<div>\n",
       "<style scoped>\n",
       "    .dataframe tbody tr th:only-of-type {\n",
       "        vertical-align: middle;\n",
       "    }\n",
       "\n",
       "    .dataframe tbody tr th {\n",
       "        vertical-align: top;\n",
       "    }\n",
       "\n",
       "    .dataframe thead th {\n",
       "        text-align: right;\n",
       "    }\n",
       "</style>\n",
       "<table border=\"1\" class=\"dataframe\">\n",
       "  <thead>\n",
       "    <tr style=\"text-align: right;\">\n",
       "      <th></th>\n",
       "      <th>userId</th>\n",
       "      <th>genres</th>\n",
       "      <th>genreCount</th>\n",
       "      <th>avg_rating</th>\n",
       "    </tr>\n",
       "  </thead>\n",
       "  <tbody>\n",
       "    <tr>\n",
       "      <th>0</th>\n",
       "      <td>1</td>\n",
       "      <td>Action</td>\n",
       "      <td>4</td>\n",
       "      <td>4.125000</td>\n",
       "    </tr>\n",
       "    <tr>\n",
       "      <th>1</th>\n",
       "      <td>1</td>\n",
       "      <td>Adventure</td>\n",
       "      <td>11</td>\n",
       "      <td>3.727273</td>\n",
       "    </tr>\n",
       "    <tr>\n",
       "      <th>2</th>\n",
       "      <td>1</td>\n",
       "      <td>Animation</td>\n",
       "      <td>2</td>\n",
       "      <td>4.000000</td>\n",
       "    </tr>\n",
       "    <tr>\n",
       "      <th>3</th>\n",
       "      <td>1</td>\n",
       "      <td>Children</td>\n",
       "      <td>3</td>\n",
       "      <td>3.833333</td>\n",
       "    </tr>\n",
       "    <tr>\n",
       "      <th>4</th>\n",
       "      <td>1</td>\n",
       "      <td>Comedy</td>\n",
       "      <td>22</td>\n",
       "      <td>3.818182</td>\n",
       "    </tr>\n",
       "    <tr>\n",
       "      <th>5</th>\n",
       "      <td>1</td>\n",
       "      <td>Crime</td>\n",
       "      <td>8</td>\n",
       "      <td>4.062500</td>\n",
       "    </tr>\n",
       "    <tr>\n",
       "      <th>6</th>\n",
       "      <td>1</td>\n",
       "      <td>Documentary</td>\n",
       "      <td>1</td>\n",
       "      <td>2.000000</td>\n",
       "    </tr>\n",
       "    <tr>\n",
       "      <th>7</th>\n",
       "      <td>1</td>\n",
       "      <td>Drama</td>\n",
       "      <td>52</td>\n",
       "      <td>3.846154</td>\n",
       "    </tr>\n",
       "    <tr>\n",
       "      <th>8</th>\n",
       "      <td>1</td>\n",
       "      <td>Fantasy</td>\n",
       "      <td>5</td>\n",
       "      <td>3.600000</td>\n",
       "    </tr>\n",
       "    <tr>\n",
       "      <th>9</th>\n",
       "      <td>1</td>\n",
       "      <td>Film-Noir</td>\n",
       "      <td>1</td>\n",
       "      <td>3.500000</td>\n",
       "    </tr>\n",
       "    <tr>\n",
       "      <th>10</th>\n",
       "      <td>1</td>\n",
       "      <td>Horror</td>\n",
       "      <td>1</td>\n",
       "      <td>3.500000</td>\n",
       "    </tr>\n",
       "    <tr>\n",
       "      <th>11</th>\n",
       "      <td>1</td>\n",
       "      <td>Musical</td>\n",
       "      <td>5</td>\n",
       "      <td>3.700000</td>\n",
       "    </tr>\n",
       "    <tr>\n",
       "      <th>12</th>\n",
       "      <td>1</td>\n",
       "      <td>Mystery</td>\n",
       "      <td>4</td>\n",
       "      <td>3.500000</td>\n",
       "    </tr>\n",
       "    <tr>\n",
       "      <th>13</th>\n",
       "      <td>1</td>\n",
       "      <td>Romance</td>\n",
       "      <td>17</td>\n",
       "      <td>4.117647</td>\n",
       "    </tr>\n",
       "    <tr>\n",
       "      <th>14</th>\n",
       "      <td>1</td>\n",
       "      <td>Sci-Fi</td>\n",
       "      <td>5</td>\n",
       "      <td>3.700000</td>\n",
       "    </tr>\n",
       "    <tr>\n",
       "      <th>15</th>\n",
       "      <td>1</td>\n",
       "      <td>Thriller</td>\n",
       "      <td>5</td>\n",
       "      <td>4.300000</td>\n",
       "    </tr>\n",
       "    <tr>\n",
       "      <th>16</th>\n",
       "      <td>1</td>\n",
       "      <td>War</td>\n",
       "      <td>5</td>\n",
       "      <td>3.900000</td>\n",
       "    </tr>\n",
       "    <tr>\n",
       "      <th>17</th>\n",
       "      <td>1</td>\n",
       "      <td>Western</td>\n",
       "      <td>1</td>\n",
       "      <td>2.500000</td>\n",
       "    </tr>\n",
       "  </tbody>\n",
       "</table>\n",
       "</div>"
      ],
      "text/plain": [
       "    userId       genres  genreCount  avg_rating\n",
       "0        1       Action           4    4.125000\n",
       "1        1    Adventure          11    3.727273\n",
       "2        1    Animation           2    4.000000\n",
       "3        1     Children           3    3.833333\n",
       "4        1       Comedy          22    3.818182\n",
       "5        1        Crime           8    4.062500\n",
       "6        1  Documentary           1    2.000000\n",
       "7        1        Drama          52    3.846154\n",
       "8        1      Fantasy           5    3.600000\n",
       "9        1    Film-Noir           1    3.500000\n",
       "10       1       Horror           1    3.500000\n",
       "11       1      Musical           5    3.700000\n",
       "12       1      Mystery           4    3.500000\n",
       "13       1      Romance          17    4.117647\n",
       "14       1       Sci-Fi           5    3.700000\n",
       "15       1     Thriller           5    4.300000\n",
       "16       1          War           5    3.900000\n",
       "17       1      Western           1    2.500000"
      ]
     },
     "execution_count": 67,
     "metadata": {},
     "output_type": "execute_result"
    }
   ],
   "source": [
    "uid_count_inner"
   ]
  },
  {
   "cell_type": "code",
   "execution_count": 115,
   "id": "39d71cd5",
   "metadata": {},
   "outputs": [
    {
     "data": {
      "text/plain": [
       "Text(0.5, 1.0, \"User 1's Average Rating of Specific Genres\")"
      ]
     },
     "execution_count": 115,
     "metadata": {},
     "output_type": "execute_result"
    },
    {
     "data": {
      "image/png": "[encoded data removed]",
      "text/plain": [
       "<Figure size 640x480 with 1 Axes>"
      ]
     },
     "metadata": {},
     "output_type": "display_data"
    }
   ],
   "source": [
    "\n",
    "for i in range(0, len(uid_count_inner['genreCount'])):\n",
    "    plt.scatter(x=uid_count_inner['genreCount'][i], y=uid_count_inner['avg_rating'][i])\n",
    "plt.grid(True)\n",
    "plt.legend(uid_count_inner[\"genres\"], bbox_to_anchor=(1.02, 1))\n",
    "plt.xlabel(\"# of movies with Specific Genre\")\n",
    "plt.ylabel(\"Average rating of a genre\")\n",
    "plt.title(\"User 1's Average Rating of Specific Genres\")"
   ]
  },
  {
   "cell_type": "markdown",
   "id": "c5b3cb0e",
   "metadata": {},
   "source": [
    "The graph above shows how user 1 rated the different genres they watched. This will help us later when we start finding what users like what movies so we can find movies poeple might like based on what they say their favorite genres are. So in this instance we can see that this user watches a lot of Drama and their average rating for that is just under 4.0. So if we have a user looking for Drama movies we can pull up user 1 and see they have watched a lot of Drama and have it rated fairly high, then we can look at just their drama movies they reviewed and see which ones of those have high ratings ( such as 4.0 or higher) and use that to determine what movie we recomend. This could be done on a larger scale by taking into account multiple users and compiling that data to get a better idea of what a good movie might be. "
   ]
  },
  {
   "cell_type": "code",
   "execution_count": 51,
   "id": "97a345a8",
   "metadata": {},
   "outputs": [
    {
     "data": {
      "text/html": [
       "<div>\n",
       "<style scoped>\n",
       "    .dataframe tbody tr th:only-of-type {\n",
       "        vertical-align: middle;\n",
       "    }\n",
       "\n",
       "    .dataframe tbody tr th {\n",
       "        vertical-align: top;\n",
       "    }\n",
       "\n",
       "    .dataframe thead th {\n",
       "        text-align: right;\n",
       "    }\n",
       "</style>\n",
       "<table border=\"1\" class=\"dataframe\">\n",
       "  <thead>\n",
       "    <tr style=\"text-align: right;\">\n",
       "      <th></th>\n",
       "      <th>movieId</th>\n",
       "      <th>title</th>\n",
       "      <th>genres</th>\n",
       "    </tr>\n",
       "  </thead>\n",
       "  <tbody>\n",
       "    <tr>\n",
       "      <th>1147</th>\n",
       "      <td>1175</td>\n",
       "      <td>Delicatessen (1991)</td>\n",
       "      <td>Comedy</td>\n",
       "    </tr>\n",
       "    <tr>\n",
       "      <th>1147</th>\n",
       "      <td>1175</td>\n",
       "      <td>Delicatessen (1991)</td>\n",
       "      <td>Drama</td>\n",
       "    </tr>\n",
       "    <tr>\n",
       "      <th>1147</th>\n",
       "      <td>1175</td>\n",
       "      <td>Delicatessen (1991)</td>\n",
       "      <td>Romance</td>\n",
       "    </tr>\n",
       "  </tbody>\n",
       "</table>\n",
       "</div>"
      ],
      "text/plain": [
       "      movieId                title   genres\n",
       "1147     1175  Delicatessen (1991)   Comedy\n",
       "1147     1175  Delicatessen (1991)    Drama\n",
       "1147     1175  Delicatessen (1991)  Romance"
      ]
     },
     "execution_count": 51,
     "metadata": {},
     "output_type": "execute_result"
    }
   ],
   "source": [
    "movies_split[movies_split[\"movieId\"] == 1175]"
   ]
  },
  {
   "cell_type": "code",
   "execution_count": 55,
   "id": "3df7429d",
   "metadata": {},
   "outputs": [
    {
     "data": {
      "text/html": [
       "<div>\n",
       "<style scoped>\n",
       "    .dataframe tbody tr th:only-of-type {\n",
       "        vertical-align: middle;\n",
       "    }\n",
       "\n",
       "    .dataframe tbody tr th {\n",
       "        vertical-align: top;\n",
       "    }\n",
       "\n",
       "    .dataframe thead th {\n",
       "        text-align: right;\n",
       "    }\n",
       "</style>\n",
       "<table border=\"1\" class=\"dataframe\">\n",
       "  <thead>\n",
       "    <tr style=\"text-align: right;\">\n",
       "      <th></th>\n",
       "      <th>userId</th>\n",
       "      <th>movieId</th>\n",
       "      <th>rating</th>\n",
       "    </tr>\n",
       "  </thead>\n",
       "  <tbody>\n",
       "    <tr>\n",
       "      <th>0</th>\n",
       "      <td>1</td>\n",
       "      <td>296</td>\n",
       "      <td>5.0</td>\n",
       "    </tr>\n",
       "    <tr>\n",
       "      <th>1</th>\n",
       "      <td>1</td>\n",
       "      <td>306</td>\n",
       "      <td>3.5</td>\n",
       "    </tr>\n",
       "    <tr>\n",
       "      <th>2</th>\n",
       "      <td>1</td>\n",
       "      <td>307</td>\n",
       "      <td>5.0</td>\n",
       "    </tr>\n",
       "    <tr>\n",
       "      <th>3</th>\n",
       "      <td>1</td>\n",
       "      <td>665</td>\n",
       "      <td>5.0</td>\n",
       "    </tr>\n",
       "    <tr>\n",
       "      <th>4</th>\n",
       "      <td>1</td>\n",
       "      <td>899</td>\n",
       "      <td>3.5</td>\n",
       "    </tr>\n",
       "    <tr>\n",
       "      <th>...</th>\n",
       "      <td>...</td>\n",
       "      <td>...</td>\n",
       "      <td>...</td>\n",
       "    </tr>\n",
       "    <tr>\n",
       "      <th>64</th>\n",
       "      <td>1</td>\n",
       "      <td>8973</td>\n",
       "      <td>4.0</td>\n",
       "    </tr>\n",
       "    <tr>\n",
       "      <th>65</th>\n",
       "      <td>1</td>\n",
       "      <td>27193</td>\n",
       "      <td>3.0</td>\n",
       "    </tr>\n",
       "    <tr>\n",
       "      <th>66</th>\n",
       "      <td>1</td>\n",
       "      <td>27266</td>\n",
       "      <td>4.5</td>\n",
       "    </tr>\n",
       "    <tr>\n",
       "      <th>67</th>\n",
       "      <td>1</td>\n",
       "      <td>27721</td>\n",
       "      <td>3.0</td>\n",
       "    </tr>\n",
       "    <tr>\n",
       "      <th>68</th>\n",
       "      <td>1</td>\n",
       "      <td>31956</td>\n",
       "      <td>3.5</td>\n",
       "    </tr>\n",
       "  </tbody>\n",
       "</table>\n",
       "<p>69 rows × 3 columns</p>\n",
       "</div>"
      ],
      "text/plain": [
       "    userId  movieId  rating\n",
       "0        1      296     5.0\n",
       "1        1      306     3.5\n",
       "2        1      307     5.0\n",
       "3        1      665     5.0\n",
       "4        1      899     3.5\n",
       "..     ...      ...     ...\n",
       "64       1     8973     4.0\n",
       "65       1    27193     3.0\n",
       "66       1    27266     4.5\n",
       "67       1    27721     3.0\n",
       "68       1    31956     3.5\n",
       "\n",
       "[69 rows x 3 columns]"
      ]
     },
     "execution_count": 55,
     "metadata": {},
     "output_type": "execute_result"
    }
   ],
   "source": [
    "uid_count_inner_inner[uid_count_inner_inner[\"userId\"] == 1]"
   ]
  },
  {
   "cell_type": "code",
   "execution_count": 60,
   "id": "2a24ad0b",
   "metadata": {},
   "outputs": [
    {
     "data": {
      "text/html": [
       "<div>\n",
       "<style scoped>\n",
       "    .dataframe tbody tr th:only-of-type {\n",
       "        vertical-align: middle;\n",
       "    }\n",
       "\n",
       "    .dataframe tbody tr th {\n",
       "        vertical-align: top;\n",
       "    }\n",
       "\n",
       "    .dataframe thead th {\n",
       "        text-align: right;\n",
       "    }\n",
       "</style>\n",
       "<table border=\"1\" class=\"dataframe\">\n",
       "  <thead>\n",
       "    <tr style=\"text-align: right;\">\n",
       "      <th></th>\n",
       "      <th>userId</th>\n",
       "      <th>movieId</th>\n",
       "      <th>genres</th>\n",
       "      <th>count(m.genres)</th>\n",
       "    </tr>\n",
       "  </thead>\n",
       "  <tbody>\n",
       "    <tr>\n",
       "      <th>261694</th>\n",
       "      <td>75308</td>\n",
       "      <td>16</td>\n",
       "      <td>Crime</td>\n",
       "      <td>1</td>\n",
       "    </tr>\n",
       "    <tr>\n",
       "      <th>261695</th>\n",
       "      <td>75308</td>\n",
       "      <td>16</td>\n",
       "      <td>Drama</td>\n",
       "      <td>1</td>\n",
       "    </tr>\n",
       "  </tbody>\n",
       "</table>\n",
       "</div>"
      ],
      "text/plain": [
       "        userId  movieId genres  count(m.genres)\n",
       "261694   75308       16  Crime                1\n",
       "261695   75308       16  Drama                1"
      ]
     },
     "execution_count": 60,
     "metadata": {},
     "output_type": "execute_result"
    }
   ],
   "source": [
    "uid_count[uid_count['userId'] == 75308]"
   ]
  },
  {
   "cell_type": "code",
   "execution_count": null,
   "id": "4bf0c24b",
   "metadata": {},
   "outputs": [],
   "source": [
    "plt.scatter(ratings_summary['avg_rating'], ratings_summary['review_count'])\n",
    "plt.xlabel(\"Average Rating\")\n",
    "plt.ylabel(\"Number of Reviews\")\n",
    "plt.title(\"User's Average Rating Over All Movies Watched\")\n"
   ]
  },
  {
   "cell_type": "markdown",
   "id": "dbde9033",
   "metadata": {},
   "source": [
    "# accessing imdb to get year"
   ]
  },
  {
   "cell_type": "code",
   "execution_count": 65,
   "id": "94013b4b",
   "metadata": {},
   "outputs": [
    {
     "data": {
      "text/html": [
       "<div>\n",
       "<style scoped>\n",
       "    .dataframe tbody tr th:only-of-type {\n",
       "        vertical-align: middle;\n",
       "    }\n",
       "\n",
       "    .dataframe tbody tr th {\n",
       "        vertical-align: top;\n",
       "    }\n",
       "\n",
       "    .dataframe thead th {\n",
       "        text-align: right;\n",
       "    }\n",
       "</style>\n",
       "<table border=\"1\" class=\"dataframe\">\n",
       "  <thead>\n",
       "    <tr style=\"text-align: right;\">\n",
       "      <th></th>\n",
       "      <th>movieId</th>\n",
       "      <th>imdbId</th>\n",
       "      <th>tmdbId</th>\n",
       "    </tr>\n",
       "  </thead>\n",
       "  <tbody>\n",
       "    <tr>\n",
       "      <th>0</th>\n",
       "      <td>1</td>\n",
       "      <td>114709</td>\n",
       "      <td>862.0</td>\n",
       "    </tr>\n",
       "    <tr>\n",
       "      <th>1</th>\n",
       "      <td>2</td>\n",
       "      <td>113497</td>\n",
       "      <td>8844.0</td>\n",
       "    </tr>\n",
       "    <tr>\n",
       "      <th>2</th>\n",
       "      <td>3</td>\n",
       "      <td>113228</td>\n",
       "      <td>15602.0</td>\n",
       "    </tr>\n",
       "    <tr>\n",
       "      <th>3</th>\n",
       "      <td>4</td>\n",
       "      <td>114885</td>\n",
       "      <td>31357.0</td>\n",
       "    </tr>\n",
       "    <tr>\n",
       "      <th>4</th>\n",
       "      <td>5</td>\n",
       "      <td>113041</td>\n",
       "      <td>11862.0</td>\n",
       "    </tr>\n",
       "    <tr>\n",
       "      <th>...</th>\n",
       "      <td>...</td>\n",
       "      <td>...</td>\n",
       "      <td>...</td>\n",
       "    </tr>\n",
       "    <tr>\n",
       "      <th>62418</th>\n",
       "      <td>209157</td>\n",
       "      <td>6671244</td>\n",
       "      <td>499546.0</td>\n",
       "    </tr>\n",
       "    <tr>\n",
       "      <th>62419</th>\n",
       "      <td>209159</td>\n",
       "      <td>297986</td>\n",
       "      <td>63407.0</td>\n",
       "    </tr>\n",
       "    <tr>\n",
       "      <th>62420</th>\n",
       "      <td>209163</td>\n",
       "      <td>6755366</td>\n",
       "      <td>553036.0</td>\n",
       "    </tr>\n",
       "    <tr>\n",
       "      <th>62421</th>\n",
       "      <td>209169</td>\n",
       "      <td>249603</td>\n",
       "      <td>162892.0</td>\n",
       "    </tr>\n",
       "    <tr>\n",
       "      <th>62422</th>\n",
       "      <td>209171</td>\n",
       "      <td>55323</td>\n",
       "      <td>79513.0</td>\n",
       "    </tr>\n",
       "  </tbody>\n",
       "</table>\n",
       "<p>62423 rows × 3 columns</p>\n",
       "</div>"
      ],
      "text/plain": [
       "       movieId   imdbId    tmdbId\n",
       "0            1   114709     862.0\n",
       "1            2   113497    8844.0\n",
       "2            3   113228   15602.0\n",
       "3            4   114885   31357.0\n",
       "4            5   113041   11862.0\n",
       "...        ...      ...       ...\n",
       "62418   209157  6671244  499546.0\n",
       "62419   209159   297986   63407.0\n",
       "62420   209163  6755366  553036.0\n",
       "62421   209169   249603  162892.0\n",
       "62422   209171    55323   79513.0\n",
       "\n",
       "[62423 rows x 3 columns]"
      ]
     },
     "execution_count": 65,
     "metadata": {},
     "output_type": "execute_result"
    }
   ],
   "source": [
    "links"
   ]
  },
  {
   "cell_type": "code",
   "execution_count": 67,
   "id": "ac2811aa",
   "metadata": {},
   "outputs": [
    {
     "name": "stdout",
     "output_type": "stream",
     "text": [
      "Toy Story : 1995\n"
     ]
    }
   ],
   "source": [
    "# Install this for this to work: pip install imdbpy\n",
    "\n",
    "# importing the module\n",
    "import imdb\n",
    "   \n",
    "# creating instance of IMDb\n",
    "ia = imdb.IMDb()\n",
    "   \n",
    "# getting the movie with id\n",
    "search = ia.get_movie(\"114709\")\n",
    "  \n",
    "# getting movie year\n",
    "year = search['year']\n",
    "  \n",
    "# printing movie name and year\n",
    "print(search['title'] + \" : \" + str(year))"
   ]
  },
  {
   "cell_type": "code",
   "execution_count": null,
   "id": "cd2b2ca2",
   "metadata": {},
   "outputs": [],
   "source": [
    "q = \"\"\"SELECT gt.tag as gtTag, gt.tagid, t.tag\n",
    "    FROM genomeTags as gt\n",
    "    join tags as t\n",
    "    on gt.tag = t.tag;\"\"\""
   ]
  }
 ],
 "metadata": {
  "kernelspec": {
   "display_name": "Python 3.9.12 ('base')",
   "language": "python",
   "name": "python3"
  },
  "language_info": {
   "codemirror_mode": {
    "name": "ipython",
    "version": 3
   },
   "file_extension": ".py",
   "mimetype": "text/x-python",
   "name": "python",
   "nbconvert_exporter": "python",
   "pygments_lexer": "ipython3",
   "version": "3.9.12"
  },
  "vscode": {
   "interpreter": {
    "hash": "ad2bdc8ecc057115af97d19610ffacc2b4e99fae6737bb82f5d7fb13d2f2c186"
   }
  }
 },
 "nbformat": 4,
 "nbformat_minor": 5
}
