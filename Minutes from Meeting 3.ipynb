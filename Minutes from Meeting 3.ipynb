{
 "cells": [
  {
   "cell_type": "markdown",
   "id": "b0ff0373",
   "metadata": {},
   "source": [
    "Discussed agenda:\n",
    "\n",
    "Ryan talked about the tables he has built so far.  \n",
    "\n",
    "Cleaning has been conducted.  Found 107 and 16 null values.\n",
    "\n",
    "Found some outliers in the data as well.  Two are most notable in the data.\n",
    "\n",
    "We went over the charts that were created by Ryan."
   ]
  },
  {
   "cell_type": "markdown",
   "id": "9f2e7fb6",
   "metadata": {},
   "source": [
    "  Things that need done:\n",
    "  \n",
    "  Refine Introduction\n",
    "  Refine Data source and collection\n",
    "  Data Manipulation\n",
    "  Data Summariation and visualization\n",
    "      Include 4 graphs.  "
   ]
  },
  {
   "cell_type": "markdown",
   "id": "1b51a8b8",
   "metadata": {},
   "source": [
    "-\tMake a chart with all tags on a scatter plot that is color coded by genre.  Work on the Intro.  Charles\n",
    "\n",
    "-\tMake a chart with all users and two tags that plots x and Y value of our most reviewed movie genre.  Ben/Ryan\t\n",
    "\n",
    "May not need to do dimension reduction because our data set is precise. \n"
   ]
  }
 ],
 "metadata": {
  "kernelspec": {
   "display_name": "Python 3 (ipykernel)",
   "language": "python",
   "name": "python3"
  },
  "language_info": {
   "codemirror_mode": {
    "name": "ipython",
    "version": 3
   },
   "file_extension": ".py",
   "mimetype": "text/x-python",
   "name": "python",
   "nbconvert_exporter": "python",
   "pygments_lexer": "ipython3",
   "version": "3.10.6"
  }
 },
 "nbformat": 4,
 "nbformat_minor": 5
}
